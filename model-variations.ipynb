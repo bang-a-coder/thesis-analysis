{
 "cells": [
  {
   "cell_type": "code",
   "execution_count": 2,
   "metadata": {},
   "outputs": [
    {
     "name": "stderr",
     "output_type": "stream",
     "text": [
      "/usr/local/lib/python3.9/site-packages/statsmodels/compat/pandas.py:65: FutureWarning: pandas.Int64Index is deprecated and will be removed from pandas in a future version. Use pandas.Index with the appropriate dtype instead.\n",
      "  from pandas import Int64Index as NumericIndex\n"
     ]
    }
   ],
   "source": [
    "import pandas as pd\n",
    "import dask as dd\n",
    "import numpy as np\n",
    "import seaborn as sns\n",
    "import matplotlib.pyplot as plt\n",
    "import datetime as dt\n",
    "import statsmodels.formula.api as smf\n",
    "import statistics\n",
    "\n",
    "from sklearn.linear_model import LogisticRegression\n",
    "\n",
    "import statsmodels.api as sm\n",
    "from statsmodels.genmod.generalized_linear_model import GLM\n",
    "from statsmodels.genmod import families\n",
    "from statsmodels.stats.outliers_influence import variance_inflation_factor\n",
    "\n",
    "from scipy import stats"
   ]
  },
  {
   "cell_type": "code",
   "execution_count": 3,
   "metadata": {},
   "outputs": [],
   "source": [
    "def basePrep(df):\n",
    "\tdf['rndf'] = df['rndf'].map({\"Yes\": 1, \"No\": 0})\n",
    "\tdf['pdynamic'] = df['pdynamic'].map({'new_entrant': 1, 'incumbent': 0})\t\n",
    "\tdf[\"SNATION_PARTAL\".lower()] = df[\"SNATION_PARTAL\".lower()].map({\"Y\": 1, \"N\": 0})\n",
    "\tdf['cr_bor_part'] = df['cr_bor_part'].map({\"Y\": 1, \"N\": 0})\n",
    "\tdf['saf'] = df['saf'].map({\"Y\": 1, \"N\": 0})\n",
    "\tdf['mfgf'] = df['mfgf'].map({\"Yes\": 1, \"No\": 0})\n",
    "\tdf['jvf'] = df['jvf'].map({'Yes': 1, 'No': 0})\n",
    "\tdf['natc_n'] = df['natc'].astype('category').cat.codes\n",
    "\t\n",
    "\tcols = ['rndf', 'jvf','ddist_bin','ddist_int', 'ddist_abs', 'ddist_year',\n",
    "\t\t'avg_emp_pp', 'public_count', 'pdynamic', \"SNATION_PARTAL\".lower(), \n",
    "\t\t'cr_bor_part', 'mfgf', 'avg_emp_pp_log', 'saf', 'natc_n']\n",
    "\tdf = df[cols].dropna()\n",
    "\t\n",
    "\treturn df\n",
    "\n",
    "def variation(df):\n",
    "\tcols = ['rndf', 'ddist_bin','ddist_int', 'ddist_abs', 'ddist_year', 'avg_emp_pp', 'public_count', \n",
    "\t\t\t\"SNATION_PARTAL\".lower(), 'cr_bor_part', 'mfgf', 'saf', 'natc_n']\n",
    "\tX = (df[cols]).astype(float)\n",
    "\ty = df['pdynamic'].astype(float)\n",
    "\tX_constant = sm.add_constant(X, prepend=False)\n",
    "\n",
    "\tlogit_model = GLM(y, X_constant, family=families.Binomial())\n",
    "\tlogit_results = logit_model.fit()\n",
    "\tprint(logit_results.summary())"
   ]
  },
  {
   "cell_type": "markdown",
   "metadata": {},
   "source": [
    "## Try all potential variables"
   ]
  },
  {
   "cell_type": "code",
   "execution_count": 4,
   "metadata": {},
   "outputs": [
    {
     "name": "stdout",
     "output_type": "stream",
     "text": [
      "                 Generalized Linear Model Regression Results                  \n",
      "==============================================================================\n",
      "Dep. Variable:               pdynamic   No. Observations:                  729\n",
      "Model:                            GLM   Df Residuals:                      716\n",
      "Model Family:                Binomial   Df Model:                           12\n",
      "Link Function:                  Logit   Scale:                          1.0000\n",
      "Method:                          IRLS   Log-Likelihood:                -425.86\n",
      "Date:                Fri, 17 Jun 2022   Deviance:                       851.71\n",
      "Time:                        18:43:37   Pearson chi2:                     753.\n",
      "No. Iterations:                    19   Pseudo R-squ. (CS):             0.1367\n",
      "Covariance Type:            nonrobust                                         \n",
      "==================================================================================\n",
      "                     coef    std err          z      P>|z|      [0.025      0.975]\n",
      "----------------------------------------------------------------------------------\n",
      "rndf               0.3038      0.318      0.955      0.340      -0.320       0.928\n",
      "ddist_bin         -0.5155      0.335     -1.540      0.123      -1.172       0.140\n",
      "ddist_int         -0.0004      0.001     -0.479      0.632      -0.002       0.001\n",
      "ddist_abs      -4.731e-05      0.000     -0.352      0.725      -0.000       0.000\n",
      "ddist_year         0.1990      0.306      0.650      0.516      -0.401       0.799\n",
      "avg_emp_pp     -3.478e-06   8.06e-07     -4.318      0.000   -5.06e-06    -1.9e-06\n",
      "public_count      -0.6546      0.113     -5.812      0.000      -0.875      -0.434\n",
      "snation_partal   -18.9310   1.77e+04     -0.001      0.999   -3.48e+04    3.47e+04\n",
      "cr_bor_part      -19.9655   1.77e+04     -0.001      0.999   -3.48e+04    3.47e+04\n",
      "mfgf              -0.6783      0.189     -3.595      0.000      -1.048      -0.309\n",
      "saf               -0.3219      0.202     -1.598      0.110      -0.717       0.073\n",
      "natc_n             0.0165      0.004      3.696      0.000       0.008       0.025\n",
      "const             21.8840   1.77e+04      0.001      0.999   -3.47e+04    3.48e+04\n",
      "==================================================================================\n"
     ]
    }
   ],
   "source": [
    "df = pd.read_csv('./data/JV_data_dist.csv')\n",
    "df = basePrep(df)\n",
    "\n",
    "variation(df)"
   ]
  },
  {
   "cell_type": "markdown",
   "metadata": {},
   "source": [
    "## Filter only R&D alliances"
   ]
  },
  {
   "cell_type": "code",
   "execution_count": 5,
   "metadata": {},
   "outputs": [
    {
     "name": "stdout",
     "output_type": "stream",
     "text": [
      "                 Generalized Linear Model Regression Results                  \n",
      "==============================================================================\n",
      "Dep. Variable:               pdynamic   No. Observations:                   66\n",
      "Model:                            GLM   Df Residuals:                       55\n",
      "Model Family:                Binomial   Df Model:                           10\n",
      "Link Function:                  Logit   Scale:                          1.0000\n",
      "Method:                          IRLS   Log-Likelihood:                -31.168\n",
      "Date:                Fri, 17 Jun 2022   Deviance:                       62.336\n",
      "Time:                        18:43:37   Pearson chi2:                     58.5\n",
      "No. Iterations:                     5   Pseudo R-squ. (CS):             0.2259\n",
      "Covariance Type:            nonrobust                                         \n",
      "==================================================================================\n",
      "                     coef    std err          z      P>|z|      [0.025      0.975]\n",
      "----------------------------------------------------------------------------------\n",
      "rndf               3.2602      1.269      2.569      0.010       0.773       5.748\n",
      "ddist_bin         -0.6825      1.334     -0.512      0.609      -3.297       1.932\n",
      "ddist_int         -0.0026      0.003     -0.800      0.424      -0.009       0.004\n",
      "ddist_abs         -0.0006      0.001     -1.001      0.317      -0.002       0.001\n",
      "ddist_year         1.1701      1.256      0.932      0.351      -1.291       3.631\n",
      "avg_emp_pp      3.528e-06   3.46e-06      1.018      0.308   -3.26e-06    1.03e-05\n",
      "public_count      -1.5469      0.530     -2.919      0.004      -2.586      -0.508\n",
      "snation_partal     2.0236      0.881      2.297      0.022       0.297       3.751\n",
      "cr_bor_part        1.2366      0.615      2.011      0.044       0.031       2.442\n",
      "mfgf               0.0598      0.682      0.088      0.930      -1.278       1.397\n",
      "saf               -1.7354      0.920     -1.885      0.059      -3.539       0.069\n",
      "natc_n             0.1158      0.104      1.117      0.264      -0.087       0.319\n",
      "==================================================================================\n"
     ]
    }
   ],
   "source": [
    "df2 = pd.read_csv('./data/JV_data_dist.csv')\n",
    "\n",
    "df2 = df2[df2['rndf'] == \"Yes\"]\n",
    "df2 = basePrep(df2)\n",
    "\n",
    "variation(df2)"
   ]
  },
  {
   "cell_type": "markdown",
   "metadata": {},
   "source": [
    "## Filter for alliance SIC"
   ]
  },
  {
   "cell_type": "code",
   "execution_count": 6,
   "metadata": {},
   "outputs": [
    {
     "name": "stdout",
     "output_type": "stream",
     "text": [
      "                 Generalized Linear Model Regression Results                  \n",
      "==============================================================================\n",
      "Dep. Variable:               pdynamic   No. Observations:                  311\n",
      "Model:                            GLM   Df Residuals:                      299\n",
      "Model Family:                Binomial   Df Model:                           11\n",
      "Link Function:                  Logit   Scale:                          1.0000\n",
      "Method:                          IRLS   Log-Likelihood:                -184.74\n",
      "Date:                Fri, 17 Jun 2022   Deviance:                       369.48\n",
      "Time:                        18:43:38   Pearson chi2:                     342.\n",
      "No. Iterations:                     4   Pseudo R-squ. (CS):             0.1716\n",
      "Covariance Type:            nonrobust                                         \n",
      "==================================================================================\n",
      "                     coef    std err          z      P>|z|      [0.025      0.975]\n",
      "----------------------------------------------------------------------------------\n",
      "rndf              -0.3437      0.697     -0.493      0.622      -1.710       1.022\n",
      "ddist_bin         -0.4543      0.509     -0.893      0.372      -1.451       0.543\n",
      "ddist_int         -0.0004      0.001     -0.322      0.747      -0.003       0.002\n",
      "ddist_abs       6.849e-05      0.000      0.328      0.743      -0.000       0.000\n",
      "ddist_year         0.2950      0.479      0.616      0.538      -0.643       1.233\n",
      "avg_emp_pp     -5.238e-06   1.51e-06     -3.460      0.001    -8.2e-06   -2.27e-06\n",
      "public_count      -0.7461      0.187     -3.999      0.000      -1.112      -0.380\n",
      "snation_partal     0.7062      0.303      2.333      0.020       0.113       1.299\n",
      "cr_bor_part        0.0629      0.254      0.247      0.805      -0.436       0.561\n",
      "mfgf               0.0624      0.379      0.165      0.869      -0.681       0.805\n",
      "saf               -0.4121      0.313     -1.317      0.188      -1.026       0.201\n",
      "natc_n             0.0218      0.009      2.303      0.021       0.003       0.040\n",
      "const              0.7691      0.438      1.756      0.079      -0.089       1.627\n",
      "==================================================================================\n"
     ]
    }
   ],
   "source": [
    "df3 = pd.read_csv(\"./data/JV_data_dist.csv\")\n",
    "\n",
    "#Select alliances that at least part of their goal was manufacturing of cars\n",
    "df3 = df3[df3['sic'].str.contains('3711') == True]\n",
    "df3 = basePrep(df3)\n",
    "\n",
    "variation(df3)"
   ]
  },
  {
   "cell_type": "markdown",
   "metadata": {},
   "source": [
    "## Filter for same nation participants and alliance"
   ]
  },
  {
   "cell_type": "code",
   "execution_count": 7,
   "metadata": {},
   "outputs": [
    {
     "name": "stdout",
     "output_type": "stream",
     "text": [
      "                 Generalized Linear Model Regression Results                  \n",
      "==============================================================================\n",
      "Dep. Variable:               pdynamic   No. Observations:                  154\n",
      "Model:                            GLM   Df Residuals:                      143\n",
      "Model Family:                Binomial   Df Model:                           10\n",
      "Link Function:                  Logit   Scale:                          1.0000\n",
      "Method:                          IRLS   Log-Likelihood:                -71.551\n",
      "Date:                Fri, 17 Jun 2022   Deviance:                       143.10\n",
      "Time:                        18:43:38   Pearson chi2:                     178.\n",
      "No. Iterations:                     5   Pseudo R-squ. (CS):             0.1041\n",
      "Covariance Type:            nonrobust                                         \n",
      "==================================================================================\n",
      "                     coef    std err          z      P>|z|      [0.025      0.975]\n",
      "----------------------------------------------------------------------------------\n",
      "rndf              -0.2858      0.711     -0.402      0.687      -1.678       1.107\n",
      "ddist_bin         -0.8853      0.788     -1.124      0.261      -2.429       0.659\n",
      "ddist_int          0.0004      0.002      0.175      0.861      -0.004       0.005\n",
      "ddist_abs          0.0003      0.000      0.807      0.420      -0.000       0.001\n",
      "ddist_year        -0.0700      0.876     -0.080      0.936      -1.787       1.647\n",
      "avg_emp_pp     -6.667e-07   2.52e-06     -0.264      0.792   -5.61e-06    4.28e-06\n",
      "public_count      -0.3094      0.280     -1.103      0.270      -0.859       0.240\n",
      "snation_partal     3.0043      1.076      2.791      0.005       0.895       5.114\n",
      "cr_bor_part     -9.44e-16    3.4e-16     -2.776      0.006   -1.61e-15   -2.77e-16\n",
      "mfgf              -1.4591      0.536     -2.720      0.007      -2.511      -0.408\n",
      "saf               -1.0931      0.508     -2.151      0.031      -2.089      -0.097\n",
      "natc_n             0.0477      0.029      1.661      0.097      -0.009       0.104\n",
      "==================================================================================\n"
     ]
    }
   ],
   "source": [
    "df4 = pd.read_csv(\"./data/JV_data_dist.csv\")\n",
    "\n",
    "#Select alliances that at least part of their goal was manufacturing of cars\n",
    "df4 = df4[df4['snation_partal'] == \"Y\"]\n",
    "df4 = basePrep(df4)\n",
    "\n",
    "variation(df4)"
   ]
  },
  {
   "cell_type": "markdown",
   "metadata": {},
   "source": [
    "## Filter for Manufacturing agreement flags"
   ]
  },
  {
   "cell_type": "code",
   "execution_count": 8,
   "metadata": {},
   "outputs": [
    {
     "name": "stdout",
     "output_type": "stream",
     "text": [
      "                 Generalized Linear Model Regression Results                  \n",
      "==============================================================================\n",
      "Dep. Variable:               pdynamic   No. Observations:                  481\n",
      "Model:                            GLM   Df Residuals:                      470\n",
      "Model Family:                Binomial   Df Model:                           10\n",
      "Link Function:                  Logit   Scale:                          1.0000\n",
      "Method:                          IRLS   Log-Likelihood:                -288.41\n",
      "Date:                Fri, 17 Jun 2022   Deviance:                       576.83\n",
      "Time:                        18:43:38   Pearson chi2:                     499.\n",
      "No. Iterations:                     4   Pseudo R-squ. (CS):             0.1454\n",
      "Covariance Type:            nonrobust                                         \n",
      "==================================================================================\n",
      "                     coef    std err          z      P>|z|      [0.025      0.975]\n",
      "----------------------------------------------------------------------------------\n",
      "rndf               0.7745      0.500      1.549      0.121      -0.205       1.754\n",
      "ddist_bin         -0.4529      0.388     -1.167      0.243      -1.213       0.308\n",
      "ddist_int         -0.0004      0.001     -0.352      0.725      -0.002       0.002\n",
      "ddist_abs      -4.436e-05      0.000     -0.283      0.777      -0.000       0.000\n",
      "ddist_year         0.2076      0.370      0.560      0.575      -0.518       0.934\n",
      "avg_emp_pp     -4.632e-06   1.07e-06     -4.331      0.000   -6.73e-06   -2.54e-06\n",
      "public_count      -0.6547      0.143     -4.589      0.000      -0.934      -0.375\n",
      "snation_partal     0.9811      0.218      4.505      0.000       0.554       1.408\n",
      "cr_bor_part        0.2175      0.167      1.304      0.192      -0.109       0.544\n",
      "mfgf               1.1986      0.278      4.314      0.000       0.654       1.743\n",
      "saf               -0.6579      0.251     -2.617      0.009      -1.151      -0.165\n",
      "natc_n             0.0237      0.007      3.254      0.001       0.009       0.038\n",
      "==================================================================================\n"
     ]
    }
   ],
   "source": [
    "df5 = pd.read_csv(\"./data/JV_data_dist.csv\")\n",
    "\n",
    "#Select alliances that at least part of their goal was manufacturing of cars\n",
    "df5 = df5[df5['mfgf'] == \"Yes\"]\n",
    "df5 = basePrep(df5)\n",
    "\n",
    "variation(df5)"
   ]
  },
  {
   "cell_type": "code",
   "execution_count": 9,
   "metadata": {},
   "outputs": [
    {
     "name": "stdout",
     "output_type": "stream",
     "text": [
      "                 Generalized Linear Model Regression Results                  \n",
      "==============================================================================\n",
      "Dep. Variable:               pdynamic   No. Observations:                  267\n",
      "Model:                            GLM   Df Residuals:                      256\n",
      "Model Family:                Binomial   Df Model:                           10\n",
      "Link Function:                  Logit   Scale:                          1.0000\n",
      "Method:                          IRLS   Log-Likelihood:                -158.93\n",
      "Date:                Fri, 17 Jun 2022   Deviance:                       317.87\n",
      "Time:                        18:43:38   Pearson chi2:                     296.\n",
      "No. Iterations:                     4   Pseudo R-squ. (CS):             0.1693\n",
      "Covariance Type:            nonrobust                                         \n",
      "==================================================================================\n",
      "                     coef    std err          z      P>|z|      [0.025      0.975]\n",
      "----------------------------------------------------------------------------------\n",
      "rndf              -0.1081      0.821     -0.132      0.895      -1.716       1.500\n",
      "ddist_bin         -0.5927      0.518     -1.144      0.253      -1.608       0.423\n",
      "ddist_int          0.0001      0.001      0.099      0.921      -0.003       0.003\n",
      "ddist_abs          0.0001      0.000      0.620      0.535      -0.000       0.001\n",
      "ddist_year         0.1236      0.513      0.241      0.810      -0.883       1.130\n",
      "avg_emp_pp     -4.237e-06    1.6e-06     -2.654      0.008   -7.37e-06   -1.11e-06\n",
      "public_count      -0.7508      0.200     -3.761      0.000      -1.142      -0.360\n",
      "snation_partal     0.5154      0.290      1.780      0.075      -0.052       1.083\n",
      "cr_bor_part        0.1541      0.228      0.676      0.499      -0.293       0.601\n",
      "mfgf               0.6695      0.362      1.849      0.064      -0.040       1.379\n",
      "saf               -0.5177      0.340     -1.523      0.128      -1.184       0.148\n",
      "natc_n             0.0262      0.011      2.369      0.018       0.005       0.048\n",
      "==================================================================================\n"
     ]
    }
   ],
   "source": [
    "df6 = pd.read_csv(\"./data/JV_data_dist.csv\")\n",
    "\n",
    "#Select alliances that at least part of their goal was manufacturing of cars\n",
    "df6 = df6[df6['mfgf'] == \"Yes\"]\n",
    "df6 = df6[df6['sic'].str.contains('3711') == True]\n",
    "df6 = basePrep(df6)\n",
    "\n",
    "variation(df6)"
   ]
  },
  {
   "cell_type": "code",
   "execution_count": 10,
   "metadata": {},
   "outputs": [
    {
     "name": "stdout",
     "output_type": "stream",
     "text": [
      "                 Generalized Linear Model Regression Results                  \n",
      "==============================================================================\n",
      "Dep. Variable:               pdynamic   No. Observations:                  202\n",
      "Model:                            GLM   Df Residuals:                      191\n",
      "Model Family:                Binomial   Df Model:                           10\n",
      "Link Function:                  Logit   Scale:                          1.0000\n",
      "Method:                          IRLS   Log-Likelihood:                -115.92\n",
      "Date:                Fri, 17 Jun 2022   Deviance:                       231.84\n",
      "Time:                        18:43:39   Pearson chi2:                     218.\n",
      "No. Iterations:                     4   Pseudo R-squ. (CS):             0.1969\n",
      "Covariance Type:            nonrobust                                         \n",
      "==================================================================================\n",
      "                     coef    std err          z      P>|z|      [0.025      0.975]\n",
      "----------------------------------------------------------------------------------\n",
      "rndf              -0.1598      1.311     -0.122      0.903      -2.729       2.410\n",
      "ddist_bin         -1.1427      0.635     -1.799      0.072      -2.388       0.103\n",
      "ddist_int          0.0003      0.002      0.162      0.871      -0.003       0.004\n",
      "ddist_abs       4.234e-05      0.000      0.162      0.872      -0.000       0.001\n",
      "ddist_year         0.1591      0.614      0.259      0.796      -1.045       1.363\n",
      "avg_emp_pp     -4.361e-06    1.8e-06     -2.421      0.015   -7.89e-06   -8.31e-07\n",
      "public_count      -1.0571      0.329     -3.211      0.001      -1.702      -0.412\n",
      "snation_partal     0.9061      0.375      2.413      0.016       0.170       1.642\n",
      "cr_bor_part        0.3299      0.319      1.033      0.301      -0.296       0.956\n",
      "mfgf               1.2360      0.541      2.287      0.022       0.177       2.295\n",
      "saf               -0.7212      0.401     -1.797      0.072      -1.508       0.066\n",
      "natc_n             0.0404      0.017      2.321      0.020       0.006       0.075\n",
      "==================================================================================\n"
     ]
    }
   ],
   "source": [
    "df7 = pd.read_csv(\"./data/JV_data_dist.csv\")\n",
    "\n",
    "#Select alliances that at least part of their goal was manufacturing of cars\n",
    "df7 = df7[df7['mfgf'] == \"Yes\"]\n",
    "df7 = df7[df7['sic'].str.contains('3711') == True]\n",
    "df7 = df7[df7['public_count'] >= 1]\n",
    "df7 = df7[df7['nump'] == 2]\n",
    "df7 = basePrep(df7)\n",
    "\n",
    "variation(df7)"
   ]
  },
  {
   "cell_type": "markdown",
   "metadata": {},
   "source": [
    "## Filter for single country"
   ]
  },
  {
   "cell_type": "code",
   "execution_count": 11,
   "metadata": {},
   "outputs": [
    {
     "name": "stdout",
     "output_type": "stream",
     "text": [
      "                 Generalized Linear Model Regression Results                  \n",
      "==============================================================================\n",
      "Dep. Variable:               pdynamic   No. Observations:                   76\n",
      "Model:                            GLM   Df Residuals:                       65\n",
      "Model Family:                Binomial   Df Model:                           10\n",
      "Link Function:                  Logit   Scale:                          1.0000\n",
      "Method:                          IRLS   Log-Likelihood:                -30.312\n",
      "Date:                Fri, 17 Jun 2022   Deviance:                       60.624\n",
      "Time:                        18:43:39   Pearson chi2:                     855.\n",
      "No. Iterations:                     6   Pseudo R-squ. (CS):             0.3170\n",
      "Covariance Type:            nonrobust                                         \n",
      "==================================================================================\n",
      "                     coef    std err          z      P>|z|      [0.025      0.975]\n",
      "----------------------------------------------------------------------------------\n",
      "rndf              -1.4303      1.774     -0.806      0.420      -4.908       2.047\n",
      "ddist_bin          0.8788      1.210      0.726      0.468      -1.493       3.251\n",
      "ddist_int         -0.0054      0.004     -1.401      0.161      -0.013       0.002\n",
      "ddist_abs          0.0006      0.001      0.904      0.366      -0.001       0.002\n",
      "ddist_year         2.0629      1.411      1.462      0.144      -0.703       4.829\n",
      "avg_emp_pp     -3.211e-08   5.52e-06     -0.006      0.995   -1.08e-05    1.08e-05\n",
      "public_count      -2.1998      0.628     -3.504      0.000      -3.430      -0.969\n",
      "snation_partal     2.1964      1.046      2.100      0.036       0.146       4.246\n",
      "cr_bor_part        1.7301      0.732      2.364      0.018       0.296       3.165\n",
      "mfgf              -2.2278      1.407     -1.583      0.113      -4.986       0.530\n",
      "saf                1.0804      1.179      0.916      0.360      -1.231       3.392\n",
      "natc_n                  0          0        nan        nan           0           0\n",
      "const              3.9265      1.549      2.535      0.011       0.891       6.962\n",
      "==================================================================================\n"
     ]
    }
   ],
   "source": [
    "df8 = pd.read_csv(\"./data/JV_data_dist.csv\")\n",
    "\n",
    "#Select alliances that at least part of their goal was manufacturing of cars\n",
    "df8 = df8[df8['natc'] == \"IN\"]\n",
    "\n",
    "df8 = basePrep(df8)\n",
    "\n",
    "variation(df8)"
   ]
  },
  {
   "cell_type": "markdown",
   "metadata": {},
   "source": [
    "## Test for final H1"
   ]
  },
  {
   "cell_type": "code",
   "execution_count": 17,
   "metadata": {},
   "outputs": [
    {
     "name": "stdout",
     "output_type": "stream",
     "text": [
      "                 Generalized Linear Model Regression Results                  \n",
      "==============================================================================\n",
      "Dep. Variable:               pdynamic   No. Observations:                  239\n",
      "Model:                            GLM   Df Residuals:                      237\n",
      "Model Family:                Binomial   Df Model:                            1\n",
      "Link Function:                  Logit   Scale:                          1.0000\n",
      "Method:                          IRLS   Log-Likelihood:                -155.19\n",
      "Date:                Fri, 17 Jun 2022   Deviance:                       310.38\n",
      "Time:                        18:45:10   Pearson chi2:                     239.\n",
      "No. Iterations:                     4   Pseudo R-squ. (CS):            0.05905\n",
      "Covariance Type:            nonrobust                                         \n",
      "==============================================================================\n",
      "                 coef    std err          z      P>|z|      [0.025      0.975]\n",
      "------------------------------------------------------------------------------\n",
      "ddist_year     0.1510      0.041      3.703      0.000       0.071       0.231\n",
      "const         -0.3694      0.136     -2.710      0.007      -0.636      -0.102\n",
      "==============================================================================\n"
     ]
    }
   ],
   "source": [
    "dfH = pd.read_csv(\"./data/JV_data_dist.csv\")\n",
    "\n",
    "dfH = dfH[dfH['mfgf'] == \"Yes\"]\n",
    "dfH = dfH[dfH['sic'].str.contains('3711') == True]\n",
    "dfH = dfH[dfH['public_count'] >= 1]\n",
    "# dfH = dfH[dfH['nump'] == 2]\n",
    "# dfH = dfH[dfH['avg_emp_pp'] >= 1]\n",
    "dfH = basePrep(dfH)\n",
    "\n",
    "cols = ['ddist_year']\n",
    "X = (dfH[cols]).astype(float)\n",
    "y = dfH['pdynamic'].astype(float)\n",
    "X_constant = sm.add_constant(X, prepend=False)\n",
    "\n",
    "logit_model = GLM(y, X_constant, family=families.Binomial())\n",
    "logit_results = logit_model.fit()\n",
    "print(logit_results.summary())"
   ]
  },
  {
   "cell_type": "code",
   "execution_count": 26,
   "metadata": {},
   "outputs": [
    {
     "data": {
      "text/plain": [
       "3     -5\n",
       "5     -5\n",
       "6     -5\n",
       "8     -5\n",
       "10    -5\n",
       "      ..\n",
       "977    5\n",
       "978    5\n",
       "982    5\n",
       "985    5\n",
       "986    5\n",
       "Name: ddist_year, Length: 239, dtype: int64"
      ]
     },
     "execution_count": 26,
     "metadata": {},
     "output_type": "execute_result"
    }
   ],
   "source": [
    "dfH['ddist_year']"
   ]
  },
  {
   "cell_type": "markdown",
   "metadata": {},
   "source": [
    "## Test for final H2"
   ]
  },
  {
   "cell_type": "code",
   "execution_count": 32,
   "metadata": {},
   "outputs": [
    {
     "name": "stdout",
     "output_type": "stream",
     "text": [
      "                 Generalized Linear Model Regression Results                  \n",
      "==============================================================================\n",
      "Dep. Variable:                    jvf   No. Observations:                  195\n",
      "Model:                            GLM   Df Residuals:                      188\n",
      "Model Family:                Binomial   Df Model:                            6\n",
      "Link Function:                  Logit   Scale:                          1.0000\n",
      "Method:                          IRLS   Log-Likelihood:                -104.66\n",
      "Date:                Fri, 17 Jun 2022   Deviance:                       209.31\n",
      "Time:                        19:11:41   Pearson chi2:                     196.\n",
      "No. Iterations:                     4   Pseudo R-squ. (CS):             0.1098\n",
      "Covariance Type:            nonrobust                                         \n",
      "==================================================================================\n",
      "                     coef    std err          z      P>|z|      [0.025      0.975]\n",
      "----------------------------------------------------------------------------------\n",
      "ddist_year         0.1665      0.053      3.115      0.002       0.062       0.271\n",
      "public_count       0.6258      0.355      1.761      0.078      -0.071       1.322\n",
      "rndf              -1.9732      1.242     -1.588      0.112      -4.408       0.462\n",
      "snation_partal    -0.4198      0.460     -0.913      0.361      -1.321       0.481\n",
      "avg_emp_pp_log     0.0184      0.118      0.156      0.876      -0.213       0.250\n",
      "pdynamic           0.5768      0.389      1.484      0.138      -0.185       1.339\n",
      "const             -0.2341      1.374     -0.170      0.865      -2.926       2.458\n",
      "==================================================================================\n"
     ]
    }
   ],
   "source": [
    "dfH2 = pd.read_csv(\"./data/JV_data_dist.csv\")\n",
    "\n",
    "dfH2 = dfH2[dfH2['mfgf'] == \"Yes\"]\n",
    "dfH2 = dfH2[dfH2['sic'].str.contains('3711') == True]\n",
    "dfH2 = dfH2[dfH2['public_count'] >= 1]\n",
    "dfH2 = dfH2[dfH2['nump'] == 2]\n",
    "dfH2 = dfH2[dfH2['emp_min'] >= 100]\n",
    "\n",
    "\n",
    "dfH2 = basePrep(dfH2)\n",
    "\n",
    "\n",
    "cols = ['ddist_year', 'public_count', 'rndf', 'snation_partal', 'avg_emp_pp_log', 'pdynamic']\n",
    "X = (dfH2[cols]).astype(float)\n",
    "y = dfH2['jvf'].astype(float)\n",
    "X_constant = sm.add_constant(X, prepend=False)\n",
    "\n",
    "logit_model = GLM(y, X_constant, family=families.Binomial())\n",
    "logit_results = logit_model.fit()\n",
    "print(logit_results.summary())"
   ]
  },
  {
   "cell_type": "code",
   "execution_count": 20,
   "metadata": {},
   "outputs": [
    {
     "data": {
      "text/plain": [
       "3     -5\n",
       "8     -5\n",
       "10    -5\n",
       "41    -5\n",
       "61    -5\n",
       "      ..\n",
       "949    5\n",
       "950    5\n",
       "964    5\n",
       "985    5\n",
       "986    5\n",
       "Name: ddist_year, Length: 100, dtype: int64"
      ]
     },
     "execution_count": 20,
     "metadata": {},
     "output_type": "execute_result"
    }
   ],
   "source": [
    "dfH2['ddist_year']"
   ]
  },
  {
   "cell_type": "code",
   "execution_count": null,
   "metadata": {},
   "outputs": [],
   "source": []
  }
 ],
 "metadata": {
  "kernelspec": {
   "display_name": "Python 3.9.10 64-bit",
   "language": "python",
   "name": "python3"
  },
  "language_info": {
   "codemirror_mode": {
    "name": "ipython",
    "version": 3
   },
   "file_extension": ".py",
   "mimetype": "text/x-python",
   "name": "python",
   "nbconvert_exporter": "python",
   "pygments_lexer": "ipython3",
   "version": "3.9.10"
  },
  "orig_nbformat": 4,
  "vscode": {
   "interpreter": {
    "hash": "aee8b7b246df8f9039afb4144a1f6fd8d2ca17a180786b69acc140d282b71a49"
   }
  }
 },
 "nbformat": 4,
 "nbformat_minor": 2
}
