{
 "cells": [
  {
   "cell_type": "code",
   "execution_count": 59,
   "metadata": {},
   "outputs": [],
   "source": [
    "import pandas as pd\n",
    "import dask as dd\n",
    "import numpy as np\n",
    "import seaborn as sns\n",
    "import matplotlib.pyplot as plt\n",
    "import datetime as dt\n",
    "import statsmodels.formula.api as smf\n",
    "import statistics\n",
    "\n",
    "from sklearn.linear_model import LogisticRegression\n",
    "\n",
    "import statsmodels.api as sm\n",
    "from statsmodels.genmod.generalized_linear_model import GLM\n",
    "from statsmodels.genmod import families\n",
    "from statsmodels.stats.outliers_influence import variance_inflation_factor\n",
    "\n",
    "from scipy import stats"
   ]
  },
  {
   "cell_type": "code",
   "execution_count": 91,
   "metadata": {},
   "outputs": [],
   "source": [
    "def basePrep(df):\n",
    "\tdf['rndf'] = df['rndf'].map({\"Yes\": 1, \"No\": 0})\n",
    "\tdf['pdynamic'] = df['pdynamic'].map({'new_entrant': 1, 'incumbent': 0})\t\n",
    "\tdf[\"SNATION_PARTAL\".lower()] = df[\"SNATION_PARTAL\".lower()].map({\"Y\": 1, \"N\": 0})\n",
    "\tdf['cr_bor_part'] = df['cr_bor_part'].map({\"Y\": 1, \"N\": 0})\n",
    "\tdf['mfgf'] = df['mfgf'].map({\"Yes\": 1, \"No\": 0})\n",
    "\tdf['jvf'] = df['jvf'].map({'Yes': 1, 'No': 0})\n",
    "\t\n",
    "\tcols = ['rndf', 'jvf','ddist_bin','ddist_int', 'ddist_abs', 'avg_emp_pp', 'public_count', 'pdynamic', \"SNATION_PARTAL\".lower(), 'cr_bor_part', 'mfgf']\n",
    "\tdf = df[cols].dropna()\n",
    "\t\n",
    "\treturn df\n",
    "\n",
    "def variation(df):\n",
    "\tcols = ['rndf', 'ddist_bin','ddist_int', 'ddist_abs', 'avg_emp_pp', 'public_count', \n",
    "\t\t\t\"SNATION_PARTAL\".lower(), 'cr_bor_part', 'mfgf']\n",
    "\tX = (df[cols]).astype(float)\n",
    "\ty = df['pdynamic'].astype(float)\n",
    "\tX_constant = sm.add_constant(X, prepend=False)\n",
    "\n",
    "\tlogit_model = GLM(y, X_constant, family=families.Binomial())\n",
    "\tlogit_results = logit_model.fit()\n",
    "\tprint(logit_results.summary())"
   ]
  },
  {
   "cell_type": "markdown",
   "metadata": {},
   "source": [
    "## Try all potential variables"
   ]
  },
  {
   "cell_type": "code",
   "execution_count": 75,
   "metadata": {},
   "outputs": [
    {
     "name": "stdout",
     "output_type": "stream",
     "text": [
      "                 Generalized Linear Model Regression Results                  \n",
      "==============================================================================\n",
      "Dep. Variable:               pdynamic   No. Observations:                  729\n",
      "Model:                            GLM   Df Residuals:                      719\n",
      "Model Family:                Binomial   Df Model:                            9\n",
      "Link Function:                  Logit   Scale:                          1.0000\n",
      "Method:                          IRLS   Log-Likelihood:                -429.40\n",
      "Date:                Wed, 15 Jun 2022   Deviance:                       858.80\n",
      "Time:                        21:07:40   Pearson chi2:                     765.\n",
      "No. Iterations:                    19   Pseudo R-squ. (CS):             0.1283\n",
      "Covariance Type:            nonrobust                                         \n",
      "==================================================================================\n",
      "                     coef    std err          z      P>|z|      [0.025      0.975]\n",
      "----------------------------------------------------------------------------------\n",
      "rndf               0.2649      0.312      0.849      0.396      -0.346       0.876\n",
      "ddist_bin         -0.4625      0.331     -1.396      0.163      -1.112       0.187\n",
      "ddist_int          0.0001      0.000      1.092      0.275      -0.000       0.000\n",
      "ddist_abs      -4.708e-05      0.000     -0.356      0.722      -0.000       0.000\n",
      "avg_emp_pp        -0.2500      0.056     -4.495      0.000      -0.359      -0.141\n",
      "public_count      -0.5456      0.112     -4.876      0.000      -0.765      -0.326\n",
      "snation_partal   -18.8863   1.77e+04     -0.001      0.999   -3.48e+04    3.47e+04\n",
      "cr_bor_part      -19.9316   1.77e+04     -0.001      0.999   -3.48e+04    3.47e+04\n",
      "mfgf              -0.6711      0.184     -3.639      0.000      -1.032      -0.310\n",
      "const             24.4727   1.77e+04      0.001      0.999   -3.47e+04    3.48e+04\n",
      "==================================================================================\n"
     ]
    }
   ],
   "source": [
    "df = pd.read_csv('./data/JV_data_dist.csv')\n",
    "df = basePrep(df)\n",
    "\n",
    "variation(df)"
   ]
  },
  {
   "cell_type": "markdown",
   "metadata": {},
   "source": [
    "## Filter only R&D alliances"
   ]
  },
  {
   "cell_type": "code",
   "execution_count": 76,
   "metadata": {},
   "outputs": [
    {
     "name": "stdout",
     "output_type": "stream",
     "text": [
      "                 Generalized Linear Model Regression Results                  \n",
      "==============================================================================\n",
      "Dep. Variable:               pdynamic   No. Observations:                   66\n",
      "Model:                            GLM   Df Residuals:                       58\n",
      "Model Family:                Binomial   Df Model:                            7\n",
      "Link Function:                  Logit   Scale:                          1.0000\n",
      "Method:                          IRLS   Log-Likelihood:                -33.248\n",
      "Date:                Wed, 15 Jun 2022   Deviance:                       66.496\n",
      "Time:                        21:07:56   Pearson chi2:                     62.4\n",
      "No. Iterations:                     5   Pseudo R-squ. (CS):             0.1755\n",
      "Covariance Type:            nonrobust                                         \n",
      "==================================================================================\n",
      "                     coef    std err          z      P>|z|      [0.025      0.975]\n",
      "----------------------------------------------------------------------------------\n",
      "rndf               3.5145      1.679      2.093      0.036       0.223       6.806\n",
      "ddist_bin         -0.0658      1.243     -0.053      0.958      -2.503       2.371\n",
      "ddist_int          0.0002      0.001      0.466      0.641      -0.001       0.001\n",
      "ddist_abs         -0.0004      0.001     -0.780      0.436      -0.001       0.001\n",
      "avg_emp_pp        -0.2000      0.217     -0.921      0.357      -0.626       0.225\n",
      "public_count      -0.9821      0.436     -2.252      0.024      -1.837      -0.127\n",
      "snation_partal     1.8443      0.920      2.004      0.045       0.041       3.648\n",
      "cr_bor_part        1.6702      0.909      1.837      0.066      -0.112       3.453\n",
      "mfgf              -0.1479      0.660     -0.224      0.823      -1.441       1.146\n",
      "==================================================================================\n"
     ]
    }
   ],
   "source": [
    "df2 = pd.read_csv('./data/JV_data_dist.csv')\n",
    "\n",
    "df2 = df2[df2['rndf'] == \"Yes\"]\n",
    "df2 = basePrep(df2)\n",
    "\n",
    "variation(df2)"
   ]
  },
  {
   "cell_type": "markdown",
   "metadata": {},
   "source": [
    "## Filter for alliance SIC"
   ]
  },
  {
   "cell_type": "code",
   "execution_count": 78,
   "metadata": {},
   "outputs": [
    {
     "name": "stdout",
     "output_type": "stream",
     "text": [
      "                 Generalized Linear Model Regression Results                  \n",
      "==============================================================================\n",
      "Dep. Variable:               pdynamic   No. Observations:                  311\n",
      "Model:                            GLM   Df Residuals:                      302\n",
      "Model Family:                Binomial   Df Model:                            8\n",
      "Link Function:                  Logit   Scale:                          1.0000\n",
      "Method:                          IRLS   Log-Likelihood:                -186.90\n",
      "Date:                Wed, 15 Jun 2022   Deviance:                       373.80\n",
      "Time:                        21:08:48   Pearson chi2:                     330.\n",
      "No. Iterations:                     4   Pseudo R-squ. (CS):             0.1600\n",
      "Covariance Type:            nonrobust                                         \n",
      "==================================================================================\n",
      "                     coef    std err          z      P>|z|      [0.025      0.975]\n",
      "----------------------------------------------------------------------------------\n",
      "rndf              -0.5675      0.725     -0.783      0.434      -1.988       0.853\n",
      "ddist_bin         -0.3457      0.512     -0.675      0.500      -1.350       0.659\n",
      "ddist_int          0.0004      0.000      1.845      0.065   -2.34e-05       0.001\n",
      "ddist_abs          0.0001      0.000      0.549      0.583      -0.000       0.001\n",
      "avg_emp_pp        -0.2828      0.078     -3.633      0.000      -0.435      -0.130\n",
      "public_count      -0.6468      0.184     -3.506      0.000      -1.008      -0.285\n",
      "snation_partal     1.5658      0.362      4.321      0.000       0.856       2.276\n",
      "cr_bor_part        0.9264      0.342      2.707      0.007       0.256       1.597\n",
      "mfgf               0.1618      0.375      0.431      0.666      -0.573       0.897\n",
      "const              2.4921      0.613      4.062      0.000       1.290       3.694\n",
      "==================================================================================\n"
     ]
    }
   ],
   "source": [
    "df3 = pd.read_csv(\"./data/JV_data_dist.csv\")\n",
    "\n",
    "#Select alliances that at least part of their goal was manufacturing of cars\n",
    "df3 = df3[df3['sic'].str.contains('3711') == True]\n",
    "df3 = basePrep(df3)\n",
    "\n",
    "variation(df3)"
   ]
  },
  {
   "cell_type": "markdown",
   "metadata": {},
   "source": [
    "## Filter for same nation participants and alliance"
   ]
  },
  {
   "cell_type": "code",
   "execution_count": 82,
   "metadata": {},
   "outputs": [
    {
     "name": "stdout",
     "output_type": "stream",
     "text": [
      "                 Generalized Linear Model Regression Results                  \n",
      "==============================================================================\n",
      "Dep. Variable:               pdynamic   No. Observations:                  154\n",
      "Model:                            GLM   Df Residuals:                      146\n",
      "Model Family:                Binomial   Df Model:                            7\n",
      "Link Function:                  Logit   Scale:                          1.0000\n",
      "Method:                          IRLS   Log-Likelihood:                -74.552\n",
      "Date:                Wed, 15 Jun 2022   Deviance:                       149.10\n",
      "Time:                        21:09:34   Pearson chi2:                     156.\n",
      "No. Iterations:                     5   Pseudo R-squ. (CS):            0.06850\n",
      "Covariance Type:            nonrobust                                         \n",
      "==================================================================================\n",
      "                     coef    std err          z      P>|z|      [0.025      0.975]\n",
      "----------------------------------------------------------------------------------\n",
      "rndf              -0.5855      0.659     -0.888      0.375      -1.878       0.707\n",
      "ddist_bin         -0.7113      0.729     -0.976      0.329      -2.140       0.718\n",
      "ddist_int          0.0003      0.000      0.762      0.446      -0.000       0.001\n",
      "ddist_abs          0.0004      0.000      1.150      0.250      -0.000       0.001\n",
      "avg_emp_pp        -0.0929      0.118     -0.785      0.432      -0.325       0.139\n",
      "public_count      -0.2995      0.266     -1.127      0.260      -0.820       0.221\n",
      "snation_partal     3.7741      1.494      2.527      0.012       0.846       6.702\n",
      "cr_bor_part             0          0        nan        nan           0           0\n",
      "mfgf              -1.2994      0.507     -2.562      0.010      -2.294      -0.305\n",
      "==================================================================================\n"
     ]
    }
   ],
   "source": [
    "df4 = pd.read_csv(\"./data/JV_data_dist.csv\")\n",
    "\n",
    "#Select alliances that at least part of their goal was manufacturing of cars\n",
    "df4 = df4[df4['snation_partal'] == \"Y\"]\n",
    "df4 = basePrep(df4)\n",
    "\n",
    "variation(df4)"
   ]
  },
  {
   "cell_type": "markdown",
   "metadata": {},
   "source": [
    "## Filter for Manufacturing agreement flags"
   ]
  },
  {
   "cell_type": "code",
   "execution_count": 84,
   "metadata": {},
   "outputs": [
    {
     "name": "stdout",
     "output_type": "stream",
     "text": [
      "                 Generalized Linear Model Regression Results                  \n",
      "==============================================================================\n",
      "Dep. Variable:               pdynamic   No. Observations:                  481\n",
      "Model:                            GLM   Df Residuals:                      473\n",
      "Model Family:                Binomial   Df Model:                            7\n",
      "Link Function:                  Logit   Scale:                          1.0000\n",
      "Method:                          IRLS   Log-Likelihood:                -295.39\n",
      "Date:                Wed, 15 Jun 2022   Deviance:                       590.77\n",
      "Time:                        21:10:01   Pearson chi2:                     514.\n",
      "No. Iterations:                     4   Pseudo R-squ. (CS):             0.1203\n",
      "Covariance Type:            nonrobust                                         \n",
      "==================================================================================\n",
      "                     coef    std err          z      P>|z|      [0.025      0.975]\n",
      "----------------------------------------------------------------------------------\n",
      "rndf               0.5440      0.486      1.119      0.263      -0.409       1.497\n",
      "ddist_bin         -0.3360      0.383     -0.878      0.380      -1.086       0.414\n",
      "ddist_int          0.0002      0.000      1.449      0.147   -7.85e-05       0.001\n",
      "ddist_abs      -3.253e-05      0.000     -0.211      0.833      -0.000       0.000\n",
      "avg_emp_pp        -0.2751      0.069     -3.997      0.000      -0.410      -0.140\n",
      "public_count      -0.5555      0.141     -3.940      0.000      -0.832      -0.279\n",
      "snation_partal     1.8940      0.306      6.199      0.000       1.295       2.493\n",
      "cr_bor_part        1.1045      0.277      3.989      0.000       0.562       1.647\n",
      "mfgf               2.9986      0.519      5.779      0.000       1.982       4.016\n",
      "==================================================================================\n"
     ]
    }
   ],
   "source": [
    "df5 = pd.read_csv(\"./data/JV_data_dist.csv\")\n",
    "\n",
    "#Select alliances that at least part of their goal was manufacturing of cars\n",
    "df5 = df5[df5['mfgf'] == \"Yes\"]\n",
    "df5 = basePrep(df5)\n",
    "\n",
    "variation(df5)"
   ]
  },
  {
   "cell_type": "code",
   "execution_count": 86,
   "metadata": {},
   "outputs": [
    {
     "name": "stdout",
     "output_type": "stream",
     "text": [
      "                 Generalized Linear Model Regression Results                  \n",
      "==============================================================================\n",
      "Dep. Variable:               pdynamic   No. Observations:                  267\n",
      "Model:                            GLM   Df Residuals:                      259\n",
      "Model Family:                Binomial   Df Model:                            7\n",
      "Link Function:                  Logit   Scale:                          1.0000\n",
      "Method:                          IRLS   Log-Likelihood:                -161.63\n",
      "Date:                Wed, 15 Jun 2022   Deviance:                       323.27\n",
      "Time:                        21:10:57   Pearson chi2:                     281.\n",
      "No. Iterations:                     4   Pseudo R-squ. (CS):             0.1524\n",
      "Covariance Type:            nonrobust                                         \n",
      "==================================================================================\n",
      "                     coef    std err          z      P>|z|      [0.025      0.975]\n",
      "----------------------------------------------------------------------------------\n",
      "rndf              -0.3928      0.877     -0.448      0.654      -2.112       1.327\n",
      "ddist_bin         -0.4332      0.520     -0.833      0.405      -1.452       0.586\n",
      "ddist_int          0.0005      0.000      2.235      0.025    5.74e-05       0.001\n",
      "ddist_abs          0.0001      0.000      0.651      0.515      -0.000       0.001\n",
      "avg_emp_pp        -0.2380      0.085     -2.805      0.005      -0.404      -0.072\n",
      "public_count      -0.6617      0.197     -3.352      0.001      -1.049      -0.275\n",
      "snation_partal     1.2946      0.360      3.597      0.000       0.589       2.000\n",
      "cr_bor_part        0.9464      0.340      2.780      0.005       0.279       1.614\n",
      "mfgf               2.2411      0.593      3.782      0.000       1.080       3.403\n",
      "==================================================================================\n"
     ]
    }
   ],
   "source": [
    "df6 = pd.read_csv(\"./data/JV_data_dist.csv\")\n",
    "\n",
    "#Select alliances that at least part of their goal was manufacturing of cars\n",
    "df6 = df6[df6['mfgf'] == \"Yes\"]\n",
    "df6 = df6[df6['sic'].str.contains('3711') == True]\n",
    "df6 = basePrep(df6)\n",
    "\n",
    "variation(df6)"
   ]
  },
  {
   "cell_type": "code",
   "execution_count": 89,
   "metadata": {},
   "outputs": [
    {
     "name": "stdout",
     "output_type": "stream",
     "text": [
      "                 Generalized Linear Model Regression Results                  \n",
      "==============================================================================\n",
      "Dep. Variable:               pdynamic   No. Observations:                  202\n",
      "Model:                            GLM   Df Residuals:                      194\n",
      "Model Family:                Binomial   Df Model:                            7\n",
      "Link Function:                  Logit   Scale:                          1.0000\n",
      "Method:                          IRLS   Log-Likelihood:                -115.46\n",
      "Date:                Wed, 15 Jun 2022   Deviance:                       230.93\n",
      "Time:                        21:23:28   Pearson chi2:                     199.\n",
      "No. Iterations:                     4   Pseudo R-squ. (CS):             0.2005\n",
      "Covariance Type:            nonrobust                                         \n",
      "==================================================================================\n",
      "                     coef    std err          z      P>|z|      [0.025      0.975]\n",
      "----------------------------------------------------------------------------------\n",
      "rndf              -0.5084      1.332     -0.382      0.703      -3.120       2.103\n",
      "ddist_bin         -0.9914      0.636     -1.560      0.119      -2.237       0.254\n",
      "ddist_int          0.0007      0.000      2.830      0.005       0.000       0.001\n",
      "ddist_abs       2.068e-05      0.000      0.080      0.936      -0.000       0.001\n",
      "avg_emp_pp        -0.3766      0.111     -3.383      0.001      -0.595      -0.158\n",
      "public_count      -0.8034      0.327     -2.457      0.014      -1.444      -0.162\n",
      "snation_partal     2.0988      0.499      4.203      0.000       1.120       3.078\n",
      "cr_bor_part        1.5484      0.472      3.281      0.001       0.623       2.473\n",
      "mfgf               3.6472      0.865      4.218      0.000       1.952       5.342\n",
      "==================================================================================\n"
     ]
    }
   ],
   "source": [
    "df7 = pd.read_csv(\"./data/JV_data_dist.csv\")\n",
    "\n",
    "#Select alliances that at least part of their goal was manufacturing of cars\n",
    "df7 = df7[df7['mfgf'] == \"Yes\"]\n",
    "df7 = df7[df7['sic'].str.contains('3711') == True]\n",
    "df7 = df7[df7['public_count'] >= 1]\n",
    "df7 = df7[df7['nump'] == 2]\n",
    "df7 = basePrep(df7)\n",
    "\n",
    "variation(df7)"
   ]
  },
  {
   "cell_type": "markdown",
   "metadata": {},
   "source": [
    "## Test for final H1"
   ]
  },
  {
   "cell_type": "code",
   "execution_count": 90,
   "metadata": {},
   "outputs": [
    {
     "name": "stdout",
     "output_type": "stream",
     "text": [
      "                 Generalized Linear Model Regression Results                  \n",
      "==============================================================================\n",
      "Dep. Variable:               pdynamic   No. Observations:                  202\n",
      "Model:                            GLM   Df Residuals:                      200\n",
      "Model Family:                Binomial   Df Model:                            1\n",
      "Link Function:                  Logit   Scale:                          1.0000\n",
      "Method:                          IRLS   Log-Likelihood:                -130.99\n",
      "Date:                Wed, 15 Jun 2022   Deviance:                       261.97\n",
      "Time:                        21:28:24   Pearson chi2:                     202.\n",
      "No. Iterations:                     4   Pseudo R-squ. (CS):            0.06772\n",
      "Covariance Type:            nonrobust                                         \n",
      "==============================================================================\n",
      "                 coef    std err          z      P>|z|      [0.025      0.975]\n",
      "------------------------------------------------------------------------------\n",
      "ddist_int      0.0004      0.000      3.632      0.000       0.000       0.001\n",
      "const         -0.3559      0.150     -2.375      0.018      -0.650      -0.062\n",
      "==============================================================================\n"
     ]
    }
   ],
   "source": [
    "dfH = pd.read_csv(\"./data/JV_data_dist.csv\")\n",
    "\n",
    "dfH = dfH[dfH['mfgf'] == \"Yes\"]\n",
    "dfH = dfH[dfH['sic'].str.contains('3711') == True]\n",
    "dfH = dfH[dfH['public_count'] >= 1]\n",
    "dfH = dfH[dfH['nump'] == 2]\n",
    "dfH = basePrep(dfH)\n",
    "\n",
    "cols = ['ddist_int']\n",
    "X = (dfH[cols]).astype(float)\n",
    "y = dfH['pdynamic'].astype(float)\n",
    "X_constant = sm.add_constant(X, prepend=False)\n",
    "\n",
    "logit_model = GLM(y, X_constant, family=families.Binomial())\n",
    "logit_results = logit_model.fit()\n",
    "print(logit_results.summary())"
   ]
  },
  {
   "cell_type": "code",
   "execution_count": 99,
   "metadata": {},
   "outputs": [
    {
     "name": "stdout",
     "output_type": "stream",
     "text": [
      "                 Generalized Linear Model Regression Results                  \n",
      "==============================================================================\n",
      "Dep. Variable:                    jvf   No. Observations:                  202\n",
      "Model:                            GLM   Df Residuals:                      196\n",
      "Model Family:                Binomial   Df Model:                            5\n",
      "Link Function:                  Logit   Scale:                          1.0000\n",
      "Method:                          IRLS   Log-Likelihood:                -108.12\n",
      "Date:                Wed, 15 Jun 2022   Deviance:                       216.24\n",
      "Time:                        22:57:51   Pearson chi2:                     202.\n",
      "No. Iterations:                     4   Pseudo R-squ. (CS):             0.1043\n",
      "Covariance Type:            nonrobust                                         \n",
      "==================================================================================\n",
      "                     coef    std err          z      P>|z|      [0.025      0.975]\n",
      "----------------------------------------------------------------------------------\n",
      "ddist_int          0.0005      0.000      3.885      0.000       0.000       0.001\n",
      "public_count       0.4123      0.344      1.199      0.231      -0.262       1.086\n",
      "rndf              -2.0232      1.233     -1.641      0.101      -4.440       0.393\n",
      "snation_partal    -0.3690      0.451     -0.818      0.414      -1.253       0.516\n",
      "avg_emp_pp         0.0031      0.096      0.032      0.975      -0.186       0.192\n",
      "const              0.4720      1.074      0.439      0.660      -1.633       2.577\n",
      "==================================================================================\n"
     ]
    }
   ],
   "source": [
    "dfH2 = pd.read_csv(\"./data/JV_data_dist.csv\")\n",
    "\n",
    "dfH2 = dfH2[dfH2['mfgf'] == \"Yes\"]\n",
    "dfH2 = dfH2[dfH2['sic'].str.contains('3711') == True]\n",
    "dfH2 = dfH2[dfH2['public_count'] >= 1]\n",
    "dfH2 = dfH2[dfH2['nump'] == 2]\n",
    "dfH2 = basePrep(dfH2)\n",
    "\n",
    "cols = ['ddist_int', 'public_count', 'rndf', 'snation_partal', 'avg_emp_pp']\n",
    "X = (dfH2[cols]).astype(float)\n",
    "y = dfH2['jvf'].astype(float)\n",
    "X_constant = sm.add_constant(X, prepend=False)\n",
    "\n",
    "logit_model = GLM(y, X_constant, family=families.Binomial())\n",
    "logit_results = logit_model.fit()\n",
    "print(logit_results.summary())"
   ]
  },
  {
   "cell_type": "code",
   "execution_count": null,
   "metadata": {},
   "outputs": [],
   "source": []
  }
 ],
 "metadata": {
  "kernelspec": {
   "display_name": "Python 3.9.10 64-bit",
   "language": "python",
   "name": "python3"
  },
  "language_info": {
   "codemirror_mode": {
    "name": "ipython",
    "version": 3
   },
   "file_extension": ".py",
   "mimetype": "text/x-python",
   "name": "python",
   "nbconvert_exporter": "python",
   "pygments_lexer": "ipython3",
   "version": "3.9.10"
  },
  "orig_nbformat": 4,
  "vscode": {
   "interpreter": {
    "hash": "aee8b7b246df8f9039afb4144a1f6fd8d2ca17a180786b69acc140d282b71a49"
   }
  }
 },
 "nbformat": 4,
 "nbformat_minor": 2
}
