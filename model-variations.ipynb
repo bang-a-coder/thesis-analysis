{
 "cells": [
  {
   "cell_type": "code",
   "execution_count": 132,
   "metadata": {},
   "outputs": [],
   "source": [
    "import pandas as pd\n",
    "import dask as dd\n",
    "import numpy as np\n",
    "import seaborn as sns\n",
    "import matplotlib.pyplot as plt\n",
    "import datetime as dt\n",
    "import statsmodels.formula.api as smf\n",
    "import statistics\n",
    "\n",
    "from sklearn.linear_model import LogisticRegression\n",
    "\n",
    "import statsmodels.api as sm\n",
    "from statsmodels.genmod.generalized_linear_model import GLM\n",
    "from statsmodels.genmod import families\n",
    "from statsmodels.stats.outliers_influence import variance_inflation_factor\n",
    "\n",
    "from scipy import stats"
   ]
  },
  {
   "cell_type": "markdown",
   "metadata": {},
   "source": [
    "## Try all potential variables"
   ]
  },
  {
   "cell_type": "code",
   "execution_count": 133,
   "metadata": {},
   "outputs": [],
   "source": [
    "df = pd.read_csv('./data/JV_data_dist.csv')"
   ]
  },
  {
   "cell_type": "code",
   "execution_count": 134,
   "metadata": {},
   "outputs": [
    {
     "data": {
      "text/plain": [
       "Index(['da', 'id', 'activity', 'activityc', 'jvinc', 'jvindustry', 'jvstatus',\n",
       "       'p', 'pbl', 'pbuss', 'sicp', 'sic', 'sicpdesc', 'psic', 'psicp', 'nump',\n",
       "       'jvf', 'jvtype', 'rndf', 'pemp', 'pbussource', 'hitechc', 'crlic',\n",
       "       'crtech', 'techniquec', 'techtr', 'ppubc', 'p1name', 'p1sicp', 'p2name',\n",
       "       'p2sicp', 'p3name', 'p3sicp', 'p4name', 'p4sicp', 'p5name', 'p5sicp',\n",
       "       'p6name', 'p6sicp', 'p7name', 'p7sicp', 'p8name', 'p8sicp', 'p9name',\n",
       "       'p9sicp', 'pdynamic', 'ddist_int', 'ddist_abs', 'ddist_bin', 'p1emp',\n",
       "       'p2emp', 'p3emp', 'p4emp', 'p5emp', 'p6emp', 'p7emp', 'p8emp', 'p9emp',\n",
       "       'known_emp', 'known_allemp', 'avg_emp_pp', 'public_count'],\n",
       "      dtype='object')"
      ]
     },
     "execution_count": 134,
     "metadata": {},
     "output_type": "execute_result"
    }
   ],
   "source": [
    "df.columns"
   ]
  },
  {
   "cell_type": "code",
   "execution_count": 135,
   "metadata": {},
   "outputs": [],
   "source": [
    "df['rndf'] = df['rndf'].map({\"Yes\": 1, \"No\": 0})\n",
    "df['pdynamic'] = df['pdynamic'].map({'new_entrant': 1, 'incumbent': 0})"
   ]
  },
  {
   "cell_type": "code",
   "execution_count": 136,
   "metadata": {},
   "outputs": [],
   "source": [
    "cols = ['rndf', 'ddist_bin','ddist_int', 'ddist_abs', 'avg_emp_pp', 'public_count', 'pdynamic']\n",
    "df = df[cols].dropna()"
   ]
  },
  {
   "cell_type": "code",
   "execution_count": 138,
   "metadata": {},
   "outputs": [],
   "source": [
    "cols = ['rndf', 'ddist_bin','ddist_int', 'ddist_abs', 'avg_emp_pp', 'public_count']\n",
    "X = (df[cols]).astype(float)\n",
    "y = df['pdynamic'].astype(float)\n",
    "X_constant = sm.add_constant(X, prepend=False)"
   ]
  },
  {
   "cell_type": "code",
   "execution_count": 139,
   "metadata": {},
   "outputs": [
    {
     "name": "stdout",
     "output_type": "stream",
     "text": [
      "                 Generalized Linear Model Regression Results                  \n",
      "==============================================================================\n",
      "Dep. Variable:               pdynamic   No. Observations:                  729\n",
      "Model:                            GLM   Df Residuals:                      722\n",
      "Model Family:                Binomial   Df Model:                            6\n",
      "Link Function:                  Logit   Scale:                          1.0000\n",
      "Method:                          IRLS   Log-Likelihood:                -449.53\n",
      "Date:                Tue, 14 Jun 2022   Deviance:                       899.06\n",
      "Time:                        13:13:37   Pearson chi2:                     751.\n",
      "No. Iterations:                     4   Pseudo R-squ. (CS):            0.07881\n",
      "Covariance Type:            nonrobust                                         \n",
      "================================================================================\n",
      "                   coef    std err          z      P>|z|      [0.025      0.975]\n",
      "--------------------------------------------------------------------------------\n",
      "rndf             0.4753      0.296      1.607      0.108      -0.105       1.055\n",
      "ddist_bin       -0.4343      0.321     -1.352      0.177      -1.064       0.195\n",
      "ddist_int        0.0001      0.000      1.134      0.257      -0.000       0.000\n",
      "ddist_abs    -8.244e-05      0.000     -0.641      0.521      -0.000       0.000\n",
      "avg_emp_pp      -0.2489      0.053     -4.658      0.000      -0.354      -0.144\n",
      "public_count    -0.4375      0.108     -4.067      0.000      -0.648      -0.227\n",
      "const            4.1155      0.618      6.654      0.000       2.903       5.328\n",
      "================================================================================\n"
     ]
    }
   ],
   "source": [
    "logit_model = GLM(y, X_constant, family=families.Binomial())\n",
    "logit_results = logit_model.fit()\n",
    "print(logit_results.summary())"
   ]
  },
  {
   "cell_type": "markdown",
   "metadata": {},
   "source": [
    "## Filter only R&D alliances"
   ]
  },
  {
   "cell_type": "code",
   "execution_count": 152,
   "metadata": {},
   "outputs": [],
   "source": [
    "df2 = pd.read_csv('./data/JV_data_dist.csv')"
   ]
  },
  {
   "cell_type": "code",
   "execution_count": 153,
   "metadata": {},
   "outputs": [],
   "source": [
    "df2 = df2[df2['rndf'] == \"Yes\"]"
   ]
  },
  {
   "cell_type": "code",
   "execution_count": 154,
   "metadata": {},
   "outputs": [],
   "source": [
    "df2['rndf'] = df2['rndf'].map({\"Yes\": 1, \"No\": 0})\n",
    "df2['pdynamic'] = df2['pdynamic'].map({'new_entrant': 1, 'incumbent': 0})"
   ]
  },
  {
   "cell_type": "code",
   "execution_count": 159,
   "metadata": {},
   "outputs": [],
   "source": [
    "cols2 = ['rndf', 'ddist_bin','ddist_int', 'ddist_abs', 'avg_emp_pp', 'public_count', 'pdynamic']\n",
    "df2 = df2[cols2].dropna()"
   ]
  },
  {
   "cell_type": "code",
   "execution_count": 160,
   "metadata": {},
   "outputs": [],
   "source": [
    "cols2 = ['ddist_bin','ddist_int', 'ddist_abs', 'avg_emp_pp', 'public_count']\n",
    "X2 = (df2[cols2]).astype(float)\n",
    "y2 = df2['pdynamic'].astype(float)\n",
    "X2_constant = sm.add_constant(X2, prepend=False)"
   ]
  },
  {
   "cell_type": "code",
   "execution_count": 161,
   "metadata": {},
   "outputs": [
    {
     "name": "stdout",
     "output_type": "stream",
     "text": [
      "                 Generalized Linear Model Regression Results                  \n",
      "==============================================================================\n",
      "Dep. Variable:               pdynamic   No. Observations:                   66\n",
      "Model:                            GLM   Df Residuals:                       60\n",
      "Model Family:                Binomial   Df Model:                            5\n",
      "Link Function:                  Logit   Scale:                          1.0000\n",
      "Method:                          IRLS   Log-Likelihood:                -33.305\n",
      "Date:                Tue, 14 Jun 2022   Deviance:                       66.611\n",
      "Time:                        13:19:09   Pearson chi2:                     61.8\n",
      "No. Iterations:                     5   Pseudo R-squ. (CS):             0.1741\n",
      "Covariance Type:            nonrobust                                         \n",
      "================================================================================\n",
      "                   coef    std err          z      P>|z|      [0.025      0.975]\n",
      "--------------------------------------------------------------------------------\n",
      "ddist_bin       -0.0651      1.194     -0.055      0.956      -2.405       2.274\n",
      "ddist_int        0.0002      0.000      0.504      0.614      -0.001       0.001\n",
      "ddist_abs       -0.0004      0.000     -0.874      0.382      -0.001       0.001\n",
      "avg_emp_pp      -0.2044      0.217     -0.944      0.345      -0.629       0.220\n",
      "public_count    -0.9790      0.435     -2.249      0.025      -1.832      -0.126\n",
      "const            5.2489      2.543      2.064      0.039       0.264      10.234\n",
      "================================================================================\n"
     ]
    }
   ],
   "source": [
    "logit_model = GLM(y2, X2_constant, family=families.Binomial())\n",
    "logit_results = logit_model.fit()\n",
    "print(logit_results.summary())"
   ]
  },
  {
   "cell_type": "markdown",
   "metadata": {},
   "source": [
    "## Filter for alliance primary SIC"
   ]
  },
  {
   "cell_type": "markdown",
   "metadata": {},
   "source": [
    "df3 = "
   ]
  }
 ],
 "metadata": {
  "kernelspec": {
   "display_name": "Python 3.9.10 64-bit",
   "language": "python",
   "name": "python3"
  },
  "language_info": {
   "codemirror_mode": {
    "name": "ipython",
    "version": 3
   },
   "file_extension": ".py",
   "mimetype": "text/x-python",
   "name": "python",
   "nbconvert_exporter": "python",
   "pygments_lexer": "ipython3",
   "version": "3.9.10"
  },
  "orig_nbformat": 4,
  "vscode": {
   "interpreter": {
    "hash": "aee8b7b246df8f9039afb4144a1f6fd8d2ca17a180786b69acc140d282b71a49"
   }
  }
 },
 "nbformat": 4,
 "nbformat_minor": 2
}
