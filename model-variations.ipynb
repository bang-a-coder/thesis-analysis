{
 "cells": [
  {
   "cell_type": "code",
   "execution_count": 44,
   "metadata": {},
   "outputs": [],
   "source": [
    "import pandas as pd\n",
    "import dask as dd\n",
    "import numpy as np\n",
    "import seaborn as sns\n",
    "import matplotlib.pyplot as plt\n",
    "import datetime as dt\n",
    "import statsmodels.formula.api as smf\n",
    "import statistics\n",
    "\n",
    "from sklearn.linear_model import LogisticRegression\n",
    "\n",
    "import statsmodels.api as sm\n",
    "from statsmodels.genmod.generalized_linear_model import GLM\n",
    "from statsmodels.genmod import families\n",
    "from statsmodels.stats.outliers_influence import variance_inflation_factor\n",
    "\n",
    "from scipy import stats"
   ]
  },
  {
   "cell_type": "code",
   "execution_count": 75,
   "metadata": {},
   "outputs": [],
   "source": [
    "def basePrep(df):\n",
    "\tdf['rndf'] = df['rndf'].map({\"Yes\": 1, \"No\": 0})\n",
    "\tdf['pdynamic'] = df['pdynamic'].map({'new_entrant': 1, 'incumbent': 0})\t\n",
    "\tdf[\"SNATION_PARTAL\".lower()] = df[\"SNATION_PARTAL\".lower()].map({\"Y\": 1, \"N\": 0})\n",
    "\tdf['cr_bor_part'] = df['cr_bor_part'].map({\"Y\": 1, \"N\": 0})\n",
    "\tdf['mfgf'] = df['mfgf'].map({\"Yes\": 1, \"No\": 0})\n",
    "\tdf['jvf'] = df['jvf'].map({'Yes': 1, 'No': 0})\n",
    "\t\n",
    "\tcols = ['rndf', 'jvf','ddist_bin','ddist_int', 'ddist_abs', 'ddist_year',\n",
    "\t\t'avg_emp_pp', 'public_count', 'pdynamic', \"SNATION_PARTAL\".lower(), \n",
    "\t\t'cr_bor_part', 'mfgf', 'avg_emp_pp_log']\n",
    "\tdf = df[cols].dropna()\n",
    "\t\n",
    "\treturn df\n",
    "\n",
    "def variation(df):\n",
    "\tcols = ['rndf', 'ddist_bin','ddist_int', 'ddist_abs', 'ddist_year', 'avg_emp_pp', 'public_count', \n",
    "\t\t\t\"SNATION_PARTAL\".lower(), 'cr_bor_part', 'mfgf']\n",
    "\tX = (df[cols]).astype(float)\n",
    "\ty = df['pdynamic'].astype(float)\n",
    "\tX_constant = sm.add_constant(X, prepend=False)\n",
    "\n",
    "\tlogit_model = GLM(y, X_constant, family=families.Binomial())\n",
    "\tlogit_results = logit_model.fit()\n",
    "\tprint(logit_results.summary())"
   ]
  },
  {
   "cell_type": "markdown",
   "metadata": {},
   "source": [
    "## Try all potential variables"
   ]
  },
  {
   "cell_type": "code",
   "execution_count": 76,
   "metadata": {},
   "outputs": [
    {
     "name": "stdout",
     "output_type": "stream",
     "text": [
      "                 Generalized Linear Model Regression Results                  \n",
      "==============================================================================\n",
      "Dep. Variable:               pdynamic   No. Observations:                  729\n",
      "Model:                            GLM   Df Residuals:                      718\n",
      "Model Family:                Binomial   Df Model:                           10\n",
      "Link Function:                  Logit   Scale:                          1.0000\n",
      "Method:                          IRLS   Log-Likelihood:                -433.13\n",
      "Date:                Thu, 16 Jun 2022   Deviance:                       866.26\n",
      "Time:                        17:58:18   Pearson chi2:                     740.\n",
      "No. Iterations:                    19   Pseudo R-squ. (CS):             0.1193\n",
      "Covariance Type:            nonrobust                                         \n",
      "==================================================================================\n",
      "                     coef    std err          z      P>|z|      [0.025      0.975]\n",
      "----------------------------------------------------------------------------------\n",
      "rndf               0.2749      0.310      0.886      0.375      -0.333       0.883\n",
      "ddist_bin         -0.4963      0.330     -1.503      0.133      -1.144       0.151\n",
      "ddist_int         -0.0004      0.001     -0.474      0.635      -0.002       0.001\n",
      "ddist_abs      -7.559e-05      0.000     -0.569      0.569      -0.000       0.000\n",
      "ddist_year         0.2024      0.302      0.670      0.503      -0.390       0.795\n",
      "avg_emp_pp     -2.997e-06    7.7e-07     -3.894      0.000   -4.51e-06   -1.49e-06\n",
      "public_count      -0.6350      0.111     -5.728      0.000      -0.852      -0.418\n",
      "snation_partal   -18.6177   1.77e+04     -0.001      0.999   -3.48e+04    3.47e+04\n",
      "cr_bor_part      -19.6740   1.77e+04     -0.001      0.999   -3.48e+04    3.47e+04\n",
      "mfgf              -0.6978      0.184     -3.797      0.000      -1.058      -0.338\n",
      "const             22.0553   1.77e+04      0.001      0.999   -3.47e+04    3.48e+04\n",
      "==================================================================================\n"
     ]
    }
   ],
   "source": [
    "df = pd.read_csv('./data/JV_data_dist.csv')\n",
    "df = basePrep(df)\n",
    "\n",
    "variation(df)"
   ]
  },
  {
   "cell_type": "markdown",
   "metadata": {},
   "source": [
    "## Filter only R&D alliances"
   ]
  },
  {
   "cell_type": "code",
   "execution_count": 77,
   "metadata": {},
   "outputs": [
    {
     "name": "stdout",
     "output_type": "stream",
     "text": [
      "                 Generalized Linear Model Regression Results                  \n",
      "==============================================================================\n",
      "Dep. Variable:               pdynamic   No. Observations:                   66\n",
      "Model:                            GLM   Df Residuals:                       57\n",
      "Model Family:                Binomial   Df Model:                            8\n",
      "Link Function:                  Logit   Scale:                          1.0000\n",
      "Method:                          IRLS   Log-Likelihood:                -33.231\n",
      "Date:                Thu, 16 Jun 2022   Deviance:                       66.461\n",
      "Time:                        17:58:27   Pearson chi2:                     61.9\n",
      "No. Iterations:                     5   Pseudo R-squ. (CS):             0.1759\n",
      "Covariance Type:            nonrobust                                         \n",
      "==================================================================================\n",
      "                     coef    std err          z      P>|z|      [0.025      0.975]\n",
      "----------------------------------------------------------------------------------\n",
      "rndf               2.5577      0.991      2.580      0.010       0.615       4.501\n",
      "ddist_bin         -0.3859      1.250     -0.309      0.757      -2.835       2.063\n",
      "ddist_int         -0.0025      0.003     -0.771      0.441      -0.009       0.004\n",
      "ddist_abs         -0.0005      0.001     -0.908      0.364      -0.002       0.001\n",
      "ddist_year         1.0769      1.215      0.886      0.376      -1.305       3.459\n",
      "avg_emp_pp      1.522e-06   3.16e-06      0.482      0.630   -4.66e-06    7.71e-06\n",
      "public_count      -1.2133      0.448     -2.709      0.007      -2.091      -0.335\n",
      "snation_partal     1.4936      0.705      2.118      0.034       0.112       2.876\n",
      "cr_bor_part        1.0641      0.525      2.028      0.043       0.036       2.093\n",
      "mfgf              -0.1048      0.648     -0.162      0.871      -1.375       1.165\n",
      "==================================================================================\n"
     ]
    }
   ],
   "source": [
    "df2 = pd.read_csv('./data/JV_data_dist.csv')\n",
    "\n",
    "df2 = df2[df2['rndf'] == \"Yes\"]\n",
    "df2 = basePrep(df2)\n",
    "\n",
    "variation(df2)"
   ]
  },
  {
   "cell_type": "markdown",
   "metadata": {},
   "source": [
    "## Filter for alliance SIC"
   ]
  },
  {
   "cell_type": "code",
   "execution_count": 78,
   "metadata": {},
   "outputs": [
    {
     "name": "stdout",
     "output_type": "stream",
     "text": [
      "                 Generalized Linear Model Regression Results                  \n",
      "==============================================================================\n",
      "Dep. Variable:               pdynamic   No. Observations:                  311\n",
      "Model:                            GLM   Df Residuals:                      301\n",
      "Model Family:                Binomial   Df Model:                            9\n",
      "Link Function:                  Logit   Scale:                          1.0000\n",
      "Method:                          IRLS   Log-Likelihood:                -187.81\n",
      "Date:                Thu, 16 Jun 2022   Deviance:                       375.63\n",
      "Time:                        17:58:35   Pearson chi2:                     323.\n",
      "No. Iterations:                     4   Pseudo R-squ. (CS):             0.1551\n",
      "Covariance Type:            nonrobust                                         \n",
      "==================================================================================\n",
      "                     coef    std err          z      P>|z|      [0.025      0.975]\n",
      "----------------------------------------------------------------------------------\n",
      "rndf              -0.5267      0.696     -0.756      0.449      -1.892       0.838\n",
      "ddist_bin         -0.4088      0.503     -0.813      0.416      -1.394       0.577\n",
      "ddist_int         -0.0005      0.001     -0.421      0.674      -0.003       0.002\n",
      "ddist_abs       2.828e-05      0.000      0.139      0.890      -0.000       0.000\n",
      "ddist_year         0.3466      0.469      0.739      0.460      -0.573       1.266\n",
      "avg_emp_pp     -5.023e-06   1.48e-06     -3.390      0.001   -7.93e-06   -2.12e-06\n",
      "public_count      -0.7184      0.183     -3.925      0.000      -1.077      -0.360\n",
      "snation_partal     0.8401      0.286      2.937      0.003       0.279       1.401\n",
      "cr_bor_part        0.2048      0.240      0.852      0.394      -0.266       0.676\n",
      "mfgf               0.0198      0.375      0.053      0.958      -0.714       0.754\n",
      "const              1.0448      0.402      2.596      0.009       0.256       1.834\n",
      "==================================================================================\n"
     ]
    }
   ],
   "source": [
    "df3 = pd.read_csv(\"./data/JV_data_dist.csv\")\n",
    "\n",
    "#Select alliances that at least part of their goal was manufacturing of cars\n",
    "df3 = df3[df3['sic'].str.contains('3711') == True]\n",
    "df3 = basePrep(df3)\n",
    "\n",
    "variation(df3)"
   ]
  },
  {
   "cell_type": "markdown",
   "metadata": {},
   "source": [
    "## Filter for same nation participants and alliance"
   ]
  },
  {
   "cell_type": "code",
   "execution_count": 79,
   "metadata": {},
   "outputs": [
    {
     "name": "stdout",
     "output_type": "stream",
     "text": [
      "                 Generalized Linear Model Regression Results                  \n",
      "==============================================================================\n",
      "Dep. Variable:               pdynamic   No. Observations:                  154\n",
      "Model:                            GLM   Df Residuals:                      145\n",
      "Model Family:                Binomial   Df Model:                            8\n",
      "Link Function:                  Logit   Scale:                          1.0000\n",
      "Method:                          IRLS   Log-Likelihood:                -74.801\n",
      "Date:                Thu, 16 Jun 2022   Deviance:                       149.60\n",
      "Time:                        17:58:52   Pearson chi2:                     155.\n",
      "No. Iterations:                     5   Pseudo R-squ. (CS):            0.06547\n",
      "Covariance Type:            nonrobust                                         \n",
      "==================================================================================\n",
      "                     coef    std err          z      P>|z|      [0.025      0.975]\n",
      "----------------------------------------------------------------------------------\n",
      "rndf              -0.5432      0.661     -0.822      0.411      -1.839       0.753\n",
      "ddist_bin         -0.6884      0.745     -0.924      0.355      -2.149       0.772\n",
      "ddist_int      -6.276e-05      0.002     -0.027      0.979      -0.005       0.005\n",
      "ddist_abs          0.0004      0.000      1.078      0.281      -0.000       0.001\n",
      "ddist_year         0.1152      0.836      0.138      0.890      -1.524       1.755\n",
      "avg_emp_pp     -8.406e-07   2.25e-06     -0.374      0.708   -5.24e-06    3.56e-06\n",
      "public_count      -0.3269      0.264     -1.237      0.216      -0.845       0.191\n",
      "snation_partal     2.9326      0.925      3.172      0.002       1.121       4.745\n",
      "cr_bor_part             0          0        nan        nan           0           0\n",
      "mfgf              -1.2955      0.509     -2.547      0.011      -2.292      -0.299\n",
      "==================================================================================\n"
     ]
    }
   ],
   "source": [
    "df4 = pd.read_csv(\"./data/JV_data_dist.csv\")\n",
    "\n",
    "#Select alliances that at least part of their goal was manufacturing of cars\n",
    "df4 = df4[df4['snation_partal'] == \"Y\"]\n",
    "df4 = basePrep(df4)\n",
    "\n",
    "variation(df4)"
   ]
  },
  {
   "cell_type": "markdown",
   "metadata": {},
   "source": [
    "## Filter for Manufacturing agreement flags"
   ]
  },
  {
   "cell_type": "code",
   "execution_count": 80,
   "metadata": {},
   "outputs": [
    {
     "name": "stdout",
     "output_type": "stream",
     "text": [
      "                 Generalized Linear Model Regression Results                  \n",
      "==============================================================================\n",
      "Dep. Variable:               pdynamic   No. Observations:                  481\n",
      "Model:                            GLM   Df Residuals:                      472\n",
      "Model Family:                Binomial   Df Model:                            8\n",
      "Link Function:                  Logit   Scale:                          1.0000\n",
      "Method:                          IRLS   Log-Likelihood:                -295.71\n",
      "Date:                Thu, 16 Jun 2022   Deviance:                       591.41\n",
      "Time:                        17:58:57   Pearson chi2:                     491.\n",
      "No. Iterations:                     4   Pseudo R-squ. (CS):             0.1191\n",
      "Covariance Type:            nonrobust                                         \n",
      "==================================================================================\n",
      "                     coef    std err          z      P>|z|      [0.025      0.975]\n",
      "----------------------------------------------------------------------------------\n",
      "rndf               0.6016      0.483      1.246      0.213      -0.345       1.548\n",
      "ddist_bin         -0.3711      0.381     -0.973      0.331      -1.119       0.377\n",
      "ddist_int         -0.0001      0.001     -0.143      0.886      -0.002       0.002\n",
      "ddist_abs      -6.332e-05      0.000     -0.411      0.681      -0.000       0.000\n",
      "ddist_year         0.1394      0.363      0.384      0.701      -0.573       0.852\n",
      "avg_emp_pp     -4.023e-06   9.99e-07     -4.027      0.000   -5.98e-06   -2.07e-06\n",
      "public_count      -0.6362      0.141     -4.519      0.000      -0.912      -0.360\n",
      "snation_partal     1.0922      0.208      5.263      0.000       0.685       1.499\n",
      "cr_bor_part        0.3163      0.159      1.985      0.047       0.004       0.629\n",
      "mfgf               1.4085      0.257      5.475      0.000       0.904       1.913\n",
      "==================================================================================\n"
     ]
    }
   ],
   "source": [
    "df5 = pd.read_csv(\"./data/JV_data_dist.csv\")\n",
    "\n",
    "#Select alliances that at least part of their goal was manufacturing of cars\n",
    "df5 = df5[df5['mfgf'] == \"Yes\"]\n",
    "df5 = basePrep(df5)\n",
    "\n",
    "variation(df5)"
   ]
  },
  {
   "cell_type": "code",
   "execution_count": 81,
   "metadata": {},
   "outputs": [
    {
     "name": "stdout",
     "output_type": "stream",
     "text": [
      "                 Generalized Linear Model Regression Results                  \n",
      "==============================================================================\n",
      "Dep. Variable:               pdynamic   No. Observations:                  267\n",
      "Model:                            GLM   Df Residuals:                      258\n",
      "Model Family:                Binomial   Df Model:                            8\n",
      "Link Function:                  Logit   Scale:                          1.0000\n",
      "Method:                          IRLS   Log-Likelihood:                -162.41\n",
      "Date:                Thu, 16 Jun 2022   Deviance:                       324.81\n",
      "Time:                        17:59:01   Pearson chi2:                     278.\n",
      "No. Iterations:                     4   Pseudo R-squ. (CS):             0.1475\n",
      "Covariance Type:            nonrobust                                         \n",
      "==================================================================================\n",
      "                     coef    std err          z      P>|z|      [0.025      0.975]\n",
      "----------------------------------------------------------------------------------\n",
      "rndf              -0.2752      0.831     -0.331      0.741      -1.904       1.354\n",
      "ddist_bin         -0.5193      0.510     -1.018      0.308      -1.519       0.480\n",
      "ddist_int          0.0001      0.001      0.111      0.912      -0.003       0.003\n",
      "ddist_abs       7.426e-05      0.000      0.357      0.721      -0.000       0.000\n",
      "ddist_year         0.1279      0.496      0.258      0.796      -0.844       1.099\n",
      "avg_emp_pp     -3.917e-06   1.55e-06     -2.530      0.011   -6.95e-06   -8.82e-07\n",
      "public_count      -0.7267      0.195     -3.723      0.000      -1.109      -0.344\n",
      "snation_partal     0.6579      0.268      2.458      0.014       0.133       1.183\n",
      "cr_bor_part        0.2813      0.213      1.318      0.187      -0.137       0.700\n",
      "mfgf               0.9393      0.315      2.983      0.003       0.322       1.556\n",
      "==================================================================================\n"
     ]
    }
   ],
   "source": [
    "df6 = pd.read_csv(\"./data/JV_data_dist.csv\")\n",
    "\n",
    "#Select alliances that at least part of their goal was manufacturing of cars\n",
    "df6 = df6[df6['mfgf'] == \"Yes\"]\n",
    "df6 = df6[df6['sic'].str.contains('3711') == True]\n",
    "df6 = basePrep(df6)\n",
    "\n",
    "variation(df6)"
   ]
  },
  {
   "cell_type": "code",
   "execution_count": 82,
   "metadata": {},
   "outputs": [
    {
     "name": "stdout",
     "output_type": "stream",
     "text": [
      "                 Generalized Linear Model Regression Results                  \n",
      "==============================================================================\n",
      "Dep. Variable:               pdynamic   No. Observations:                  202\n",
      "Model:                            GLM   Df Residuals:                      193\n",
      "Model Family:                Binomial   Df Model:                            8\n",
      "Link Function:                  Logit   Scale:                          1.0000\n",
      "Method:                          IRLS   Log-Likelihood:                -119.68\n",
      "Date:                Thu, 16 Jun 2022   Deviance:                       239.36\n",
      "Time:                        17:59:07   Pearson chi2:                     204.\n",
      "No. Iterations:                     4   Pseudo R-squ. (CS):             0.1665\n",
      "Covariance Type:            nonrobust                                         \n",
      "==================================================================================\n",
      "                     coef    std err          z      P>|z|      [0.025      0.975]\n",
      "----------------------------------------------------------------------------------\n",
      "rndf              -0.6103      1.294     -0.472      0.637      -3.147       1.927\n",
      "ddist_bin         -1.1126      0.618     -1.799      0.072      -2.325       0.099\n",
      "ddist_int          0.0004      0.002      0.268      0.788      -0.003       0.004\n",
      "ddist_abs      -5.761e-05      0.000     -0.229      0.819      -0.001       0.000\n",
      "ddist_year         0.1255      0.592      0.212      0.832      -1.034       1.285\n",
      "avg_emp_pp     -3.797e-06   1.71e-06     -2.218      0.027   -7.15e-06   -4.42e-07\n",
      "public_count      -0.9632      0.319     -3.021      0.003      -1.588      -0.338\n",
      "snation_partal     1.0468      0.346      3.026      0.002       0.369       1.725\n",
      "cr_bor_part        0.4426      0.296      1.495      0.135      -0.138       1.023\n",
      "mfgf               1.4893      0.478      3.117      0.002       0.553       2.426\n",
      "==================================================================================\n"
     ]
    }
   ],
   "source": [
    "df7 = pd.read_csv(\"./data/JV_data_dist.csv\")\n",
    "\n",
    "#Select alliances that at least part of their goal was manufacturing of cars\n",
    "df7 = df7[df7['mfgf'] == \"Yes\"]\n",
    "df7 = df7[df7['sic'].str.contains('3711') == True]\n",
    "df7 = df7[df7['public_count'] >= 1]\n",
    "df7 = df7[df7['nump'] == 2]\n",
    "df7 = basePrep(df7)\n",
    "\n",
    "variation(df7)"
   ]
  },
  {
   "cell_type": "markdown",
   "metadata": {},
   "source": [
    "## Filter for single country"
   ]
  },
  {
   "cell_type": "code",
   "execution_count": 83,
   "metadata": {},
   "outputs": [
    {
     "name": "stdout",
     "output_type": "stream",
     "text": [
      "                 Generalized Linear Model Regression Results                  \n",
      "==============================================================================\n",
      "Dep. Variable:               pdynamic   No. Observations:                   76\n",
      "Model:                            GLM   Df Residuals:                       66\n",
      "Model Family:                Binomial   Df Model:                            9\n",
      "Link Function:                  Logit   Scale:                          1.0000\n",
      "Method:                          IRLS   Log-Likelihood:                -30.780\n",
      "Date:                Thu, 16 Jun 2022   Deviance:                       61.560\n",
      "Time:                        17:59:11   Pearson chi2:                 1.60e+03\n",
      "No. Iterations:                     6   Pseudo R-squ. (CS):             0.3085\n",
      "Covariance Type:            nonrobust                                         \n",
      "==================================================================================\n",
      "                     coef    std err          z      P>|z|      [0.025      0.975]\n",
      "----------------------------------------------------------------------------------\n",
      "rndf              -1.8520      1.691     -1.095      0.273      -5.166       1.462\n",
      "ddist_bin          0.7135      1.188      0.601      0.548      -1.615       3.042\n",
      "ddist_int         -0.0052      0.004     -1.392      0.164      -0.013       0.002\n",
      "ddist_abs          0.0006      0.001      0.993      0.321      -0.001       0.002\n",
      "ddist_year         1.9898      1.358      1.465      0.143      -0.673       4.652\n",
      "avg_emp_pp     -3.857e-07   5.24e-06     -0.074      0.941   -1.07e-05    9.89e-06\n",
      "public_count      -2.1964      0.623     -3.523      0.000      -3.418      -0.974\n",
      "snation_partal     2.4863      1.003      2.479      0.013       0.520       4.452\n",
      "cr_bor_part        1.9611      0.703      2.789      0.005       0.583       3.339\n",
      "mfgf              -2.8254      1.316     -2.147      0.032      -5.404      -0.247\n",
      "const              4.4474      1.475      3.016      0.003       1.557       7.338\n",
      "==================================================================================\n"
     ]
    }
   ],
   "source": [
    "df8 = pd.read_csv(\"./data/JV_data_dist.csv\")\n",
    "\n",
    "#Select alliances that at least part of their goal was manufacturing of cars\n",
    "df8 = df8[df8['natc'] == \"IN\"]\n",
    "\n",
    "df8 = basePrep(df8)\n",
    "\n",
    "variation(df8)"
   ]
  },
  {
   "cell_type": "markdown",
   "metadata": {},
   "source": [
    "## Test for final H1"
   ]
  },
  {
   "cell_type": "code",
   "execution_count": 88,
   "metadata": {},
   "outputs": [
    {
     "name": "stdout",
     "output_type": "stream",
     "text": [
      "                 Generalized Linear Model Regression Results                  \n",
      "==============================================================================\n",
      "Dep. Variable:               pdynamic   No. Observations:                  202\n",
      "Model:                            GLM   Df Residuals:                      200\n",
      "Model Family:                Binomial   Df Model:                            1\n",
      "Link Function:                  Logit   Scale:                          1.0000\n",
      "Method:                          IRLS   Log-Likelihood:                -130.98\n",
      "Date:                Thu, 16 Jun 2022   Deviance:                       261.95\n",
      "Time:                        18:00:15   Pearson chi2:                     202.\n",
      "No. Iterations:                     4   Pseudo R-squ. (CS):            0.06781\n",
      "Covariance Type:            nonrobust                                         \n",
      "==============================================================================\n",
      "                 coef    std err          z      P>|z|      [0.025      0.975]\n",
      "------------------------------------------------------------------------------\n",
      "ddist_year     0.1629      0.045      3.637      0.000       0.075       0.251\n",
      "const         -0.3448      0.149     -2.309      0.021      -0.637      -0.052\n",
      "==============================================================================\n"
     ]
    }
   ],
   "source": [
    "dfH = pd.read_csv(\"./data/JV_data_dist.csv\")\n",
    "\n",
    "dfH = dfH[dfH['mfgf'] == \"Yes\"]\n",
    "dfH = dfH[dfH['sic'].str.contains('3711') == True]\n",
    "dfH = dfH[dfH['public_count'] >= 1]\n",
    "dfH = dfH[dfH['nump'] == 2]\n",
    "dfH = dfH[dfH['avg_emp_pp'] >= 8]\n",
    "dfH = basePrep(dfH)\n",
    "\n",
    "cols = ['ddist_year']\n",
    "X = (dfH[cols]).astype(float)\n",
    "y = dfH['pdynamic'].astype(float)\n",
    "X_constant = sm.add_constant(X, prepend=False)\n",
    "\n",
    "logit_model = GLM(y, X_constant, family=families.Binomial())\n",
    "logit_results = logit_model.fit()\n",
    "print(logit_results.summary())"
   ]
  },
  {
   "cell_type": "markdown",
   "metadata": {},
   "source": [
    "## Test for final H2"
   ]
  },
  {
   "cell_type": "code",
   "execution_count": 84,
   "metadata": {},
   "outputs": [
    {
     "name": "stdout",
     "output_type": "stream",
     "text": [
      "                 Generalized Linear Model Regression Results                  \n",
      "==============================================================================\n",
      "Dep. Variable:                    jvf   No. Observations:                  194\n",
      "Model:                            GLM   Df Residuals:                      187\n",
      "Model Family:                Binomial   Df Model:                            6\n",
      "Link Function:                  Logit   Scale:                          1.0000\n",
      "Method:                          IRLS   Log-Likelihood:                -103.16\n",
      "Date:                Thu, 16 Jun 2022   Deviance:                       206.33\n",
      "Time:                        17:59:27   Pearson chi2:                     194.\n",
      "No. Iterations:                     4   Pseudo R-squ. (CS):             0.1035\n",
      "Covariance Type:            nonrobust                                         \n",
      "==================================================================================\n",
      "                     coef    std err          z      P>|z|      [0.025      0.975]\n",
      "----------------------------------------------------------------------------------\n",
      "ddist_int          0.0005      0.000      3.448      0.001       0.000       0.001\n",
      "public_count       0.4676      0.359      1.302      0.193      -0.236       1.172\n",
      "rndf              -2.0660      1.238     -1.669      0.095      -4.492       0.360\n",
      "snation_partal    -0.5660      0.461     -1.229      0.219      -1.469       0.337\n",
      "avg_emp_pp       -8.1e-07   2.89e-06     -0.281      0.779   -6.46e-06    4.84e-06\n",
      "avg_emp_pp_log    -0.0333      0.244     -0.137      0.891      -0.511       0.444\n",
      "const              0.9075      2.329      0.390      0.697      -3.657       5.472\n",
      "==================================================================================\n"
     ]
    }
   ],
   "source": [
    "dfH2 = pd.read_csv(\"./data/JV_data_dist.csv\")\n",
    "\n",
    "dfH2 = dfH2[dfH2['mfgf'] == \"Yes\"]\n",
    "dfH2 = dfH2[dfH2['sic'].str.contains('3711') == True]\n",
    "dfH2 = dfH2[dfH2['public_count'] >= 1]\n",
    "dfH2 = dfH2[dfH2['nump'] == 2]\n",
    "dfH2 = dfH2[dfH2['avg_emp_pp'] >=1000]\n",
    "\n",
    "dfH2 = basePrep(dfH2)\n",
    "\n",
    "cols = ['ddist_int', 'public_count', 'rndf', 'snation_partal', 'avg_emp_pp', 'avg_emp_pp_log']\n",
    "X = (dfH2[cols]).astype(float)\n",
    "y = dfH2['jvf'].astype(float)\n",
    "X_constant = sm.add_constant(X, prepend=False)\n",
    "\n",
    "logit_model = GLM(y, X_constant, family=families.Binomial())\n",
    "logit_results = logit_model.fit()\n",
    "print(logit_results.summary())"
   ]
  },
  {
   "cell_type": "code",
   "execution_count": null,
   "metadata": {},
   "outputs": [],
   "source": []
  }
 ],
 "metadata": {
  "kernelspec": {
   "display_name": "Python 3.9.10 64-bit",
   "language": "python",
   "name": "python3"
  },
  "language_info": {
   "codemirror_mode": {
    "name": "ipython",
    "version": 3
   },
   "file_extension": ".py",
   "mimetype": "text/x-python",
   "name": "python",
   "nbconvert_exporter": "python",
   "pygments_lexer": "ipython3",
   "version": "3.9.10"
  },
  "orig_nbformat": 4,
  "vscode": {
   "interpreter": {
    "hash": "aee8b7b246df8f9039afb4144a1f6fd8d2ca17a180786b69acc140d282b71a49"
   }
  }
 },
 "nbformat": 4,
 "nbformat_minor": 2
}
