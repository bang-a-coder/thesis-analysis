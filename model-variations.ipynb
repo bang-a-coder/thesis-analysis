{
 "cells": [
  {
   "cell_type": "code",
   "execution_count": 44,
   "metadata": {},
   "outputs": [],
   "source": [
    "import pandas as pd\n",
    "import dask as dd\n",
    "import numpy as np\n",
    "import seaborn as sns\n",
    "import matplotlib.pyplot as plt\n",
    "import datetime as dt\n",
    "import statsmodels.formula.api as smf\n",
    "import statistics\n",
    "\n",
    "from sklearn.linear_model import LogisticRegression\n",
    "\n",
    "import statsmodels.api as sm\n",
    "from statsmodels.genmod.generalized_linear_model import GLM\n",
    "from statsmodels.genmod import families\n",
    "from statsmodels.stats.outliers_influence import variance_inflation_factor\n",
    "\n",
    "from scipy import stats"
   ]
  },
  {
   "cell_type": "code",
   "execution_count": 45,
   "metadata": {},
   "outputs": [],
   "source": [
    "def basePrep(df):\n",
    "\tdf['rndf'] = df['rndf'].map({\"Yes\": 1, \"No\": 0})\n",
    "\tdf['pdynamic'] = df['pdynamic'].map({'new_entrant': 1, 'incumbent': 0})\t\n",
    "\tdf[\"SNATION_PARTAL\".lower()] = df[\"SNATION_PARTAL\".lower()].map({\"Y\": 1, \"N\": 0})\n",
    "\tdf['cr_bor_part'] = df['cr_bor_part'].map({\"Y\": 1, \"N\": 0})\n",
    "\tdf['mfgf'] = df['mfgf'].map({\"Yes\": 1, \"No\": 0})\n",
    "\tdf['jvf'] = df['jvf'].map({'Yes': 1, 'No': 0})\n",
    "\t\n",
    "\tcols = ['rndf', 'jvf','ddist_bin','ddist_int', 'ddist_abs', \n",
    "\t\t'avg_emp_pp', 'public_count', 'pdynamic', \"SNATION_PARTAL\".lower(), \n",
    "\t\t'cr_bor_part', 'mfgf', 'avg_emp_pp_log']\n",
    "\tdf = df[cols].dropna()\n",
    "\t\n",
    "\treturn df\n",
    "\n",
    "def variation(df):\n",
    "\tcols = ['rndf', 'ddist_bin','ddist_int', 'ddist_abs', 'avg_emp_pp', 'public_count', \n",
    "\t\t\t\"SNATION_PARTAL\".lower(), 'cr_bor_part', 'mfgf']\n",
    "\tX = (df[cols]).astype(float)\n",
    "\ty = df['pdynamic'].astype(float)\n",
    "\tX_constant = sm.add_constant(X, prepend=False)\n",
    "\n",
    "\tlogit_model = GLM(y, X_constant, family=families.Binomial())\n",
    "\tlogit_results = logit_model.fit()\n",
    "\tprint(logit_results.summary())"
   ]
  },
  {
   "cell_type": "markdown",
   "metadata": {},
   "source": [
    "## Try all potential variables"
   ]
  },
  {
   "cell_type": "code",
   "execution_count": 46,
   "metadata": {},
   "outputs": [
    {
     "name": "stdout",
     "output_type": "stream",
     "text": [
      "                 Generalized Linear Model Regression Results                  \n",
      "==============================================================================\n",
      "Dep. Variable:               pdynamic   No. Observations:                  729\n",
      "Model:                            GLM   Df Residuals:                      719\n",
      "Model Family:                Binomial   Df Model:                            9\n",
      "Link Function:                  Logit   Scale:                          1.0000\n",
      "Method:                          IRLS   Log-Likelihood:                -433.35\n",
      "Date:                Thu, 16 Jun 2022   Deviance:                       866.71\n",
      "Time:                        17:20:04   Pearson chi2:                     739.\n",
      "No. Iterations:                    19   Pseudo R-squ. (CS):             0.1188\n",
      "Covariance Type:            nonrobust                                         \n",
      "==================================================================================\n",
      "                     coef    std err          z      P>|z|      [0.025      0.975]\n",
      "----------------------------------------------------------------------------------\n",
      "rndf               0.2668      0.310      0.860      0.390      -0.341       0.874\n",
      "ddist_bin         -0.5087      0.330     -1.543      0.123      -1.155       0.138\n",
      "ddist_int          0.0002      0.000      1.181      0.238      -0.000       0.000\n",
      "ddist_abs      -6.665e-05      0.000     -0.505      0.614      -0.000       0.000\n",
      "avg_emp_pp     -2.982e-06   7.69e-07     -3.877      0.000   -4.49e-06   -1.47e-06\n",
      "public_count      -0.6317      0.111     -5.708      0.000      -0.849      -0.415\n",
      "snation_partal   -18.6910   1.77e+04     -0.001      0.999   -3.48e+04    3.47e+04\n",
      "cr_bor_part      -19.7408   1.77e+04     -0.001      0.999   -3.48e+04    3.47e+04\n",
      "mfgf              -0.6949      0.184     -3.784      0.000      -1.055      -0.335\n",
      "const             22.0936   1.77e+04      0.001      0.999   -3.47e+04    3.48e+04\n",
      "==================================================================================\n"
     ]
    }
   ],
   "source": [
    "df = pd.read_csv('./data/JV_data_dist.csv')\n",
    "df = basePrep(df)\n",
    "\n",
    "variation(df)"
   ]
  },
  {
   "cell_type": "markdown",
   "metadata": {},
   "source": [
    "## Filter only R&D alliances"
   ]
  },
  {
   "cell_type": "code",
   "execution_count": 47,
   "metadata": {},
   "outputs": [
    {
     "name": "stdout",
     "output_type": "stream",
     "text": [
      "                 Generalized Linear Model Regression Results                  \n",
      "==============================================================================\n",
      "Dep. Variable:               pdynamic   No. Observations:                   66\n",
      "Model:                            GLM   Df Residuals:                       58\n",
      "Model Family:                Binomial   Df Model:                            7\n",
      "Link Function:                  Logit   Scale:                          1.0000\n",
      "Method:                          IRLS   Log-Likelihood:                -33.639\n",
      "Date:                Thu, 16 Jun 2022   Deviance:                       67.277\n",
      "Time:                        17:20:05   Pearson chi2:                     64.3\n",
      "No. Iterations:                     5   Pseudo R-squ. (CS):             0.1657\n",
      "Covariance Type:            nonrobust                                         \n",
      "==================================================================================\n",
      "                     coef    std err          z      P>|z|      [0.025      0.975]\n",
      "----------------------------------------------------------------------------------\n",
      "rndf               2.2089      0.864      2.557      0.011       0.516       3.902\n",
      "ddist_bin         -0.1877      1.209     -0.155      0.877      -2.557       2.182\n",
      "ddist_int          0.0003      0.001      0.676      0.499      -0.001       0.001\n",
      "ddist_abs         -0.0004      0.001     -0.746      0.455      -0.001       0.001\n",
      "avg_emp_pp      1.388e-06   3.18e-06      0.437      0.662   -4.84e-06    7.62e-06\n",
      "public_count      -1.1440      0.434     -2.638      0.008      -1.994      -0.294\n",
      "snation_partal     1.2667      0.624      2.028      0.043       0.043       2.491\n",
      "cr_bor_part        0.9423      0.495      1.904      0.057      -0.028       1.912\n",
      "mfgf              -0.0593      0.641     -0.092      0.926      -1.316       1.197\n",
      "==================================================================================\n"
     ]
    }
   ],
   "source": [
    "df2 = pd.read_csv('./data/JV_data_dist.csv')\n",
    "\n",
    "df2 = df2[df2['rndf'] == \"Yes\"]\n",
    "df2 = basePrep(df2)\n",
    "\n",
    "variation(df2)"
   ]
  },
  {
   "cell_type": "markdown",
   "metadata": {},
   "source": [
    "## Filter for alliance SIC"
   ]
  },
  {
   "cell_type": "code",
   "execution_count": 48,
   "metadata": {},
   "outputs": [
    {
     "name": "stdout",
     "output_type": "stream",
     "text": [
      "                 Generalized Linear Model Regression Results                  \n",
      "==============================================================================\n",
      "Dep. Variable:               pdynamic   No. Observations:                  311\n",
      "Model:                            GLM   Df Residuals:                      302\n",
      "Model Family:                Binomial   Df Model:                            8\n",
      "Link Function:                  Logit   Scale:                          1.0000\n",
      "Method:                          IRLS   Log-Likelihood:                -188.09\n",
      "Date:                Thu, 16 Jun 2022   Deviance:                       376.17\n",
      "Time:                        17:20:06   Pearson chi2:                     325.\n",
      "No. Iterations:                     4   Pseudo R-squ. (CS):             0.1536\n",
      "Covariance Type:            nonrobust                                         \n",
      "==================================================================================\n",
      "                     coef    std err          z      P>|z|      [0.025      0.975]\n",
      "----------------------------------------------------------------------------------\n",
      "rndf              -0.5452      0.694     -0.785      0.432      -1.906       0.816\n",
      "ddist_bin         -0.4074      0.503     -0.810      0.418      -1.393       0.578\n",
      "ddist_int          0.0004      0.000      1.973      0.048    2.66e-06       0.001\n",
      "ddist_abs         4.7e-05      0.000      0.232      0.817      -0.000       0.000\n",
      "avg_emp_pp     -4.965e-06   1.48e-06     -3.358      0.001   -7.86e-06   -2.07e-06\n",
      "public_count      -0.7084      0.182     -3.892      0.000      -1.065      -0.352\n",
      "snation_partal     0.8046      0.281      2.859      0.004       0.253       1.356\n",
      "cr_bor_part        0.1736      0.237      0.734      0.463      -0.290       0.637\n",
      "mfgf               0.0529      0.371      0.143      0.887      -0.675       0.780\n",
      "const              0.9782      0.392      2.498      0.012       0.211       1.746\n",
      "==================================================================================\n"
     ]
    }
   ],
   "source": [
    "df3 = pd.read_csv(\"./data/JV_data_dist.csv\")\n",
    "\n",
    "#Select alliances that at least part of their goal was manufacturing of cars\n",
    "df3 = df3[df3['sic'].str.contains('3711') == True]\n",
    "df3 = basePrep(df3)\n",
    "\n",
    "variation(df3)"
   ]
  },
  {
   "cell_type": "markdown",
   "metadata": {},
   "source": [
    "## Filter for same nation participants and alliance"
   ]
  },
  {
   "cell_type": "code",
   "execution_count": 49,
   "metadata": {},
   "outputs": [
    {
     "name": "stdout",
     "output_type": "stream",
     "text": [
      "                 Generalized Linear Model Regression Results                  \n",
      "==============================================================================\n",
      "Dep. Variable:               pdynamic   No. Observations:                  154\n",
      "Model:                            GLM   Df Residuals:                      146\n",
      "Model Family:                Binomial   Df Model:                            7\n",
      "Link Function:                  Logit   Scale:                          1.0000\n",
      "Method:                          IRLS   Log-Likelihood:                -74.811\n",
      "Date:                Thu, 16 Jun 2022   Deviance:                       149.62\n",
      "Time:                        17:20:06   Pearson chi2:                     155.\n",
      "No. Iterations:                     5   Pseudo R-squ. (CS):            0.06536\n",
      "Covariance Type:            nonrobust                                         \n",
      "==================================================================================\n",
      "                     coef    std err          z      P>|z|      [0.025      0.975]\n",
      "----------------------------------------------------------------------------------\n",
      "rndf              -0.5447      0.661     -0.824      0.410      -1.840       0.751\n",
      "ddist_bin         -0.7102      0.729     -0.975      0.330      -2.138       0.718\n",
      "ddist_int          0.0003      0.000      0.777      0.437      -0.000       0.001\n",
      "ddist_abs          0.0004      0.000      1.094      0.274      -0.000       0.001\n",
      "avg_emp_pp      -8.04e-07   2.23e-06     -0.361      0.718   -5.17e-06    3.56e-06\n",
      "public_count      -0.3278      0.264     -1.241      0.214      -0.845       0.190\n",
      "snation_partal     2.9279      0.924      3.168      0.002       1.116       4.739\n",
      "cr_bor_part             0          0        nan        nan           0           0\n",
      "mfgf              -1.2986      0.508     -2.555      0.011      -2.295      -0.302\n",
      "==================================================================================\n"
     ]
    }
   ],
   "source": [
    "df4 = pd.read_csv(\"./data/JV_data_dist.csv\")\n",
    "\n",
    "#Select alliances that at least part of their goal was manufacturing of cars\n",
    "df4 = df4[df4['snation_partal'] == \"Y\"]\n",
    "df4 = basePrep(df4)\n",
    "\n",
    "variation(df4)"
   ]
  },
  {
   "cell_type": "markdown",
   "metadata": {},
   "source": [
    "## Filter for Manufacturing agreement flags"
   ]
  },
  {
   "cell_type": "code",
   "execution_count": 50,
   "metadata": {},
   "outputs": [
    {
     "name": "stdout",
     "output_type": "stream",
     "text": [
      "                 Generalized Linear Model Regression Results                  \n",
      "==============================================================================\n",
      "Dep. Variable:               pdynamic   No. Observations:                  481\n",
      "Model:                            GLM   Df Residuals:                      473\n",
      "Model Family:                Binomial   Df Model:                            7\n",
      "Link Function:                  Logit   Scale:                          1.0000\n",
      "Method:                          IRLS   Log-Likelihood:                -295.78\n",
      "Date:                Thu, 16 Jun 2022   Deviance:                       591.56\n",
      "Time:                        17:20:07   Pearson chi2:                     492.\n",
      "No. Iterations:                     4   Pseudo R-squ. (CS):             0.1188\n",
      "Covariance Type:            nonrobust                                         \n",
      "==================================================================================\n",
      "                     coef    std err          z      P>|z|      [0.025      0.975]\n",
      "----------------------------------------------------------------------------------\n",
      "rndf               0.6032      0.483      1.250      0.211      -0.343       1.549\n",
      "ddist_bin         -0.3810      0.381     -1.000      0.317      -1.127       0.365\n",
      "ddist_int          0.0002      0.000      1.540      0.124   -6.45e-05       0.001\n",
      "ddist_abs      -5.837e-05      0.000     -0.380      0.704      -0.000       0.000\n",
      "avg_emp_pp     -4.009e-06   9.98e-07     -4.016      0.000   -5.96e-06   -2.05e-06\n",
      "public_count      -0.6343      0.141     -4.513      0.000      -0.910      -0.359\n",
      "snation_partal     1.0835      0.206      5.253      0.000       0.679       1.488\n",
      "cr_bor_part        0.3129      0.159      1.965      0.049       0.001       0.625\n",
      "mfgf               1.3964      0.255      5.467      0.000       0.896       1.897\n",
      "==================================================================================\n"
     ]
    }
   ],
   "source": [
    "df5 = pd.read_csv(\"./data/JV_data_dist.csv\")\n",
    "\n",
    "#Select alliances that at least part of their goal was manufacturing of cars\n",
    "df5 = df5[df5['mfgf'] == \"Yes\"]\n",
    "df5 = basePrep(df5)\n",
    "\n",
    "variation(df5)"
   ]
  },
  {
   "cell_type": "code",
   "execution_count": 51,
   "metadata": {},
   "outputs": [
    {
     "name": "stdout",
     "output_type": "stream",
     "text": [
      "                 Generalized Linear Model Regression Results                  \n",
      "==============================================================================\n",
      "Dep. Variable:               pdynamic   No. Observations:                  267\n",
      "Model:                            GLM   Df Residuals:                      259\n",
      "Model Family:                Binomial   Df Model:                            7\n",
      "Link Function:                  Logit   Scale:                          1.0000\n",
      "Method:                          IRLS   Log-Likelihood:                -162.44\n",
      "Date:                Thu, 16 Jun 2022   Deviance:                       324.88\n",
      "Time:                        17:20:07   Pearson chi2:                     278.\n",
      "No. Iterations:                     4   Pseudo R-squ. (CS):             0.1472\n",
      "Covariance Type:            nonrobust                                         \n",
      "==================================================================================\n",
      "                     coef    std err          z      P>|z|      [0.025      0.975]\n",
      "----------------------------------------------------------------------------------\n",
      "rndf              -0.2747      0.830     -0.331      0.741      -1.901       1.352\n",
      "ddist_bin         -0.5180      0.510     -1.016      0.310      -1.517       0.481\n",
      "ddist_int          0.0005      0.000      2.405      0.016    9.17e-05       0.001\n",
      "ddist_abs       8.032e-05      0.000      0.389      0.697      -0.000       0.000\n",
      "avg_emp_pp     -3.897e-06   1.55e-06     -2.519      0.012   -6.93e-06   -8.65e-07\n",
      "public_count      -0.7230      0.195     -3.717      0.000      -1.104      -0.342\n",
      "snation_partal     0.6485      0.265      2.446      0.014       0.129       1.168\n",
      "cr_bor_part        0.2743      0.212      1.295      0.195      -0.141       0.690\n",
      "mfgf               0.9228      0.308      2.991      0.003       0.318       1.527\n",
      "==================================================================================\n"
     ]
    }
   ],
   "source": [
    "df6 = pd.read_csv(\"./data/JV_data_dist.csv\")\n",
    "\n",
    "#Select alliances that at least part of their goal was manufacturing of cars\n",
    "df6 = df6[df6['mfgf'] == \"Yes\"]\n",
    "df6 = df6[df6['sic'].str.contains('3711') == True]\n",
    "df6 = basePrep(df6)\n",
    "\n",
    "variation(df6)"
   ]
  },
  {
   "cell_type": "code",
   "execution_count": 52,
   "metadata": {},
   "outputs": [
    {
     "name": "stdout",
     "output_type": "stream",
     "text": [
      "                 Generalized Linear Model Regression Results                  \n",
      "==============================================================================\n",
      "Dep. Variable:               pdynamic   No. Observations:                  202\n",
      "Model:                            GLM   Df Residuals:                      194\n",
      "Model Family:                Binomial   Df Model:                            7\n",
      "Link Function:                  Logit   Scale:                          1.0000\n",
      "Method:                          IRLS   Log-Likelihood:                -119.70\n",
      "Date:                Thu, 16 Jun 2022   Deviance:                       239.41\n",
      "Time:                        17:20:07   Pearson chi2:                     205.\n",
      "No. Iterations:                     4   Pseudo R-squ. (CS):             0.1663\n",
      "Covariance Type:            nonrobust                                         \n",
      "==================================================================================\n",
      "                     coef    std err          z      P>|z|      [0.025      0.975]\n",
      "----------------------------------------------------------------------------------\n",
      "rndf              -0.6154      1.292     -0.476      0.634      -3.147       1.916\n",
      "ddist_bin         -1.1189      0.618     -1.811      0.070      -2.329       0.092\n",
      "ddist_int          0.0008      0.000      3.093      0.002       0.000       0.001\n",
      "ddist_abs      -5.682e-05      0.000     -0.226      0.821      -0.001       0.000\n",
      "avg_emp_pp     -3.777e-06   1.71e-06     -2.210      0.027   -7.13e-06   -4.28e-07\n",
      "public_count      -0.9646      0.319     -3.026      0.002      -1.589      -0.340\n",
      "snation_partal     1.0424      0.345      3.019      0.003       0.366       1.719\n",
      "cr_bor_part        0.4421      0.296      1.493      0.135      -0.138       1.023\n",
      "mfgf               1.4845      0.477      3.110      0.002       0.549       2.420\n",
      "==================================================================================\n"
     ]
    }
   ],
   "source": [
    "df7 = pd.read_csv(\"./data/JV_data_dist.csv\")\n",
    "\n",
    "#Select alliances that at least part of their goal was manufacturing of cars\n",
    "df7 = df7[df7['mfgf'] == \"Yes\"]\n",
    "df7 = df7[df7['sic'].str.contains('3711') == True]\n",
    "df7 = df7[df7['public_count'] >= 1]\n",
    "df7 = df7[df7['nump'] == 2]\n",
    "df7 = basePrep(df7)\n",
    "\n",
    "variation(df7)"
   ]
  },
  {
   "cell_type": "markdown",
   "metadata": {},
   "source": [
    "## Filter for single country"
   ]
  },
  {
   "cell_type": "code",
   "execution_count": 68,
   "metadata": {},
   "outputs": [
    {
     "name": "stdout",
     "output_type": "stream",
     "text": [
      "                 Generalized Linear Model Regression Results                  \n",
      "==============================================================================\n",
      "Dep. Variable:               pdynamic   No. Observations:                   76\n",
      "Model:                            GLM   Df Residuals:                       67\n",
      "Model Family:                Binomial   Df Model:                            8\n",
      "Link Function:                  Logit   Scale:                          1.0000\n",
      "Method:                          IRLS   Log-Likelihood:                -31.956\n",
      "Date:                Thu, 16 Jun 2022   Deviance:                       63.913\n",
      "Time:                        17:35:48   Pearson chi2:                 1.23e+03\n",
      "No. Iterations:                     6   Pseudo R-squ. (CS):             0.2867\n",
      "Covariance Type:            nonrobust                                         \n",
      "==================================================================================\n",
      "                     coef    std err          z      P>|z|      [0.025      0.975]\n",
      "----------------------------------------------------------------------------------\n",
      "rndf              -1.8852      1.588     -1.187      0.235      -4.998       1.228\n",
      "ddist_bin          0.4787      1.135      0.422      0.673      -1.747       2.704\n",
      "ddist_int          0.0002      0.001      0.234      0.815      -0.001       0.001\n",
      "ddist_abs          0.0007      0.001      1.156      0.248      -0.001       0.002\n",
      "avg_emp_pp      -1.07e-06   5.15e-06     -0.208      0.835   -1.12e-05    9.02e-06\n",
      "public_count      -1.9343      0.557     -3.473      0.001      -3.026      -0.843\n",
      "snation_partal     2.1163      0.918      2.305      0.021       0.316       3.916\n",
      "cr_bor_part        1.8780      0.675      2.781      0.005       0.555       3.202\n",
      "mfgf              -2.7592      1.270     -2.172      0.030      -5.249      -0.270\n",
      "const              3.9943      1.352      2.954      0.003       1.344       6.644\n",
      "==================================================================================\n"
     ]
    }
   ],
   "source": [
    "df8 = pd.read_csv(\"./data/JV_data_dist.csv\")\n",
    "\n",
    "#Select alliances that at least part of their goal was manufacturing of cars\n",
    "df8 = df8[df8['natc'] == \"IN\"]\n",
    "\n",
    "df8 = basePrep(df8)\n",
    "\n",
    "variation(df8)"
   ]
  },
  {
   "cell_type": "markdown",
   "metadata": {},
   "source": [
    "## Test for final H1"
   ]
  },
  {
   "cell_type": "code",
   "execution_count": 53,
   "metadata": {},
   "outputs": [
    {
     "name": "stdout",
     "output_type": "stream",
     "text": [
      "                 Generalized Linear Model Regression Results                  \n",
      "==============================================================================\n",
      "Dep. Variable:               pdynamic   No. Observations:                  202\n",
      "Model:                            GLM   Df Residuals:                      200\n",
      "Model Family:                Binomial   Df Model:                            1\n",
      "Link Function:                  Logit   Scale:                          1.0000\n",
      "Method:                          IRLS   Log-Likelihood:                -130.99\n",
      "Date:                Thu, 16 Jun 2022   Deviance:                       261.97\n",
      "Time:                        17:20:08   Pearson chi2:                     202.\n",
      "No. Iterations:                     4   Pseudo R-squ. (CS):            0.06772\n",
      "Covariance Type:            nonrobust                                         \n",
      "==============================================================================\n",
      "                 coef    std err          z      P>|z|      [0.025      0.975]\n",
      "------------------------------------------------------------------------------\n",
      "ddist_int      0.0004      0.000      3.632      0.000       0.000       0.001\n",
      "const         -0.3559      0.150     -2.375      0.018      -0.650      -0.062\n",
      "==============================================================================\n"
     ]
    }
   ],
   "source": [
    "dfH = pd.read_csv(\"./data/JV_data_dist.csv\")\n",
    "\n",
    "dfH = dfH[dfH['mfgf'] == \"Yes\"]\n",
    "dfH = dfH[dfH['sic'].str.contains('3711') == True]\n",
    "dfH = dfH[dfH['public_count'] >= 1]\n",
    "dfH = dfH[dfH['nump'] == 2]\n",
    "dfH = dfH[dfH['avg_emp_pp'] >= 8]\n",
    "dfH = basePrep(dfH)\n",
    "\n",
    "cols = ['ddist_int']\n",
    "X = (dfH[cols]).astype(float)\n",
    "y = dfH['pdynamic'].astype(float)\n",
    "X_constant = sm.add_constant(X, prepend=False)\n",
    "\n",
    "logit_model = GLM(y, X_constant, family=families.Binomial())\n",
    "logit_results = logit_model.fit()\n",
    "print(logit_results.summary())"
   ]
  },
  {
   "cell_type": "markdown",
   "metadata": {},
   "source": [
    "## Test for final H2"
   ]
  },
  {
   "cell_type": "code",
   "execution_count": 58,
   "metadata": {},
   "outputs": [
    {
     "name": "stdout",
     "output_type": "stream",
     "text": [
      "                 Generalized Linear Model Regression Results                  \n",
      "==============================================================================\n",
      "Dep. Variable:                    jvf   No. Observations:                  116\n",
      "Model:                            GLM   Df Residuals:                      109\n",
      "Model Family:                Binomial   Df Model:                            6\n",
      "Link Function:                  Logit   Scale:                          1.0000\n",
      "Method:                          IRLS   Log-Likelihood:                -61.895\n",
      "Date:                Thu, 16 Jun 2022   Deviance:                       123.79\n",
      "Time:                        17:21:38   Pearson chi2:                     114.\n",
      "No. Iterations:                    20   Pseudo R-squ. (CS):             0.1330\n",
      "Covariance Type:            nonrobust                                         \n",
      "==================================================================================\n",
      "                     coef    std err          z      P>|z|      [0.025      0.975]\n",
      "----------------------------------------------------------------------------------\n",
      "ddist_int          0.0004      0.000      2.345      0.019    6.75e-05       0.001\n",
      "public_count       0.1595      0.462      0.345      0.730      -0.747       1.066\n",
      "rndf             -22.2393    1.6e+04     -0.001      0.999   -3.13e+04    3.13e+04\n",
      "snation_partal    -0.8449      0.610     -1.386      0.166      -2.040       0.350\n",
      "avg_emp_pp     -3.474e-06   5.73e-06     -0.607      0.544   -1.47e-05    7.75e-06\n",
      "avg_emp_pp_log     0.2748      0.850      0.323      0.746      -1.391       1.941\n",
      "const             -1.7575      9.024     -0.195      0.846     -19.444      15.929\n",
      "==================================================================================\n"
     ]
    }
   ],
   "source": [
    "dfH2 = pd.read_csv(\"./data/JV_data_dist.csv\")\n",
    "\n",
    "dfH2 = dfH2[dfH2['mfgf'] == \"Yes\"]\n",
    "dfH2 = dfH2[dfH2['sic'].str.contains('3711') == True]\n",
    "dfH2 = dfH2[dfH2['public_count'] >= 1]\n",
    "dfH2 = dfH2[dfH2['nump'] == 2]\n",
    "dfH2 = dfH2[dfH2['avg_emp_pp'] >= 30000]\n",
    "\n",
    "dfH2 = basePrep(dfH2)\n",
    "\n",
    "cols = ['ddist_int', 'public_count', 'rndf', 'snation_partal', 'avg_emp_pp', 'avg_emp_pp_log']\n",
    "X = (dfH2[cols]).astype(float)\n",
    "y = dfH2['jvf'].astype(float)\n",
    "X_constant = sm.add_constant(X, prepend=False)\n",
    "\n",
    "logit_model = GLM(y, X_constant, family=families.Binomial())\n",
    "logit_results = logit_model.fit()\n",
    "print(logit_results.summary())"
   ]
  },
  {
   "cell_type": "code",
   "execution_count": null,
   "metadata": {},
   "outputs": [],
   "source": []
  }
 ],
 "metadata": {
  "kernelspec": {
   "display_name": "Python 3.9.10 64-bit",
   "language": "python",
   "name": "python3"
  },
  "language_info": {
   "codemirror_mode": {
    "name": "ipython",
    "version": 3
   },
   "file_extension": ".py",
   "mimetype": "text/x-python",
   "name": "python",
   "nbconvert_exporter": "python",
   "pygments_lexer": "ipython3",
   "version": "3.9.10"
  },
  "orig_nbformat": 4,
  "vscode": {
   "interpreter": {
    "hash": "aee8b7b246df8f9039afb4144a1f6fd8d2ca17a180786b69acc140d282b71a49"
   }
  }
 },
 "nbformat": 4,
 "nbformat_minor": 2
}
