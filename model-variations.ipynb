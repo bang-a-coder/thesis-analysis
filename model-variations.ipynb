{
 "cells": [
  {
   "cell_type": "code",
   "execution_count": 1,
   "metadata": {},
   "outputs": [
    {
     "name": "stderr",
     "output_type": "stream",
     "text": [
      "/usr/local/lib/python3.9/site-packages/statsmodels/compat/pandas.py:65: FutureWarning: pandas.Int64Index is deprecated and will be removed from pandas in a future version. Use pandas.Index with the appropriate dtype instead.\n",
      "  from pandas import Int64Index as NumericIndex\n"
     ]
    }
   ],
   "source": [
    "import pandas as pd\n",
    "import dask as dd\n",
    "import numpy as np\n",
    "import seaborn as sns\n",
    "import matplotlib.pyplot as plt\n",
    "import datetime as dt\n",
    "import statsmodels.formula.api as smf\n",
    "import statistics\n",
    "\n",
    "from sklearn.linear_model import LogisticRegression\n",
    "\n",
    "import statsmodels.api as sm\n",
    "from statsmodels.genmod.generalized_linear_model import GLM\n",
    "from statsmodels.genmod import families\n",
    "from statsmodels.stats.outliers_influence import variance_inflation_factor\n",
    "\n",
    "from scipy import stats"
   ]
  },
  {
   "cell_type": "code",
   "execution_count": 17,
   "metadata": {},
   "outputs": [],
   "source": [
    "def basePrep(df):\n",
    "\tdf['rndf'] = df['rndf'].map({\"Yes\": 1, \"No\": 0})\n",
    "\tdf['pdynamic'] = df['pdynamic'].map({'new_entrant': 1, 'incumbent': 0})\t\n",
    "\tdf[\"SNATION_PARTAL\".lower()] = df[\"SNATION_PARTAL\".lower()].map({\"Y\": 1, \"N\": 0})\n",
    "\t\n",
    "\tcols = ['rndf', 'ddist_bin','ddist_int', 'ddist_abs', 'avg_emp_pp', 'public_count', 'pdynamic', \"SNATION_PARTAL\".lower()]\n",
    "\tdf = df[cols].dropna()\n",
    "\t\n",
    "\treturn df"
   ]
  },
  {
   "cell_type": "markdown",
   "metadata": {},
   "source": [
    "## Try all potential variables"
   ]
  },
  {
   "cell_type": "code",
   "execution_count": 18,
   "metadata": {},
   "outputs": [],
   "source": [
    "df = pd.read_csv('./data/JV_data_dist.csv')"
   ]
  },
  {
   "cell_type": "code",
   "execution_count": 19,
   "metadata": {},
   "outputs": [],
   "source": [
    "df = basePrep(df)"
   ]
  },
  {
   "cell_type": "code",
   "execution_count": 21,
   "metadata": {},
   "outputs": [],
   "source": [
    "cols = ['rndf', 'ddist_bin','ddist_int', 'ddist_abs', 'avg_emp_pp', 'public_count', \"SNATION_PARTAL\".lower()]\n",
    "X = (df[cols]).astype(float)\n",
    "y = df['pdynamic'].astype(float)\n",
    "X_constant = sm.add_constant(X, prepend=False)"
   ]
  },
  {
   "cell_type": "code",
   "execution_count": 22,
   "metadata": {},
   "outputs": [
    {
     "name": "stdout",
     "output_type": "stream",
     "text": [
      "                 Generalized Linear Model Regression Results                  \n",
      "==============================================================================\n",
      "Dep. Variable:               pdynamic   No. Observations:                  729\n",
      "Model:                            GLM   Df Residuals:                      721\n",
      "Model Family:                Binomial   Df Model:                            7\n",
      "Link Function:                  Logit   Scale:                          1.0000\n",
      "Method:                          IRLS   Log-Likelihood:                -436.89\n",
      "Date:                Wed, 15 Jun 2022   Deviance:                       873.77\n",
      "Time:                        19:30:30   Pearson chi2:                     769.\n",
      "No. Iterations:                     4   Pseudo R-squ. (CS):             0.1102\n",
      "Covariance Type:            nonrobust                                         \n",
      "==================================================================================\n",
      "                     coef    std err          z      P>|z|      [0.025      0.975]\n",
      "----------------------------------------------------------------------------------\n",
      "rndf               0.4712      0.303      1.556      0.120      -0.122       1.065\n",
      "ddist_bin         -0.4729      0.328     -1.441      0.150      -1.116       0.170\n",
      "ddist_int          0.0002      0.000      1.238      0.216   -9.45e-05       0.000\n",
      "ddist_abs      -2.426e-05      0.000     -0.185      0.853      -0.000       0.000\n",
      "avg_emp_pp        -0.2413      0.054     -4.447      0.000      -0.348      -0.135\n",
      "public_count      -0.5122      0.110     -4.641      0.000      -0.729      -0.296\n",
      "snation_partal     1.0735      0.226      4.756      0.000       0.631       1.516\n",
      "const              3.9044      0.628      6.222      0.000       2.675       5.134\n",
      "==================================================================================\n"
     ]
    }
   ],
   "source": [
    "logit_model = GLM(y, X_constant, family=families.Binomial())\n",
    "logit_results = logit_model.fit()\n",
    "print(logit_results.summary())"
   ]
  },
  {
   "cell_type": "markdown",
   "metadata": {},
   "source": [
    "## Filter only R&D alliances"
   ]
  },
  {
   "cell_type": "code",
   "execution_count": 23,
   "metadata": {},
   "outputs": [
    {
     "name": "stdout",
     "output_type": "stream",
     "text": [
      "                 Generalized Linear Model Regression Results                  \n",
      "==============================================================================\n",
      "Dep. Variable:               pdynamic   No. Observations:                   66\n",
      "Model:                            GLM   Df Residuals:                       59\n",
      "Model Family:                Binomial   Df Model:                            6\n",
      "Link Function:                  Logit   Scale:                          1.0000\n",
      "Method:                          IRLS   Log-Likelihood:                -33.273\n",
      "Date:                Wed, 15 Jun 2022   Deviance:                       66.547\n",
      "Time:                        19:31:12   Pearson chi2:                     62.2\n",
      "No. Iterations:                     5   Pseudo R-squ. (CS):             0.1749\n",
      "Covariance Type:            nonrobust                                         \n",
      "==================================================================================\n",
      "                     coef    std err          z      P>|z|      [0.025      0.975]\n",
      "----------------------------------------------------------------------------------\n",
      "ddist_bin         -0.1216      1.217     -0.100      0.920      -2.506       2.263\n",
      "ddist_int          0.0003      0.001      0.537      0.591      -0.001       0.001\n",
      "ddist_abs         -0.0004      0.000     -0.868      0.385      -0.001       0.001\n",
      "avg_emp_pp        -0.1973      0.219     -0.900      0.368      -0.627       0.232\n",
      "public_count      -0.9827      0.437     -2.251      0.024      -1.838      -0.127\n",
      "snation_partal     0.1830      0.727      0.252      0.801      -1.241       1.607\n",
      "const              5.1616      2.567      2.010      0.044       0.129      10.194\n",
      "==================================================================================\n"
     ]
    }
   ],
   "source": [
    "df2 = pd.read_csv('./data/JV_data_dist.csv')\n",
    "\n",
    "df2 = df2[df2['rndf'] == \"Yes\"]\n",
    "df2 = basePrep(df2)\n",
    "\n",
    "cols2 = ['ddist_bin','ddist_int', 'ddist_abs', 'avg_emp_pp', 'public_count', \"SNATION_PARTAL\".lower()]\n",
    "X2 = (df2[cols2]).astype(float)\n",
    "y2 = df2['pdynamic'].astype(float)\n",
    "X2_constant = sm.add_constant(X2, prepend=False)\n",
    "\n",
    "logit_model = GLM(y2, X2_constant, family=families.Binomial())\n",
    "logit_results = logit_model.fit()\n",
    "print(logit_results.summary())"
   ]
  },
  {
   "cell_type": "markdown",
   "metadata": {},
   "source": [
    "## Filter for alliance SIC"
   ]
  },
  {
   "cell_type": "code",
   "execution_count": 24,
   "metadata": {},
   "outputs": [
    {
     "name": "stdout",
     "output_type": "stream",
     "text": [
      "                 Generalized Linear Model Regression Results                  \n",
      "==============================================================================\n",
      "Dep. Variable:               pdynamic   No. Observations:                  311\n",
      "Model:                            GLM   Df Residuals:                      303\n",
      "Model Family:                Binomial   Df Model:                            7\n",
      "Link Function:                  Logit   Scale:                          1.0000\n",
      "Method:                          IRLS   Log-Likelihood:                -187.00\n",
      "Date:                Wed, 15 Jun 2022   Deviance:                       373.99\n",
      "Time:                        19:31:48   Pearson chi2:                     330.\n",
      "No. Iterations:                     4   Pseudo R-squ. (CS):             0.1595\n",
      "Covariance Type:            nonrobust                                         \n",
      "==================================================================================\n",
      "                     coef    std err          z      P>|z|      [0.025      0.975]\n",
      "----------------------------------------------------------------------------------\n",
      "rndf              -0.5976      0.722     -0.828      0.408      -2.013       0.818\n",
      "ddist_bin         -0.3683      0.510     -0.722      0.471      -1.368       0.632\n",
      "ddist_int          0.0004      0.000      1.824      0.068   -2.77e-05       0.001\n",
      "ddist_abs          0.0001      0.000      0.532      0.595      -0.000       0.001\n",
      "avg_emp_pp        -0.2828      0.078     -3.623      0.000      -0.436      -0.130\n",
      "public_count      -0.6502      0.185     -3.522      0.000      -1.012      -0.288\n",
      "snation_partal     0.6372      0.347      1.836      0.066      -0.043       1.317\n",
      "const              3.5819      0.848      4.223      0.000       1.920       5.244\n",
      "==================================================================================\n"
     ]
    }
   ],
   "source": [
    "df3 = pd.read_csv(\"./data/JV_data_dist.csv\")\n",
    "\n",
    "#Select alliances that at least part of their goal was manufacturing of cars\n",
    "df3 = df3[df3['sic'].str.contains('3711') == True]\n",
    "df3 = basePrep(df3)\n",
    "\n",
    "cols3 = ['rndf', 'ddist_bin','ddist_int', 'ddist_abs', 'avg_emp_pp', 'public_count', \"SNATION_PARTAL\".lower()]\n",
    "X3 = (df3[cols3]).astype(float)\n",
    "y3 = df3['pdynamic'].astype(float)\n",
    "X3_constant = sm.add_constant(X3, prepend=False)\n",
    "\n",
    "logit_model = GLM(y3, X3_constant, family=families.Binomial())\n",
    "logit_results = logit_model.fit()\n",
    "print(logit_results.summary())"
   ]
  }
 ],
 "metadata": {
  "kernelspec": {
   "display_name": "Python 3.9.10 64-bit",
   "language": "python",
   "name": "python3"
  },
  "language_info": {
   "codemirror_mode": {
    "name": "ipython",
    "version": 3
   },
   "file_extension": ".py",
   "mimetype": "text/x-python",
   "name": "python",
   "nbconvert_exporter": "python",
   "pygments_lexer": "ipython3",
   "version": "3.9.10"
  },
  "orig_nbformat": 4,
  "vscode": {
   "interpreter": {
    "hash": "aee8b7b246df8f9039afb4144a1f6fd8d2ca17a180786b69acc140d282b71a49"
   }
  }
 },
 "nbformat": 4,
 "nbformat_minor": 2
}
