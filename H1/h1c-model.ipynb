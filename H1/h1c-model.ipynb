{
 "cells": [
  {
   "cell_type": "code",
   "execution_count": 44,
   "metadata": {},
   "outputs": [],
   "source": [
    "import pandas as pd\n",
    "import dask as dd\n",
    "import numpy as np\n",
    "import seaborn as sns\n",
    "import matplotlib.pyplot as plt\n",
    "import datetime as dt\n",
    "import statsmodels.formula.api as smf\n",
    "\n",
    "from sklearn.linear_model import LogisticRegression\n",
    "\n",
    "import statsmodels.api as sm\n",
    "from statsmodels.genmod.generalized_linear_model import GLM\n",
    "from statsmodels.genmod import families\n",
    "from statsmodels.stats.outliers_influence import variance_inflation_factor\n",
    "\n",
    "from scipy import stats\n",
    "\n",
    "\n"
   ]
  },
  {
   "cell_type": "code",
   "execution_count": 101,
   "metadata": {},
   "outputs": [],
   "source": [
    "df = pd.read_csv('../data/JV_data_dist.csv')\n",
    "\n",
    "#Filter data\n",
    "df = df[df['mfgf'] == \"Yes\"]\n",
    "df = df[df['sic'].str.contains('3711') == True]\n",
    "df = df[df['public_count'] >= 1]\n",
    "df = df[df['nump'] == 2]\n",
    "df = df[df['emp_min'] >= 100 ]\n",
    "\n",
    "\n",
    "\n",
    "#Recode variables\n",
    "df['pdynamic'] = df['pdynamic'].map({'new_entrant': 1, 'incumbent': 0})\t"
   ]
  },
  {
   "cell_type": "code",
   "execution_count": 102,
   "metadata": {},
   "outputs": [],
   "source": [
    "y = df['pdynamic']\n",
    "X = df['ddist_year']\n",
    "X_constant = sm.add_constant(X, prepend=False)"
   ]
  },
  {
   "cell_type": "markdown",
   "metadata": {},
   "source": [
    "1. Appropriate outcome type: Satisfied since outcome is either new entrent or incumbent\n",
    "2. Linearity of independent variables and log-odds: Satisfied\n",
    "3. No strongly influential outliers: Satisfied\n",
    "4. Absence of multicollinearity: Satisfied since it's a simple Logistical Reg. with one IV\n",
    "5. Independence of observations: Satisfied since data is time series observations\n",
    "6. Sufficiently large sample size: Satisfied since the dataset consists of >500 observations"
   ]
  },
  {
   "cell_type": "markdown",
   "metadata": {},
   "source": [
    "### Assumption 2: Continuous IV is linearly related to the log odds"
   ]
  },
  {
   "cell_type": "code",
   "execution_count": 17,
   "metadata": {},
   "outputs": [],
   "source": [
    "#Prepped data to R \n",
    "dfR = df.copy()\n",
    "dfR['ddist_year'] = abs(dfR['ddist_year'])\n",
    "dfR = dfR.drop(dfR[dfR['ddist_year'] == 0].index)\n",
    "dfR['ddist_year'] = dfR['ddist_year']\n",
    "\n",
    "dfR[['pdynamic', 'ddist_year', 'public_count']].to_csv('../data/prepped-r.csv', index=False)"
   ]
  },
  {
   "cell_type": "markdown",
   "metadata": {},
   "source": [
    "#### Results from R:"
   ]
  },
  {
   "cell_type": "markdown",
   "metadata": {},
   "source": [
    "p-value = 0.229, which is >0.05 (meaning that it is statistically not significant)\n",
    "This means that there is linearity in the Discontinuity Distance feature, and the assumption has not violated"
   ]
  },
  {
   "cell_type": "markdown",
   "metadata": {},
   "source": [
    "### Box Tidwell"
   ]
  },
  {
   "cell_type": "code",
   "execution_count": 18,
   "metadata": {},
   "outputs": [
    {
     "name": "stdout",
     "output_type": "stream",
     "text": [
      "                 Generalized Linear Model Regression Results                  \n",
      "==============================================================================\n",
      "Dep. Variable:               pdynamic   No. Observations:                  247\n",
      "Model:                            GLM   Df Residuals:                      245\n",
      "Model Family:                Binomial   Df Model:                            1\n",
      "Link Function:                  Logit   Scale:                          1.0000\n",
      "Method:                          IRLS   Log-Likelihood:                -168.41\n",
      "Date:                Fri, 17 Jun 2022   Deviance:                       336.82\n",
      "Time:                        18:47:25   Pearson chi2:                     247.\n",
      "No. Iterations:                     4   Pseudo R-squ. (CS):          0.0001307\n",
      "Covariance Type:            nonrobust                                         \n",
      "==================================================================================\n",
      "                     coef    std err          z      P>|z|      [0.025      0.975]\n",
      "----------------------------------------------------------------------------------\n",
      "Log_ddist_year     0.0074      0.041      0.180      0.857      -0.073       0.088\n",
      "const             -0.3339      0.220     -1.518      0.129      -0.765       0.097\n",
      "==================================================================================\n"
     ]
    }
   ],
   "source": [
    "df_lt = df.copy()  # lt = logit transform\n",
    "df_lt['ddist_year'] = abs(df_lt['ddist_year'])\n",
    "df_lt = df_lt.drop(df_lt[df_lt['ddist_year'] == 0].index)\n",
    "\n",
    "# Define continuous variables\n",
    "continuous_var = ['ddist_year']\n",
    "\n",
    "# Add logit transform interaction terms (natural log) for continuous variables e.g. Age * Log(Age)\n",
    "\n",
    "df_lt['Log_ddist_year'] = df_lt['ddist_year'].apply(lambda x: x * np.log(x)) #np.log = natural log\n",
    "\n",
    "\n",
    "# Redefine independent variables to include interaction terms\n",
    "X_lt = df_lt[['Log_ddist_year']]\n",
    "y_lt = df_lt['pdynamic']\n",
    "\n",
    "# Add constant\n",
    "X_lt_constant = sm.add_constant(X_lt, prepend=False)\n",
    "  \n",
    "# Build model and fit the data (using statsmodel's Logit)\n",
    "logit_results = GLM(y_lt, X_lt_constant, family=families.Binomial()).fit()\n",
    "\n",
    "# Display summary results\n",
    "print(logit_results.summary())"
   ]
  },
  {
   "cell_type": "markdown",
   "metadata": {},
   "source": [
    "Non statistically significant, so the assumption is not violated."
   ]
  },
  {
   "cell_type": "markdown",
   "metadata": {},
   "source": [
    "#### Visual check"
   ]
  },
  {
   "cell_type": "code",
   "execution_count": 19,
   "metadata": {},
   "outputs": [
    {
     "data": {
      "image/png": "[encoded data removed]",
      "text/plain": [
       "<Figure size 432x288 with 1 Axes>"
      ]
     },
     "metadata": {
      "needs_background": "light"
     },
     "output_type": "display_data"
    }
   ],
   "source": [
    "# Re-run logistic regression on original set of X and y variables\n",
    "logit_results = GLM(y, X, family=families.Binomial()).fit()\n",
    "predicted = logit_results.predict(X)\n",
    "\n",
    "# Get log odds values\n",
    "log_odds = np.log(predicted / (1 - predicted))\n",
    "\n",
    "# Visualize predictor continuous variable vs logit values (Age)\n",
    "plt.scatter(x=X.values, y=log_odds);\n",
    "plt.show()"
   ]
  },
  {
   "cell_type": "markdown",
   "metadata": {},
   "source": [
    "### Assumption 3: Lack of outliers"
   ]
  },
  {
   "cell_type": "markdown",
   "metadata": {},
   "source": [
    "Cook’s Distance is an estimate of the influence of a data point. It takes into account both the leverage and residual of each observation. Cook’s Distance is a summary of how much a regression model changes when the ith observation is removed.\n",
    "A general rule of thumb is that any observation with a Cook’s distance greater than 4/n (where n = total observations) is considered to be influential (https://www.statology.org/cooks-distance-python/ and https://www.scikit-yb.org/en/latest/api/regressor/influence.html?highlight=cook#module-yellowbrick.regressor.influence), though there are even more generic cutoff values of >0.5-1.0.\n",
    "For outliers, we can use the absolute standardized residuals to identify them (std resid > 3)"
   ]
  },
  {
   "cell_type": "code",
   "execution_count": 104,
   "metadata": {},
   "outputs": [
    {
     "name": "stdout",
     "output_type": "stream",
     "text": [
      "                 Generalized Linear Model Regression Results                  \n",
      "==============================================================================\n",
      "Dep. Variable:               pdynamic   No. Observations:                  195\n",
      "Model:                            GLM   Df Residuals:                      193\n",
      "Model Family:                Binomial   Df Model:                            1\n",
      "Link Function:                  Logit   Scale:                          1.0000\n",
      "Method:                          IRLS   Log-Likelihood:                -124.82\n",
      "Date:                Fri, 17 Jun 2022   Deviance:                       249.64\n",
      "Time:                        19:33:11   Pearson chi2:                     196.\n",
      "No. Iterations:                     4   Pseudo R-squ. (CS):            0.08044\n",
      "Covariance Type:            nonrobust                                         \n",
      "==============================================================================\n",
      "                 coef    std err          z      P>|z|      [0.025      0.975]\n",
      "------------------------------------------------------------------------------\n",
      "ddist_year     0.1791      0.046      3.879      0.000       0.089       0.270\n",
      "const         -0.3661      0.153     -2.390      0.017      -0.666      -0.066\n",
      "==============================================================================\n"
     ]
    }
   ],
   "source": [
    "logit_model = GLM(y, X_constant, family=families.Binomial())\n",
    "logit_results = logit_model.fit()\n",
    "print(logit_results.summary())"
   ]
  },
  {
   "cell_type": "code",
   "execution_count": 105,
   "metadata": {},
   "outputs": [
    {
     "data": {
      "text/html": [
       "<div>\n",
       "<style scoped>\n",
       "    .dataframe tbody tr th:only-of-type {\n",
       "        vertical-align: middle;\n",
       "    }\n",
       "\n",
       "    .dataframe tbody tr th {\n",
       "        vertical-align: top;\n",
       "    }\n",
       "\n",
       "    .dataframe thead th {\n",
       "        text-align: right;\n",
       "    }\n",
       "</style>\n",
       "<table border=\"1\" class=\"dataframe\">\n",
       "  <thead>\n",
       "    <tr style=\"text-align: right;\">\n",
       "      <th></th>\n",
       "      <th>cooks_d</th>\n",
       "      <th>std_resid</th>\n",
       "    </tr>\n",
       "  </thead>\n",
       "  <tbody>\n",
       "    <tr>\n",
       "      <th>5</th>\n",
       "      <td>0.002219</td>\n",
       "      <td>0.533927</td>\n",
       "    </tr>\n",
       "    <tr>\n",
       "      <th>6</th>\n",
       "      <td>0.002219</td>\n",
       "      <td>0.533927</td>\n",
       "    </tr>\n",
       "    <tr>\n",
       "      <th>8</th>\n",
       "      <td>0.027672</td>\n",
       "      <td>1.873930</td>\n",
       "    </tr>\n",
       "    <tr>\n",
       "      <th>10</th>\n",
       "      <td>0.027672</td>\n",
       "      <td>1.873930</td>\n",
       "    </tr>\n",
       "    <tr>\n",
       "      <th>11</th>\n",
       "      <td>0.002219</td>\n",
       "      <td>0.533927</td>\n",
       "    </tr>\n",
       "    <tr>\n",
       "      <th>...</th>\n",
       "      <td>...</td>\n",
       "      <td>...</td>\n",
       "    </tr>\n",
       "    <tr>\n",
       "      <th>964</th>\n",
       "      <td>0.004617</td>\n",
       "      <td>0.763774</td>\n",
       "    </tr>\n",
       "    <tr>\n",
       "      <th>973</th>\n",
       "      <td>0.013313</td>\n",
       "      <td>1.303733</td>\n",
       "    </tr>\n",
       "    <tr>\n",
       "      <th>982</th>\n",
       "      <td>0.013313</td>\n",
       "      <td>1.303733</td>\n",
       "    </tr>\n",
       "    <tr>\n",
       "      <th>985</th>\n",
       "      <td>0.004617</td>\n",
       "      <td>0.763774</td>\n",
       "    </tr>\n",
       "    <tr>\n",
       "      <th>986</th>\n",
       "      <td>0.004617</td>\n",
       "      <td>0.763774</td>\n",
       "    </tr>\n",
       "  </tbody>\n",
       "</table>\n",
       "<p>195 rows × 2 columns</p>\n",
       "</div>"
      ],
      "text/plain": [
       "      cooks_d  std_resid\n",
       "5    0.002219   0.533927\n",
       "6    0.002219   0.533927\n",
       "8    0.027672   1.873930\n",
       "10   0.027672   1.873930\n",
       "11   0.002219   0.533927\n",
       "..        ...        ...\n",
       "964  0.004617   0.763774\n",
       "973  0.013313   1.303733\n",
       "982  0.013313   1.303733\n",
       "985  0.004617   0.763774\n",
       "986  0.004617   0.763774\n",
       "\n",
       "[195 rows x 2 columns]"
      ]
     },
     "execution_count": 105,
     "metadata": {},
     "output_type": "execute_result"
    }
   ],
   "source": [
    "# Get influence measures\n",
    "influence = logit_results.get_influence()\n",
    "\n",
    "# Obtain summary df of influence measures\n",
    "summ_df = influence.summary_frame()\n",
    "\n",
    "# Filter summary df to Cook distance\n",
    "diagnosis_df = summ_df.loc[:,['cooks_d']]\n",
    "\n",
    "# Append absolute standardized residual values\n",
    "diagnosis_df['std_resid'] = stats.zscore(logit_results.resid_pearson)\n",
    "diagnosis_df['std_resid'] = diagnosis_df.loc[:,'std_resid'].apply(lambda x: np.abs(x))\n",
    "\n",
    "# Sort by Cook's Distance\n",
    "diagnosis_df.sort_values(\"cooks_d\", ascending=False)\n",
    "diagnosis_df"
   ]
  },
  {
   "cell_type": "code",
   "execution_count": 106,
   "metadata": {},
   "outputs": [
    {
     "name": "stdout",
     "output_type": "stream",
     "text": [
      "Threshold for Cook Distance = 0.020512820512820513\n"
     ]
    }
   ],
   "source": [
    "# Set Cook's distance threshold\n",
    "cook_threshold = 4 / len(X)\n",
    "print(f\"Threshold for Cook Distance = {cook_threshold}\")"
   ]
  },
  {
   "cell_type": "code",
   "execution_count": 107,
   "metadata": {},
   "outputs": [
    {
     "data": {
      "image/png": "[encoded data removed]",
      "text/plain": [
       "<Figure size 432x288 with 1 Axes>"
      ]
     },
     "metadata": {
      "needs_background": "light"
     },
     "output_type": "display_data"
    }
   ],
   "source": [
    "# Plot influence measures (Cook's distance)\n",
    "fig = influence.plot_index(y_var=\"cooks\", threshold=cook_threshold)\n",
    "plt.axhline(y=cook_threshold, ls=\"--\", color='red')\n",
    "fig.tight_layout(pad=2)"
   ]
  },
  {
   "cell_type": "code",
   "execution_count": 24,
   "metadata": {},
   "outputs": [
    {
     "name": "stdout",
     "output_type": "stream",
     "text": [
      "Proportion of data points that are highly influential = 0.0%\n"
     ]
    }
   ],
   "source": [
    "# Find number of observations that exceed Cook's distance threshold\n",
    "outliers = diagnosis_df[diagnosis_df['cooks_d'] > cook_threshold]\n",
    "prop_outliers = round(100*(len(outliers) / len(X)),1)\n",
    "print(f'Proportion of data points that are highly influential = {prop_outliers}%')"
   ]
  },
  {
   "cell_type": "code",
   "execution_count": 25,
   "metadata": {},
   "outputs": [
    {
     "name": "stdout",
     "output_type": "stream",
     "text": [
      "Proportion of highly influential outliers = 0.0%\n"
     ]
    }
   ],
   "source": [
    "# Find number of observations which are BOTH outlier (std dev > 3) and highly influential\n",
    "extreme = diagnosis_df[(diagnosis_df['cooks_d'] > cook_threshold) & \n",
    "                       (diagnosis_df['std_resid'] > 3)]\n",
    "prop_extreme = round(100*(len(extreme) / len(X)),1)\n",
    "print(f'Proportion of highly influential outliers = {prop_extreme}%')"
   ]
  },
  {
   "cell_type": "markdown",
   "metadata": {},
   "source": [
    "There are not outliers that can alter the reliability of the Logistical Regression Model"
   ]
  },
  {
   "cell_type": "markdown",
   "metadata": {},
   "source": [
    "## Logistic Regression Model"
   ]
  },
  {
   "cell_type": "code",
   "execution_count": 96,
   "metadata": {},
   "outputs": [
    {
     "name": "stdout",
     "output_type": "stream",
     "text": [
      "Optimization terminated successfully.\n",
      "         Current function value: 0.640115\n",
      "         Iterations 5\n"
     ]
    },
    {
     "data": {
      "text/html": [
       "<table class=\"simpletable\">\n",
       "<caption>Logit Regression Results</caption>\n",
       "<tr>\n",
       "  <th>Dep. Variable:</th>       <td>pdynamic</td>     <th>  No. Observations:  </th>  <td>   195</td>  \n",
       "</tr>\n",
       "<tr>\n",
       "  <th>Model:</th>                 <td>Logit</td>      <th>  Df Residuals:      </th>  <td>   193</td>  \n",
       "</tr>\n",
       "<tr>\n",
       "  <th>Method:</th>                 <td>MLE</td>       <th>  Df Model:          </th>  <td>     1</td>  \n",
       "</tr>\n",
       "<tr>\n",
       "  <th>Date:</th>            <td>Fri, 17 Jun 2022</td> <th>  Pseudo R-squ.:     </th>  <td>0.06148</td> \n",
       "</tr>\n",
       "<tr>\n",
       "  <th>Time:</th>                <td>19:07:56</td>     <th>  Log-Likelihood:    </th> <td> -124.82</td> \n",
       "</tr>\n",
       "<tr>\n",
       "  <th>converged:</th>             <td>True</td>       <th>  LL-Null:           </th> <td> -133.00</td> \n",
       "</tr>\n",
       "<tr>\n",
       "  <th>Covariance Type:</th>     <td>nonrobust</td>    <th>  LLR p-value:       </th> <td>5.255e-05</td>\n",
       "</tr>\n",
       "</table>\n",
       "<table class=\"simpletable\">\n",
       "<tr>\n",
       "       <td></td>         <th>coef</th>     <th>std err</th>      <th>z</th>      <th>P>|z|</th>  <th>[0.025</th>    <th>0.975]</th>  \n",
       "</tr>\n",
       "<tr>\n",
       "  <th>Intercept</th>  <td>   -0.3661</td> <td>    0.153</td> <td>   -2.390</td> <td> 0.017</td> <td>   -0.666</td> <td>   -0.066</td>\n",
       "</tr>\n",
       "<tr>\n",
       "  <th>ddist_year</th> <td>    0.1791</td> <td>    0.046</td> <td>    3.879</td> <td> 0.000</td> <td>    0.089</td> <td>    0.270</td>\n",
       "</tr>\n",
       "</table>"
      ],
      "text/plain": [
       "<class 'statsmodels.iolib.summary.Summary'>\n",
       "\"\"\"\n",
       "                           Logit Regression Results                           \n",
       "==============================================================================\n",
       "Dep. Variable:               pdynamic   No. Observations:                  195\n",
       "Model:                          Logit   Df Residuals:                      193\n",
       "Method:                           MLE   Df Model:                            1\n",
       "Date:                Fri, 17 Jun 2022   Pseudo R-squ.:                 0.06148\n",
       "Time:                        19:07:56   Log-Likelihood:                -124.82\n",
       "converged:                       True   LL-Null:                       -133.00\n",
       "Covariance Type:            nonrobust   LLR p-value:                 5.255e-05\n",
       "==============================================================================\n",
       "                 coef    std err          z      P>|z|      [0.025      0.975]\n",
       "------------------------------------------------------------------------------\n",
       "Intercept     -0.3661      0.153     -2.390      0.017      -0.666      -0.066\n",
       "ddist_year     0.1791      0.046      3.879      0.000       0.089       0.270\n",
       "==============================================================================\n",
       "\"\"\""
      ]
     },
     "execution_count": 96,
     "metadata": {},
     "output_type": "execute_result"
    }
   ],
   "source": [
    "model = smf.logit(formula=\"pdynamic~ ddist_year\", data= df).fit()\n",
    "model.summary()"
   ]
  },
  {
   "cell_type": "code",
   "execution_count": 108,
   "metadata": {},
   "outputs": [
    {
     "name": "stdout",
     "output_type": "stream",
     "text": [
      "                 Generalized Linear Model Regression Results                  \n",
      "==============================================================================\n",
      "Dep. Variable:               pdynamic   No. Observations:                  195\n",
      "Model:                            GLM   Df Residuals:                      193\n",
      "Model Family:                Binomial   Df Model:                            1\n",
      "Link Function:                  Logit   Scale:                          1.0000\n",
      "Method:                          IRLS   Log-Likelihood:                -124.82\n",
      "Date:                Fri, 17 Jun 2022   Deviance:                       249.64\n",
      "Time:                        19:33:27   Pearson chi2:                     196.\n",
      "No. Iterations:                     4   Pseudo R-squ. (CS):            0.08044\n",
      "Covariance Type:            nonrobust                                         \n",
      "==============================================================================\n",
      "                 coef    std err          z      P>|z|      [0.025      0.975]\n",
      "------------------------------------------------------------------------------\n",
      "ddist_year     0.1791      0.046      3.879      0.000       0.089       0.270\n",
      "const         -0.3661      0.153     -2.390      0.017      -0.666      -0.066\n",
      "==============================================================================\n"
     ]
    }
   ],
   "source": [
    "logit_model = GLM(y, X_constant, family=families.Binomial())\n",
    "logit_results = logit_model.fit()\n",
    "print(logit_results.summary())"
   ]
  },
  {
   "cell_type": "code",
   "execution_count": null,
   "metadata": {},
   "outputs": [],
   "source": []
  }
 ],
 "metadata": {
  "interpreter": {
   "hash": "aee8b7b246df8f9039afb4144a1f6fd8d2ca17a180786b69acc140d282b71a49"
  },
  "kernelspec": {
   "display_name": "Python 3.9.10 64-bit",
   "language": "python",
   "name": "python3"
  },
  "language_info": {
   "codemirror_mode": {
    "name": "ipython",
    "version": 3
   },
   "file_extension": ".py",
   "mimetype": "text/x-python",
   "name": "python",
   "nbconvert_exporter": "python",
   "pygments_lexer": "ipython3",
   "version": "3.9.10"
  },
  "orig_nbformat": 4
 },
 "nbformat": 4,
 "nbformat_minor": 2
}
