{
 "cells": [
  {
   "cell_type": "code",
   "execution_count": 10,
   "metadata": {},
   "outputs": [],
   "source": [
    "import pandas as pd\n",
    "import dask as dd\n",
    "import numpy as np\n",
    "import seaborn as sns\n",
    "import matplotlib.pyplot as plt\n",
    "import datetime as dt\n",
    "import statsmodels.formula.api as smf\n",
    "\n",
    "from sklearn.linear_model import LogisticRegression\n",
    "\n",
    "import statsmodels.api as sm\n",
    "from statsmodels.genmod.generalized_linear_model import GLM\n",
    "from statsmodels.genmod import families\n",
    "from statsmodels.stats.outliers_influence import variance_inflation_factor\n",
    "\n",
    "from scipy import stats\n",
    "\n",
    "\n"
   ]
  },
  {
   "cell_type": "code",
   "execution_count": 11,
   "metadata": {},
   "outputs": [],
   "source": [
    "df = pd.read_csv('../data/JV_data_dist.csv')\n",
    "\n",
    "#Filter data\n",
    "df = df[df['mfgf'] == \"Yes\"]\n",
    "df = df[df['sic'].str.contains('3711') == True]\n",
    "df = df[df['public_count'] >= 1]\n",
    "df = df[df['nump'] == 2]\n",
    "df = df[df['emp_min'] >= 100 ]\n",
    "\n",
    "\n",
    "\n",
    "#Recode variables\n",
    "df['pdynamic'] = df['pdynamic'].map({'new_entrant': 1, 'incumbent': 0})\n",
    "df['rndf'] = df['rndf'].map({\"Yes\": 1, \"No\": 0})\n",
    "df[\"snation_partal\"] = df[\"snation_partal\"].map({\"Y\": 1, \"N\": 0})\n",
    "df['jvf'] = df['jvf'].map({'Yes': 1, 'No': 0})\n",
    "\n",
    "df = df.reset_index(drop=True)"
   ]
  },
  {
   "cell_type": "code",
   "execution_count": 12,
   "metadata": {},
   "outputs": [],
   "source": [
    "cols = ['ddist_year', 'public_count', 'rndf', 'snation_partal', 'avg_emp_pp', 'pdynamic']\n",
    "\n",
    "y = df['jvf']\n",
    "X = df[cols]\n",
    "X_constant = sm.add_constant(X, prepend=False)"
   ]
  },
  {
   "cell_type": "code",
   "execution_count": 13,
   "metadata": {},
   "outputs": [
    {
     "data": {
      "text/plain": [
       "0"
      ]
     },
     "execution_count": 13,
     "metadata": {},
     "output_type": "execute_result"
    }
   ],
   "source": [
    "y.isna().sum()"
   ]
  },
  {
   "cell_type": "markdown",
   "metadata": {},
   "source": [
    "1. Appropriate outcome type: Satisfied since outcome is either new entrent or incumbent\n",
    "2. Linearity of independent variables and log-odds: Satisfied\n",
    "3. No strongly influential outliers: Satisfied\n",
    "4. Absence of multicollinearity: Satisfied since it's a simple Logistical Reg. with one IV\n",
    "5. Independence of observations: Satisfied since data is time series observations\n",
    "6. Sufficiently large sample size: Satisfied since the dataset consists of >500 observations"
   ]
  },
  {
   "cell_type": "markdown",
   "metadata": {},
   "source": [
    "### Assumption 2: Continuous IV is linearly related to the log odds"
   ]
  },
  {
   "cell_type": "code",
   "execution_count": 14,
   "metadata": {},
   "outputs": [],
   "source": [
    "#Prepped data to R \n",
    "dfR = df.copy()\n",
    "dfR['ddist_year'] = abs(dfR['ddist_year'])\n",
    "dfR = dfR.drop(dfR[dfR['ddist_year'] == 0].index)\n",
    "dfR['ddist_year'] = dfR['ddist_year']\n",
    "\n",
    "dfR[['pdynamic', 'ddist_year', 'public_count']].to_csv('../data/prepped-r.csv', index=False)"
   ]
  },
  {
   "cell_type": "markdown",
   "metadata": {},
   "source": [
    "#### Results from R:"
   ]
  },
  {
   "cell_type": "markdown",
   "metadata": {},
   "source": [
    "p-value = 0.229, which is >0.05 (meaning that it is statistically not significant)\n",
    "This means that there is linearity in the Discontinuity Distance feature, and the assumption has not violated"
   ]
  },
  {
   "cell_type": "markdown",
   "metadata": {},
   "source": [
    "### Box Tidwell"
   ]
  },
  {
   "cell_type": "code",
   "execution_count": 15,
   "metadata": {},
   "outputs": [
    {
     "name": "stdout",
     "output_type": "stream",
     "text": [
      "                 Generalized Linear Model Regression Results                  \n",
      "==============================================================================\n",
      "Dep. Variable:                    jvf   No. Observations:                  169\n",
      "Model:                            GLM   Df Residuals:                      163\n",
      "Model Family:                Binomial   Df Model:                            5\n",
      "Link Function:                  Logit   Scale:                          1.0000\n",
      "Method:                          IRLS   Log-Likelihood:                -98.099\n",
      "Date:                Sun, 19 Jun 2022   Deviance:                       196.20\n",
      "Time:                        15:08:22   Pearson chi2:                     168.\n",
      "No. Iterations:                     4   Pseudo R-squ. (CS):            0.02115\n",
      "Covariance Type:            nonrobust                                         \n",
      "====================================================================================\n",
      "                       coef    std err          z      P>|z|      [0.025      0.975]\n",
      "------------------------------------------------------------------------------------\n",
      "ddist_year           0.6175      1.181      0.523      0.601      -1.697       2.932\n",
      "public_count         0.1464      0.589      0.248      0.804      -1.009       1.301\n",
      "avg_emp_pp       -3.392e-06   4.62e-05     -0.073      0.941   -9.39e-05    8.71e-05\n",
      "Log_ddist_year      -0.2790      0.575     -0.485      0.628      -1.406       0.848\n",
      "Log_public_count     0.2481      0.486      0.510      0.610      -0.705       1.201\n",
      "Log_avg_emp_pp    1.102e-07   3.58e-06      0.031      0.975    -6.9e-06    7.12e-06\n",
      "const               -0.0326      0.901     -0.036      0.971      -1.799       1.734\n",
      "====================================================================================\n"
     ]
    }
   ],
   "source": [
    "df_lt = df.copy()  # lt = logit transform\n",
    "df_lt['ddist_year'] = abs(df_lt['ddist_year'])\n",
    "df_lt = df_lt.drop(df_lt[df_lt['ddist_year'] == 0].index)\n",
    "\n",
    "# Define continuous variables\n",
    "continuous_var = ['ddist_year', 'public_count', 'avg_emp_pp']\n",
    "\n",
    "# Add logit transform interaction terms (natural log) for continuous variables e.g. Age * Log(Age)\n",
    "for var in continuous_var:\n",
    "\tdf_lt['Log_' + var] = df_lt[var].apply(lambda x: x * np.log(x)) #np.log = natural log\n",
    "\n",
    "cols_to_keep = continuous_var + df_lt.columns.tolist()[-len(continuous_var):]\n",
    "\n",
    "# Redefine independent variables to include interaction terms\n",
    "X_lt = df_lt[cols_to_keep]\n",
    "y_lt = df_lt['jvf']\n",
    "\n",
    "# Add constant\n",
    "X_lt_constant = sm.add_constant(X_lt, prepend=False)\n",
    "  \n",
    "# Build model and fit the data (using statsmodel's Logit)\n",
    "logit_results = GLM(y_lt, X_lt_constant, family=families.Binomial()).fit()\n",
    "\n",
    "# Display summary results\n",
    "print(logit_results.summary())"
   ]
  },
  {
   "cell_type": "markdown",
   "metadata": {},
   "source": [
    "Non statistically significant, so the assumption is not violated."
   ]
  },
  {
   "cell_type": "markdown",
   "metadata": {},
   "source": [
    "#### Visual check"
   ]
  },
  {
   "cell_type": "code",
   "execution_count": 16,
   "metadata": {},
   "outputs": [
    {
     "data": {
      "image/png": "[encoded data removed]",
      "text/plain": [
       "<Figure size 432x288 with 1 Axes>"
      ]
     },
     "metadata": {
      "needs_background": "light"
     },
     "output_type": "display_data"
    }
   ],
   "source": [
    "# Re-run logistic regression on original set of X and y variables\n",
    "logit_results = GLM(y, X_constant, family=families.Binomial()).fit()\n",
    "predicted = logit_results.predict(X_constant)\n",
    "\n",
    "# Get log odds values\n",
    "log_odds = np.log(predicted / (1 - predicted))\n",
    "\n",
    "# Visualize predictor continuous variable vs logit values (Age)\n",
    "plt.scatter(x=X_constant['ddist_year'].values, y=log_odds);\n",
    "plt.show()"
   ]
  },
  {
   "cell_type": "code",
   "execution_count": 17,
   "metadata": {},
   "outputs": [
    {
     "data": {
      "image/png": "[encoded data removed]",
      "text/plain": [
       "<Figure size 432x288 with 1 Axes>"
      ]
     },
     "metadata": {
      "needs_background": "light"
     },
     "output_type": "display_data"
    }
   ],
   "source": [
    "plt.scatter(x=X_constant['public_count'].values, y=log_odds);\n",
    "plt.show()"
   ]
  },
  {
   "cell_type": "code",
   "execution_count": 18,
   "metadata": {},
   "outputs": [
    {
     "data": {
      "image/png": "[encoded data removed]",
      "text/plain": [
       "<Figure size 432x288 with 1 Axes>"
      ]
     },
     "metadata": {
      "needs_background": "light"
     },
     "output_type": "display_data"
    }
   ],
   "source": [
    "plt.scatter(x=X_constant['avg_emp_pp'].values, y=log_odds);\n",
    "plt.show()"
   ]
  },
  {
   "cell_type": "markdown",
   "metadata": {},
   "source": [
    "### Assumption 3: Lack of outliers"
   ]
  },
  {
   "cell_type": "markdown",
   "metadata": {},
   "source": [
    "Cook’s Distance is an estimate of the influence of a data point. It takes into account both the leverage and residual of each observation. Cook’s Distance is a summary of how much a regression model changes when the ith observation is removed.\n",
    "A general rule of thumb is that any observation with a Cook’s distance greater than 4/n (where n = total observations) is considered to be influential (https://www.statology.org/cooks-distance-python/ and https://www.scikit-yb.org/en/latest/api/regressor/influence.html?highlight=cook#module-yellowbrick.regressor.influence), though there are even more generic cutoff values of >0.5-1.0.\n",
    "For outliers, we can use the absolute standardized residuals to identify them (std resid > 3)"
   ]
  },
  {
   "cell_type": "code",
   "execution_count": 19,
   "metadata": {},
   "outputs": [
    {
     "name": "stdout",
     "output_type": "stream",
     "text": [
      "                 Generalized Linear Model Regression Results                  \n",
      "==============================================================================\n",
      "Dep. Variable:                    jvf   No. Observations:                  195\n",
      "Model:                            GLM   Df Residuals:                      188\n",
      "Model Family:                Binomial   Df Model:                            6\n",
      "Link Function:                  Logit   Scale:                          1.0000\n",
      "Method:                          IRLS   Log-Likelihood:                -104.63\n",
      "Date:                Sun, 19 Jun 2022   Deviance:                       209.26\n",
      "Time:                        15:08:23   Pearson chi2:                     194.\n",
      "No. Iterations:                     4   Pseudo R-squ. (CS):             0.1101\n",
      "Covariance Type:            nonrobust                                         \n",
      "==================================================================================\n",
      "                     coef    std err          z      P>|z|      [0.025      0.975]\n",
      "----------------------------------------------------------------------------------\n",
      "ddist_year         0.1639      0.053      3.071      0.002       0.059       0.269\n",
      "public_count       0.6263      0.354      1.771      0.077      -0.067       1.320\n",
      "rndf              -1.9856      1.245     -1.595      0.111      -4.425       0.454\n",
      "snation_partal    -0.4376      0.459     -0.954      0.340      -1.336       0.461\n",
      "avg_emp_pp     -4.527e-07   1.58e-06     -0.286      0.775   -3.56e-06    2.65e-06\n",
      "pdynamic           0.5408      0.381      1.421      0.155      -0.205       1.287\n",
      "const              0.0204      0.617      0.033      0.974      -1.189       1.230\n",
      "==================================================================================\n"
     ]
    }
   ],
   "source": [
    "logit_model = GLM(y, X_constant, family=families.Binomial())\n",
    "logit_results = logit_model.fit()\n",
    "print(logit_results.summary())"
   ]
  },
  {
   "cell_type": "code",
   "execution_count": 20,
   "metadata": {},
   "outputs": [
    {
     "data": {
      "text/html": [
       "<div>\n",
       "<style scoped>\n",
       "    .dataframe tbody tr th:only-of-type {\n",
       "        vertical-align: middle;\n",
       "    }\n",
       "\n",
       "    .dataframe tbody tr th {\n",
       "        vertical-align: top;\n",
       "    }\n",
       "\n",
       "    .dataframe thead th {\n",
       "        text-align: right;\n",
       "    }\n",
       "</style>\n",
       "<table border=\"1\" class=\"dataframe\">\n",
       "  <thead>\n",
       "    <tr style=\"text-align: right;\">\n",
       "      <th></th>\n",
       "      <th>cooks_d</th>\n",
       "      <th>std_resid</th>\n",
       "    </tr>\n",
       "  </thead>\n",
       "  <tbody>\n",
       "    <tr>\n",
       "      <th>0</th>\n",
       "      <td>0.002991</td>\n",
       "      <td>0.813640</td>\n",
       "    </tr>\n",
       "    <tr>\n",
       "      <th>1</th>\n",
       "      <td>0.002893</td>\n",
       "      <td>0.825554</td>\n",
       "    </tr>\n",
       "    <tr>\n",
       "      <th>2</th>\n",
       "      <td>0.003036</td>\n",
       "      <td>0.630398</td>\n",
       "    </tr>\n",
       "    <tr>\n",
       "      <th>3</th>\n",
       "      <td>0.020068</td>\n",
       "      <td>1.633781</td>\n",
       "    </tr>\n",
       "    <tr>\n",
       "      <th>4</th>\n",
       "      <td>0.011113</td>\n",
       "      <td>1.178819</td>\n",
       "    </tr>\n",
       "    <tr>\n",
       "      <th>...</th>\n",
       "      <td>...</td>\n",
       "      <td>...</td>\n",
       "    </tr>\n",
       "    <tr>\n",
       "      <th>190</th>\n",
       "      <td>0.000359</td>\n",
       "      <td>0.369320</td>\n",
       "    </tr>\n",
       "    <tr>\n",
       "      <th>191</th>\n",
       "      <td>0.000474</td>\n",
       "      <td>0.370337</td>\n",
       "    </tr>\n",
       "    <tr>\n",
       "      <th>192</th>\n",
       "      <td>0.000395</td>\n",
       "      <td>0.364729</td>\n",
       "    </tr>\n",
       "    <tr>\n",
       "      <th>193</th>\n",
       "      <td>0.000468</td>\n",
       "      <td>0.383913</td>\n",
       "    </tr>\n",
       "    <tr>\n",
       "      <th>194</th>\n",
       "      <td>0.000446</td>\n",
       "      <td>0.382833</td>\n",
       "    </tr>\n",
       "  </tbody>\n",
       "</table>\n",
       "<p>195 rows × 2 columns</p>\n",
       "</div>"
      ],
      "text/plain": [
       "      cooks_d  std_resid\n",
       "0    0.002991   0.813640\n",
       "1    0.002893   0.825554\n",
       "2    0.003036   0.630398\n",
       "3    0.020068   1.633781\n",
       "4    0.011113   1.178819\n",
       "..        ...        ...\n",
       "190  0.000359   0.369320\n",
       "191  0.000474   0.370337\n",
       "192  0.000395   0.364729\n",
       "193  0.000468   0.383913\n",
       "194  0.000446   0.382833\n",
       "\n",
       "[195 rows x 2 columns]"
      ]
     },
     "execution_count": 20,
     "metadata": {},
     "output_type": "execute_result"
    }
   ],
   "source": [
    "# Get influence measures\n",
    "influence = logit_results.get_influence()\n",
    "\n",
    "# Obtain summary df of influence measures\n",
    "summ_df = influence.summary_frame()\n",
    "\n",
    "# Filter summary df to Cook distance\n",
    "diagnosis_df = summ_df.loc[:,['cooks_d']]\n",
    "\n",
    "# Append absolute standardized residual values\n",
    "diagnosis_df['std_resid'] = stats.zscore(logit_results.resid_pearson)\n",
    "diagnosis_df['std_resid'] = diagnosis_df.loc[:,'std_resid'].apply(lambda x: np.abs(x))\n",
    "\n",
    "# Sort by Cook's Distance\n",
    "diagnosis_df.sort_values(\"cooks_d\", ascending=False)\n",
    "diagnosis_df"
   ]
  },
  {
   "cell_type": "code",
   "execution_count": 21,
   "metadata": {},
   "outputs": [
    {
     "name": "stdout",
     "output_type": "stream",
     "text": [
      "Threshold for Cook Distance = 0.020512820512820513\n"
     ]
    }
   ],
   "source": [
    "# Set Cook's distance threshold\n",
    "cook_threshold = 4 / len(X)\n",
    "print(f\"Threshold for Cook Distance = {cook_threshold}\")"
   ]
  },
  {
   "cell_type": "code",
   "execution_count": 22,
   "metadata": {},
   "outputs": [
    {
     "data": {
      "image/png": "[encoded data removed]",
      "text/plain": [
       "<Figure size 432x288 with 1 Axes>"
      ]
     },
     "metadata": {
      "needs_background": "light"
     },
     "output_type": "display_data"
    }
   ],
   "source": [
    "# Plot influence measures (Cook's distance)\n",
    "fig = influence.plot_index(y_var=\"cooks\", threshold=cook_threshold)\n",
    "plt.axhline(y=cook_threshold, ls=\"--\", color='red')\n",
    "fig.tight_layout(pad=2)"
   ]
  },
  {
   "cell_type": "code",
   "execution_count": 23,
   "metadata": {},
   "outputs": [
    {
     "name": "stdout",
     "output_type": "stream",
     "text": [
      "Proportion of data points that are highly influential = 4.6%\n"
     ]
    }
   ],
   "source": [
    "# Find number of observations that exceed Cook's distance threshold\n",
    "outliers = diagnosis_df[diagnosis_df['cooks_d'] > cook_threshold]\n",
    "prop_outliers = round(100*(len(outliers) / len(X)),1)\n",
    "print(f'Proportion of data points that are highly influential = {prop_outliers}%')"
   ]
  },
  {
   "cell_type": "code",
   "execution_count": 24,
   "metadata": {},
   "outputs": [
    {
     "name": "stdout",
     "output_type": "stream",
     "text": [
      "Proportion of highly influential outliers = 0.5%\n"
     ]
    }
   ],
   "source": [
    "# Find number of observations which are BOTH outlier (std dev > 3) and highly influential\n",
    "extreme = diagnosis_df[(diagnosis_df['cooks_d'] > cook_threshold) & \n",
    "                       (diagnosis_df['std_resid'] > 3)]\n",
    "prop_extreme = round(100*(len(extreme) / len(X)),1)\n",
    "print(f'Proportion of highly influential outliers = {prop_extreme}%')"
   ]
  },
  {
   "cell_type": "code",
   "execution_count": 25,
   "metadata": {},
   "outputs": [
    {
     "data": {
      "text/html": [
       "<div>\n",
       "<style scoped>\n",
       "    .dataframe tbody tr th:only-of-type {\n",
       "        vertical-align: middle;\n",
       "    }\n",
       "\n",
       "    .dataframe tbody tr th {\n",
       "        vertical-align: top;\n",
       "    }\n",
       "\n",
       "    .dataframe thead th {\n",
       "        text-align: right;\n",
       "    }\n",
       "</style>\n",
       "<table border=\"1\" class=\"dataframe\">\n",
       "  <thead>\n",
       "    <tr style=\"text-align: right;\">\n",
       "      <th></th>\n",
       "      <th>cooks_d</th>\n",
       "      <th>std_resid</th>\n",
       "    </tr>\n",
       "  </thead>\n",
       "  <tbody>\n",
       "    <tr>\n",
       "      <th>161</th>\n",
       "      <td>0.025258</td>\n",
       "      <td>3.365368</td>\n",
       "    </tr>\n",
       "  </tbody>\n",
       "</table>\n",
       "</div>"
      ],
      "text/plain": [
       "      cooks_d  std_resid\n",
       "161  0.025258   3.365368"
      ]
     },
     "execution_count": 25,
     "metadata": {},
     "output_type": "execute_result"
    }
   ],
   "source": [
    "# Display top 5 most influential outliers\n",
    "extreme.sort_values(\"cooks_d\", ascending=False).head()"
   ]
  },
  {
   "cell_type": "code",
   "execution_count": 26,
   "metadata": {},
   "outputs": [
    {
     "data": {
      "text/plain": [
       "ddist_year            5.0\n",
       "public_count          2.0\n",
       "rndf                  0.0\n",
       "snation_partal        0.0\n",
       "avg_emp_pp        33233.5\n",
       "pdynamic              0.0\n",
       "Name: 178, dtype: float64"
      ]
     },
     "execution_count": 26,
     "metadata": {},
     "output_type": "execute_result"
    }
   ],
   "source": [
    "X.iloc[178]"
   ]
  },
  {
   "cell_type": "markdown",
   "metadata": {},
   "source": [
    "There are not outliers that can alter the reliability of the Logistical Regression Model"
   ]
  },
  {
   "cell_type": "markdown",
   "metadata": {},
   "source": [
    "## Multicoliearity"
   ]
  },
  {
   "cell_type": "code",
   "execution_count": 29,
   "metadata": {},
   "outputs": [
    {
     "data": {
      "image/png": "[encoded data removed]",
      "text/plain": [
       "<Figure size 720x432 with 2 Axes>"
      ]
     },
     "metadata": {
      "needs_background": "light"
     },
     "output_type": "display_data"
    }
   ],
   "source": [
    "corrMatrix = X.corr()\n",
    "plt.subplots(figsize=(10, 6))\n",
    "sns.heatmap(corrMatrix, annot=True, cmap=\"RdYlGn\")\n",
    "plt.show()"
   ]
  },
  {
   "cell_type": "code",
   "execution_count": 30,
   "metadata": {},
   "outputs": [
    {
     "data": {
      "text/html": [
       "<div>\n",
       "<style scoped>\n",
       "    .dataframe tbody tr th:only-of-type {\n",
       "        vertical-align: middle;\n",
       "    }\n",
       "\n",
       "    .dataframe tbody tr th {\n",
       "        vertical-align: top;\n",
       "    }\n",
       "\n",
       "    .dataframe thead th {\n",
       "        text-align: right;\n",
       "    }\n",
       "</style>\n",
       "<table border=\"1\" class=\"dataframe\">\n",
       "  <thead>\n",
       "    <tr style=\"text-align: right;\">\n",
       "      <th></th>\n",
       "      <th>variables</th>\n",
       "      <th>VIF</th>\n",
       "    </tr>\n",
       "  </thead>\n",
       "  <tbody>\n",
       "    <tr>\n",
       "      <th>0</th>\n",
       "      <td>ddist_year</td>\n",
       "      <td>1.107635</td>\n",
       "    </tr>\n",
       "    <tr>\n",
       "      <th>1</th>\n",
       "      <td>public_count</td>\n",
       "      <td>1.062439</td>\n",
       "    </tr>\n",
       "    <tr>\n",
       "      <th>2</th>\n",
       "      <td>rndf</td>\n",
       "      <td>1.010173</td>\n",
       "    </tr>\n",
       "    <tr>\n",
       "      <th>3</th>\n",
       "      <td>snation_partal</td>\n",
       "      <td>1.021914</td>\n",
       "    </tr>\n",
       "    <tr>\n",
       "      <th>4</th>\n",
       "      <td>avg_emp_pp</td>\n",
       "      <td>1.065915</td>\n",
       "    </tr>\n",
       "    <tr>\n",
       "      <th>5</th>\n",
       "      <td>pdynamic</td>\n",
       "      <td>1.203644</td>\n",
       "    </tr>\n",
       "    <tr>\n",
       "      <th>6</th>\n",
       "      <td>const</td>\n",
       "      <td>13.894472</td>\n",
       "    </tr>\n",
       "  </tbody>\n",
       "</table>\n",
       "</div>"
      ],
      "text/plain": [
       "        variables        VIF\n",
       "0      ddist_year   1.107635\n",
       "1    public_count   1.062439\n",
       "2            rndf   1.010173\n",
       "3  snation_partal   1.021914\n",
       "4      avg_emp_pp   1.065915\n",
       "5        pdynamic   1.203644\n",
       "6           const  13.894472"
      ]
     },
     "execution_count": 30,
     "metadata": {},
     "output_type": "execute_result"
    }
   ],
   "source": [
    "# Use variance inflation factor to identify any significant multi-collinearity\n",
    "def calc_vif(df):\n",
    "    vif = pd.DataFrame()\n",
    "    vif[\"variables\"] = df.columns\n",
    "    vif[\"VIF\"] = [variance_inflation_factor(df.values, i) for i in range(df.shape[1])]\n",
    "    return(vif)\n",
    "\n",
    "calc_vif(X_constant) # Include constant in VIF calculation in Python\n"
   ]
  },
  {
   "cell_type": "code",
   "execution_count": null,
   "metadata": {},
   "outputs": [],
   "source": []
  },
  {
   "cell_type": "markdown",
   "metadata": {},
   "source": [
    "## Logistic Regression Model"
   ]
  },
  {
   "cell_type": "code",
   "execution_count": 27,
   "metadata": {},
   "outputs": [
    {
     "name": "stdout",
     "output_type": "stream",
     "text": [
      "Optimization terminated successfully.\n",
      "         Current function value: 0.640115\n",
      "         Iterations 5\n"
     ]
    },
    {
     "data": {
      "text/html": [
       "<table class=\"simpletable\">\n",
       "<caption>Logit Regression Results</caption>\n",
       "<tr>\n",
       "  <th>Dep. Variable:</th>       <td>pdynamic</td>     <th>  No. Observations:  </th>  <td>   195</td>  \n",
       "</tr>\n",
       "<tr>\n",
       "  <th>Model:</th>                 <td>Logit</td>      <th>  Df Residuals:      </th>  <td>   193</td>  \n",
       "</tr>\n",
       "<tr>\n",
       "  <th>Method:</th>                 <td>MLE</td>       <th>  Df Model:          </th>  <td>     1</td>  \n",
       "</tr>\n",
       "<tr>\n",
       "  <th>Date:</th>            <td>Sun, 19 Jun 2022</td> <th>  Pseudo R-squ.:     </th>  <td>0.06148</td> \n",
       "</tr>\n",
       "<tr>\n",
       "  <th>Time:</th>                <td>15:08:25</td>     <th>  Log-Likelihood:    </th> <td> -124.82</td> \n",
       "</tr>\n",
       "<tr>\n",
       "  <th>converged:</th>             <td>True</td>       <th>  LL-Null:           </th> <td> -133.00</td> \n",
       "</tr>\n",
       "<tr>\n",
       "  <th>Covariance Type:</th>     <td>nonrobust</td>    <th>  LLR p-value:       </th> <td>5.255e-05</td>\n",
       "</tr>\n",
       "</table>\n",
       "<table class=\"simpletable\">\n",
       "<tr>\n",
       "       <td></td>         <th>coef</th>     <th>std err</th>      <th>z</th>      <th>P>|z|</th>  <th>[0.025</th>    <th>0.975]</th>  \n",
       "</tr>\n",
       "<tr>\n",
       "  <th>Intercept</th>  <td>   -0.3661</td> <td>    0.153</td> <td>   -2.390</td> <td> 0.017</td> <td>   -0.666</td> <td>   -0.066</td>\n",
       "</tr>\n",
       "<tr>\n",
       "  <th>ddist_year</th> <td>    0.1791</td> <td>    0.046</td> <td>    3.879</td> <td> 0.000</td> <td>    0.089</td> <td>    0.270</td>\n",
       "</tr>\n",
       "</table>"
      ],
      "text/plain": [
       "<class 'statsmodels.iolib.summary.Summary'>\n",
       "\"\"\"\n",
       "                           Logit Regression Results                           \n",
       "==============================================================================\n",
       "Dep. Variable:               pdynamic   No. Observations:                  195\n",
       "Model:                          Logit   Df Residuals:                      193\n",
       "Method:                           MLE   Df Model:                            1\n",
       "Date:                Sun, 19 Jun 2022   Pseudo R-squ.:                 0.06148\n",
       "Time:                        15:08:25   Log-Likelihood:                -124.82\n",
       "converged:                       True   LL-Null:                       -133.00\n",
       "Covariance Type:            nonrobust   LLR p-value:                 5.255e-05\n",
       "==============================================================================\n",
       "                 coef    std err          z      P>|z|      [0.025      0.975]\n",
       "------------------------------------------------------------------------------\n",
       "Intercept     -0.3661      0.153     -2.390      0.017      -0.666      -0.066\n",
       "ddist_year     0.1791      0.046      3.879      0.000       0.089       0.270\n",
       "==============================================================================\n",
       "\"\"\""
      ]
     },
     "execution_count": 27,
     "metadata": {},
     "output_type": "execute_result"
    }
   ],
   "source": [
    "model = smf.logit(formula=\"pdynamic~ ddist_year\", data= df).fit()\n",
    "model.summary()"
   ]
  },
  {
   "cell_type": "code",
   "execution_count": 28,
   "metadata": {},
   "outputs": [
    {
     "name": "stdout",
     "output_type": "stream",
     "text": [
      "                 Generalized Linear Model Regression Results                  \n",
      "==============================================================================\n",
      "Dep. Variable:                    jvf   No. Observations:                  195\n",
      "Model:                            GLM   Df Residuals:                      188\n",
      "Model Family:                Binomial   Df Model:                            6\n",
      "Link Function:                  Logit   Scale:                          1.0000\n",
      "Method:                          IRLS   Log-Likelihood:                -104.63\n",
      "Date:                Sun, 19 Jun 2022   Deviance:                       209.26\n",
      "Time:                        15:08:25   Pearson chi2:                     194.\n",
      "No. Iterations:                     4   Pseudo R-squ. (CS):             0.1101\n",
      "Covariance Type:            nonrobust                                         \n",
      "==================================================================================\n",
      "                     coef    std err          z      P>|z|      [0.025      0.975]\n",
      "----------------------------------------------------------------------------------\n",
      "ddist_year         0.1639      0.053      3.071      0.002       0.059       0.269\n",
      "public_count       0.6263      0.354      1.771      0.077      -0.067       1.320\n",
      "rndf              -1.9856      1.245     -1.595      0.111      -4.425       0.454\n",
      "snation_partal    -0.4376      0.459     -0.954      0.340      -1.336       0.461\n",
      "avg_emp_pp     -4.527e-07   1.58e-06     -0.286      0.775   -3.56e-06    2.65e-06\n",
      "pdynamic           0.5408      0.381      1.421      0.155      -0.205       1.287\n",
      "const              0.0204      0.617      0.033      0.974      -1.189       1.230\n",
      "==================================================================================\n"
     ]
    }
   ],
   "source": [
    "logit_model = GLM(y, X_constant, family=families.Binomial())\n",
    "logit_results = logit_model.fit()\n",
    "print(logit_results.summary())"
   ]
  },
  {
   "cell_type": "code",
   "execution_count": null,
   "metadata": {},
   "outputs": [],
   "source": []
  }
 ],
 "metadata": {
  "interpreter": {
   "hash": "aee8b7b246df8f9039afb4144a1f6fd8d2ca17a180786b69acc140d282b71a49"
  },
  "kernelspec": {
   "display_name": "Python 3.9.10 64-bit",
   "language": "python",
   "name": "python3"
  },
  "language_info": {
   "codemirror_mode": {
    "name": "ipython",
    "version": 3
   },
   "file_extension": ".py",
   "mimetype": "text/x-python",
   "name": "python",
   "nbconvert_exporter": "python",
   "pygments_lexer": "ipython3",
   "version": "3.9.10"
  },
  "orig_nbformat": 4
 },
 "nbformat": 4,
 "nbformat_minor": 2
}
