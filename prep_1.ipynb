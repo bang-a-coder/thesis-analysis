{
 "cells": [
  {
   "cell_type": "code",
   "execution_count": 1,
   "metadata": {},
   "outputs": [
    {
     "name": "stderr",
     "output_type": "stream",
     "text": [
      "/usr/local/lib/python3.9/site-packages/statsmodels/compat/pandas.py:65: FutureWarning: pandas.Int64Index is deprecated and will be removed from pandas in a future version. Use pandas.Index with the appropriate dtype instead.\n",
      "  from pandas import Int64Index as NumericIndex\n"
     ]
    }
   ],
   "source": [
    "import pandas as pd\n",
    "import dask as dd\n",
    "import numpy as np\n",
    "import seaborn as sns\n",
    "import matplotlib.pyplot as plt\n",
    "import datetime as dt\n",
    "import statsmodels.formula.api as smf\n",
    "import statistics\n",
    "\n",
    "from sklearn.linear_model import LogisticRegression\n",
    "\n",
    "import statsmodels.api as sm\n",
    "from statsmodels.genmod.generalized_linear_model import GLM\n",
    "from statsmodels.genmod import families\n",
    "from statsmodels.stats.outliers_influence import variance_inflation_factor\n",
    "\n",
    "from scipy import stats"
   ]
  },
  {
   "cell_type": "code",
   "execution_count": 2,
   "metadata": {},
   "outputs": [],
   "source": [
    "sns.set()"
   ]
  },
  {
   "cell_type": "markdown",
   "metadata": {},
   "source": [
    "## Filter out non automotive-related alliances"
   ]
  },
  {
   "cell_type": "code",
   "execution_count": 3,
   "metadata": {},
   "outputs": [
    {
     "name": "stderr",
     "output_type": "stream",
     "text": [
      "/var/folders/5h/tc1b2dhx483_cx6pj09_pyc80000gn/T/ipykernel_8367/2145547248.py:1: DtypeWarning: Columns (3,4,7,8,11,12,14,15,16,19,45,46,49,56,69,83,95,98,99,100,104,108,109,119,120,121,122,123,124,125,127,128,129,141,143,144,145,146,147,148,155,188,217,218,219,220,221,222,223,224,226,229,232,233,234,235,236,237,238,239,240,243,244,245,246,248,249,250,252) have mixed types. Specify dtype option on import or set low_memory=False.\n",
      "  df = pd.read_csv('../data.csv')\n"
     ]
    }
   ],
   "source": [
    "df = pd.read_csv('../data.csv')\n",
    "df = df[df['psic'].notna()] #drop 45 NaN participant SIC, fix the issue by not solving it\n",
    "autoDF = df[df['psicp'].str.contains('3711')] #Create df who have at least one participant in the automotive industry with SIC: 3711\n",
    "autoDF = autoDF.drop('Unnamed: 0', axis=1)\n",
    "autoDF = autoDF.reset_index(drop=True)\n",
    "\n",
    "#Export\n",
    "autoDF.to_csv('./data/autodf.csv', index=False) #create csv sample"
   ]
  },
  {
   "cell_type": "markdown",
   "metadata": {},
   "source": [
    "## Data selection"
   ]
  },
  {
   "cell_type": "markdown",
   "metadata": {},
   "source": [
    "### Filter variables"
   ]
  },
  {
   "cell_type": "code",
   "execution_count": 5,
   "metadata": {},
   "outputs": [],
   "source": [
    "variables = [\"id\",\"activity\", \"activityc\", \"da\", \"jvinc\", \"jvindustry\", \"jvstatus\", \"p\", \"pbl\", \n",
    "\t\t   \"pbuss\", \"sicp\", \"sic\", \"SICPDESC\".lower(), \"psic\", \"psicp\", \"nump\", \"jvf\", \"jvtype\", \n",
    "\t\t   \"rndf\", \"pemp\", \"PBUSSOURCE\".lower(), \"HITECHC\".lower(), \"crlic\", \"crtech\", \"TECHNIQUEC\".lower(),\n",
    "\t\t   \"TECHTR\".lower(), \"PPUBC\".lower(), \"SNATION_PARTAL\".lower(), 'CR_BOR_PART'.lower(), 'mfgf', 'natc',\n",
    "\t\t   \"jvemp\", \"saf\"]\n",
    "filteredDF = autoDF[variables]"
   ]
  },
  {
   "cell_type": "markdown",
   "metadata": {},
   "source": [
    "### Select timeframe"
   ]
  },
  {
   "cell_type": "code",
   "execution_count": 6,
   "metadata": {},
   "outputs": [
    {
     "name": "stderr",
     "output_type": "stream",
     "text": [
      "/var/folders/5h/tc1b2dhx483_cx6pj09_pyc80000gn/T/ipykernel_8367/2738038061.py:1: SettingWithCopyWarning: \n",
      "A value is trying to be set on a copy of a slice from a DataFrame.\n",
      "Try using .loc[row_indexer,col_indexer] = value instead\n",
      "\n",
      "See the caveats in the documentation: https://pandas.pydata.org/pandas-docs/stable/user_guide/indexing.html#returning-a-view-versus-a-copy\n",
      "  filteredDF['da'] = pd.to_datetime(filteredDF['da'])\n"
     ]
    }
   ],
   "source": [
    "filteredDF['da'] = pd.to_datetime(filteredDF['da']) \n",
    "timedDF = filteredDF[(filteredDF['da'] >= '2002-01-01') & (filteredDF['da'] <= '2012-12-31')]\n",
    "timedDF.set_index('da', inplace=True, drop=True)"
   ]
  },
  {
   "cell_type": "markdown",
   "metadata": {},
   "source": [
    "## Feature engineering"
   ]
  },
  {
   "cell_type": "markdown",
   "metadata": {},
   "source": [
    "### Split PSICPs to seperate columns"
   ]
  },
  {
   "cell_type": "code",
   "execution_count": 7,
   "metadata": {},
   "outputs": [
    {
     "name": "stderr",
     "output_type": "stream",
     "text": [
      "/var/folders/5h/tc1b2dhx483_cx6pj09_pyc80000gn/T/ipykernel_8367/1130787018.py:4: SettingWithCopyWarning: \n",
      "A value is trying to be set on a copy of a slice from a DataFrame.\n",
      "Try using .loc[row_indexer,col_indexer] = value instead\n",
      "\n",
      "See the caveats in the documentation: https://pandas.pydata.org/pandas-docs/stable/user_guide/indexing.html#returning-a-view-versus-a-copy\n",
      "  timedDF['p' + str(n) + \"name\"] =  timedDF['p'].str.split(pattern, expand=True)[n-1] #Create seperate columns for each possible participant\n",
      "/var/folders/5h/tc1b2dhx483_cx6pj09_pyc80000gn/T/ipykernel_8367/1130787018.py:6: SettingWithCopyWarning: \n",
      "A value is trying to be set on a copy of a slice from a DataFrame.\n",
      "Try using .loc[row_indexer,col_indexer] = value instead\n",
      "\n",
      "See the caveats in the documentation: https://pandas.pydata.org/pandas-docs/stable/user_guide/indexing.html#returning-a-view-versus-a-copy\n",
      "  timedDF[\"p\" + str(n) + \"sicp\"] = timedDF['psicp'].str.split(pattern, expand=True)[n-1] #Create seperate placeholder columns to split participant SIC codes\n",
      "/var/folders/5h/tc1b2dhx483_cx6pj09_pyc80000gn/T/ipykernel_8367/1130787018.py:4: SettingWithCopyWarning: \n",
      "A value is trying to be set on a copy of a slice from a DataFrame.\n",
      "Try using .loc[row_indexer,col_indexer] = value instead\n",
      "\n",
      "See the caveats in the documentation: https://pandas.pydata.org/pandas-docs/stable/user_guide/indexing.html#returning-a-view-versus-a-copy\n",
      "  timedDF['p' + str(n) + \"name\"] =  timedDF['p'].str.split(pattern, expand=True)[n-1] #Create seperate columns for each possible participant\n",
      "/var/folders/5h/tc1b2dhx483_cx6pj09_pyc80000gn/T/ipykernel_8367/1130787018.py:6: SettingWithCopyWarning: \n",
      "A value is trying to be set on a copy of a slice from a DataFrame.\n",
      "Try using .loc[row_indexer,col_indexer] = value instead\n",
      "\n",
      "See the caveats in the documentation: https://pandas.pydata.org/pandas-docs/stable/user_guide/indexing.html#returning-a-view-versus-a-copy\n",
      "  timedDF[\"p\" + str(n) + \"sicp\"] = timedDF['psicp'].str.split(pattern, expand=True)[n-1] #Create seperate placeholder columns to split participant SIC codes\n",
      "/var/folders/5h/tc1b2dhx483_cx6pj09_pyc80000gn/T/ipykernel_8367/1130787018.py:4: SettingWithCopyWarning: \n",
      "A value is trying to be set on a copy of a slice from a DataFrame.\n",
      "Try using .loc[row_indexer,col_indexer] = value instead\n",
      "\n",
      "See the caveats in the documentation: https://pandas.pydata.org/pandas-docs/stable/user_guide/indexing.html#returning-a-view-versus-a-copy\n",
      "  timedDF['p' + str(n) + \"name\"] =  timedDF['p'].str.split(pattern, expand=True)[n-1] #Create seperate columns for each possible participant\n",
      "/var/folders/5h/tc1b2dhx483_cx6pj09_pyc80000gn/T/ipykernel_8367/1130787018.py:6: SettingWithCopyWarning: \n",
      "A value is trying to be set on a copy of a slice from a DataFrame.\n",
      "Try using .loc[row_indexer,col_indexer] = value instead\n",
      "\n",
      "See the caveats in the documentation: https://pandas.pydata.org/pandas-docs/stable/user_guide/indexing.html#returning-a-view-versus-a-copy\n",
      "  timedDF[\"p\" + str(n) + \"sicp\"] = timedDF['psicp'].str.split(pattern, expand=True)[n-1] #Create seperate placeholder columns to split participant SIC codes\n",
      "/var/folders/5h/tc1b2dhx483_cx6pj09_pyc80000gn/T/ipykernel_8367/1130787018.py:4: SettingWithCopyWarning: \n",
      "A value is trying to be set on a copy of a slice from a DataFrame.\n",
      "Try using .loc[row_indexer,col_indexer] = value instead\n",
      "\n",
      "See the caveats in the documentation: https://pandas.pydata.org/pandas-docs/stable/user_guide/indexing.html#returning-a-view-versus-a-copy\n",
      "  timedDF['p' + str(n) + \"name\"] =  timedDF['p'].str.split(pattern, expand=True)[n-1] #Create seperate columns for each possible participant\n",
      "/var/folders/5h/tc1b2dhx483_cx6pj09_pyc80000gn/T/ipykernel_8367/1130787018.py:6: SettingWithCopyWarning: \n",
      "A value is trying to be set on a copy of a slice from a DataFrame.\n",
      "Try using .loc[row_indexer,col_indexer] = value instead\n",
      "\n",
      "See the caveats in the documentation: https://pandas.pydata.org/pandas-docs/stable/user_guide/indexing.html#returning-a-view-versus-a-copy\n",
      "  timedDF[\"p\" + str(n) + \"sicp\"] = timedDF['psicp'].str.split(pattern, expand=True)[n-1] #Create seperate placeholder columns to split participant SIC codes\n",
      "/var/folders/5h/tc1b2dhx483_cx6pj09_pyc80000gn/T/ipykernel_8367/1130787018.py:4: SettingWithCopyWarning: \n",
      "A value is trying to be set on a copy of a slice from a DataFrame.\n",
      "Try using .loc[row_indexer,col_indexer] = value instead\n",
      "\n",
      "See the caveats in the documentation: https://pandas.pydata.org/pandas-docs/stable/user_guide/indexing.html#returning-a-view-versus-a-copy\n",
      "  timedDF['p' + str(n) + \"name\"] =  timedDF['p'].str.split(pattern, expand=True)[n-1] #Create seperate columns for each possible participant\n",
      "/var/folders/5h/tc1b2dhx483_cx6pj09_pyc80000gn/T/ipykernel_8367/1130787018.py:6: SettingWithCopyWarning: \n",
      "A value is trying to be set on a copy of a slice from a DataFrame.\n",
      "Try using .loc[row_indexer,col_indexer] = value instead\n",
      "\n",
      "See the caveats in the documentation: https://pandas.pydata.org/pandas-docs/stable/user_guide/indexing.html#returning-a-view-versus-a-copy\n",
      "  timedDF[\"p\" + str(n) + \"sicp\"] = timedDF['psicp'].str.split(pattern, expand=True)[n-1] #Create seperate placeholder columns to split participant SIC codes\n",
      "/var/folders/5h/tc1b2dhx483_cx6pj09_pyc80000gn/T/ipykernel_8367/1130787018.py:4: SettingWithCopyWarning: \n",
      "A value is trying to be set on a copy of a slice from a DataFrame.\n",
      "Try using .loc[row_indexer,col_indexer] = value instead\n",
      "\n",
      "See the caveats in the documentation: https://pandas.pydata.org/pandas-docs/stable/user_guide/indexing.html#returning-a-view-versus-a-copy\n",
      "  timedDF['p' + str(n) + \"name\"] =  timedDF['p'].str.split(pattern, expand=True)[n-1] #Create seperate columns for each possible participant\n",
      "/var/folders/5h/tc1b2dhx483_cx6pj09_pyc80000gn/T/ipykernel_8367/1130787018.py:6: SettingWithCopyWarning: \n",
      "A value is trying to be set on a copy of a slice from a DataFrame.\n",
      "Try using .loc[row_indexer,col_indexer] = value instead\n",
      "\n",
      "See the caveats in the documentation: https://pandas.pydata.org/pandas-docs/stable/user_guide/indexing.html#returning-a-view-versus-a-copy\n",
      "  timedDF[\"p\" + str(n) + \"sicp\"] = timedDF['psicp'].str.split(pattern, expand=True)[n-1] #Create seperate placeholder columns to split participant SIC codes\n",
      "/var/folders/5h/tc1b2dhx483_cx6pj09_pyc80000gn/T/ipykernel_8367/1130787018.py:4: SettingWithCopyWarning: \n",
      "A value is trying to be set on a copy of a slice from a DataFrame.\n",
      "Try using .loc[row_indexer,col_indexer] = value instead\n",
      "\n",
      "See the caveats in the documentation: https://pandas.pydata.org/pandas-docs/stable/user_guide/indexing.html#returning-a-view-versus-a-copy\n",
      "  timedDF['p' + str(n) + \"name\"] =  timedDF['p'].str.split(pattern, expand=True)[n-1] #Create seperate columns for each possible participant\n",
      "/var/folders/5h/tc1b2dhx483_cx6pj09_pyc80000gn/T/ipykernel_8367/1130787018.py:6: SettingWithCopyWarning: \n",
      "A value is trying to be set on a copy of a slice from a DataFrame.\n",
      "Try using .loc[row_indexer,col_indexer] = value instead\n",
      "\n",
      "See the caveats in the documentation: https://pandas.pydata.org/pandas-docs/stable/user_guide/indexing.html#returning-a-view-versus-a-copy\n",
      "  timedDF[\"p\" + str(n) + \"sicp\"] = timedDF['psicp'].str.split(pattern, expand=True)[n-1] #Create seperate placeholder columns to split participant SIC codes\n",
      "/var/folders/5h/tc1b2dhx483_cx6pj09_pyc80000gn/T/ipykernel_8367/1130787018.py:4: SettingWithCopyWarning: \n",
      "A value is trying to be set on a copy of a slice from a DataFrame.\n",
      "Try using .loc[row_indexer,col_indexer] = value instead\n",
      "\n",
      "See the caveats in the documentation: https://pandas.pydata.org/pandas-docs/stable/user_guide/indexing.html#returning-a-view-versus-a-copy\n",
      "  timedDF['p' + str(n) + \"name\"] =  timedDF['p'].str.split(pattern, expand=True)[n-1] #Create seperate columns for each possible participant\n",
      "/var/folders/5h/tc1b2dhx483_cx6pj09_pyc80000gn/T/ipykernel_8367/1130787018.py:6: SettingWithCopyWarning: \n",
      "A value is trying to be set on a copy of a slice from a DataFrame.\n",
      "Try using .loc[row_indexer,col_indexer] = value instead\n",
      "\n",
      "See the caveats in the documentation: https://pandas.pydata.org/pandas-docs/stable/user_guide/indexing.html#returning-a-view-versus-a-copy\n",
      "  timedDF[\"p\" + str(n) + \"sicp\"] = timedDF['psicp'].str.split(pattern, expand=True)[n-1] #Create seperate placeholder columns to split participant SIC codes\n",
      "/var/folders/5h/tc1b2dhx483_cx6pj09_pyc80000gn/T/ipykernel_8367/1130787018.py:4: SettingWithCopyWarning: \n",
      "A value is trying to be set on a copy of a slice from a DataFrame.\n",
      "Try using .loc[row_indexer,col_indexer] = value instead\n",
      "\n",
      "See the caveats in the documentation: https://pandas.pydata.org/pandas-docs/stable/user_guide/indexing.html#returning-a-view-versus-a-copy\n",
      "  timedDF['p' + str(n) + \"name\"] =  timedDF['p'].str.split(pattern, expand=True)[n-1] #Create seperate columns for each possible participant\n",
      "/var/folders/5h/tc1b2dhx483_cx6pj09_pyc80000gn/T/ipykernel_8367/1130787018.py:6: SettingWithCopyWarning: \n",
      "A value is trying to be set on a copy of a slice from a DataFrame.\n",
      "Try using .loc[row_indexer,col_indexer] = value instead\n",
      "\n",
      "See the caveats in the documentation: https://pandas.pydata.org/pandas-docs/stable/user_guide/indexing.html#returning-a-view-versus-a-copy\n",
      "  timedDF[\"p\" + str(n) + \"sicp\"] = timedDF['psicp'].str.split(pattern, expand=True)[n-1] #Create seperate placeholder columns to split participant SIC codes\n"
     ]
    }
   ],
   "source": [
    "pattern = r'\\\\n' #Regex pattern to split name\n",
    "\n",
    "for n in range(1, (int(timedDF[\"nump\"].max()) + 1)): \n",
    "\ttimedDF['p' + str(n) + \"name\"] =  timedDF['p'].str.split(pattern, expand=True)[n-1] #Create seperate columns for each possible participant\n",
    "\n",
    "\ttimedDF[\"p\" + str(n) + \"sicp\"] = timedDF['psicp'].str.split(pattern, expand=True)[n-1] #Create seperate placeholder columns to split participant SIC codes"
   ]
  },
  {
   "cell_type": "markdown",
   "metadata": {},
   "source": [
    "### Define incumbent / new-entrant alliance"
   ]
  },
  {
   "cell_type": "code",
   "execution_count": 8,
   "metadata": {},
   "outputs": [
    {
     "name": "stderr",
     "output_type": "stream",
     "text": [
      "/var/folders/5h/tc1b2dhx483_cx6pj09_pyc80000gn/T/ipykernel_8367/3940381924.py:3: SettingWithCopyWarning: \n",
      "A value is trying to be set on a copy of a slice from a DataFrame.\n",
      "Try using .loc[row_indexer,col_indexer] = value instead\n",
      "\n",
      "See the caveats in the documentation: https://pandas.pydata.org/pandas-docs/stable/user_guide/indexing.html#returning-a-view-versus-a-copy\n",
      "  timedDF['pdynamic'] = (timedDF[cols]=='3711').sum(axis=1) > 1 #Flag True for alliances consisting of more than one automotive incumbent\n",
      "/var/folders/5h/tc1b2dhx483_cx6pj09_pyc80000gn/T/ipykernel_8367/3940381924.py:4: SettingWithCopyWarning: \n",
      "A value is trying to be set on a copy of a slice from a DataFrame.\n",
      "Try using .loc[row_indexer,col_indexer] = value instead\n",
      "\n",
      "See the caveats in the documentation: https://pandas.pydata.org/pandas-docs/stable/user_guide/indexing.html#returning-a-view-versus-a-copy\n",
      "  timedDF['pdynamic'] = timedDF['pdynamic'].map({True: \"incumbent\", False: \"new_entrant\"}) #Turn tha above from boolean to string\n"
     ]
    }
   ],
   "source": [
    "cols = timedDF.filter(regex='p\\d+sicp', axis=1).columns #Get columns of individual participant SICs\n",
    "\n",
    "timedDF['pdynamic'] = (timedDF[cols]=='3711').sum(axis=1) > 1 #Flag True for alliances consisting of more than one automotive incumbent\n",
    "timedDF['pdynamic'] = timedDF['pdynamic'].map({True: \"incumbent\", False: \"new_entrant\"}) #Turn tha above from boolean to string"
   ]
  },
  {
   "cell_type": "code",
   "execution_count": 9,
   "metadata": {},
   "outputs": [],
   "source": [
    "#Export\n",
    "timedDF.to_csv('./data/JV_data_2002-2012.csv')"
   ]
  },
  {
   "cell_type": "markdown",
   "metadata": {},
   "source": [
    "### Generate discontintuiy time distance variations"
   ]
  },
  {
   "cell_type": "code",
   "execution_count": 10,
   "metadata": {},
   "outputs": [],
   "source": [
    "JV_data_dist = timedDF.copy() ##Make copy\n",
    "\n",
    "disc_day = pd.to_datetime(\"02/06/2007\", format=\"%d/%m/%Y\")"
   ]
  },
  {
   "cell_type": "markdown",
   "metadata": {},
   "source": [
    "#### Integer distance"
   ]
  },
  {
   "cell_type": "code",
   "execution_count": 11,
   "metadata": {},
   "outputs": [],
   "source": [
    "JV_data_dist['ddist_int'] = ((disc_day - JV_data_dist.index).days) * -1 #time -1 to reverse days count, negative should be before 2007"
   ]
  },
  {
   "cell_type": "markdown",
   "metadata": {},
   "source": [
    "#### Natural num distance (absolute)"
   ]
  },
  {
   "cell_type": "code",
   "execution_count": 12,
   "metadata": {},
   "outputs": [],
   "source": [
    "JV_data_dist['ddist_abs'] = abs((disc_day - JV_data_dist.index).days)"
   ]
  },
  {
   "cell_type": "markdown",
   "metadata": {},
   "source": [
    "#### Binary distance"
   ]
  },
  {
   "cell_type": "code",
   "execution_count": 13,
   "metadata": {},
   "outputs": [],
   "source": [
    "#Let 0 describe alliances before discontinuity day\n",
    "#Let 1 describe alliances after discontinuity day\n",
    "\n",
    "JV_data_dist['ddist_bin'] = 0 #Create placeholder columnc\n",
    "JV_data_dist.loc[JV_data_dist.index > disc_day, 'ddist_bin'] = 1"
   ]
  },
  {
   "cell_type": "markdown",
   "metadata": {},
   "source": [
    "### Year distance"
   ]
  },
  {
   "cell_type": "code",
   "execution_count": 14,
   "metadata": {},
   "outputs": [],
   "source": [
    "JV_data_dist['ddist_year'] = (disc_day.year - JV_data_dist.index.year) * -1"
   ]
  },
  {
   "cell_type": "markdown",
   "metadata": {},
   "source": [
    "### Split participant employee count to seperate variables"
   ]
  },
  {
   "cell_type": "code",
   "execution_count": 15,
   "metadata": {},
   "outputs": [],
   "source": [
    "pattern = r'\\\\n'\n",
    "pattern2 = r'p\\d+emp'\n",
    "\n",
    "for n in range(1, (int(JV_data_dist[\"nump\"].max()) + 1)): \n",
    "\tJV_data_dist[\"p\" + str(n) + \"emp\"] =  pd.to_numeric(JV_data_dist['pemp'].str.split(pattern, expand=True)[n-1]) #Create seperate columns for each possible participant\n",
    "\tJV_data_dist[\"p\" + str(n) + \"emp\"].replace(to_replace='', value=None, inplace=True) #Replace unknown employee count with na\n",
    "\n",
    "foo = JV_data_dist.filter(regex=pattern2, axis=1).notna() #Get columns of individual participant employee count\n",
    "\n",
    "JV_data_dist['known_emp'] = foo.any(axis=1) #Binary if employee count is known for >= participant\n",
    "JV_data_dist['known_allemp'] = JV_data_dist['nump'] == foo.sum(axis=1) #Binary if employee count is known for ALL participants\n",
    "\n",
    "#Get log of AVG employess per participant\n",
    "fooReal = JV_data_dist.filter(regex=pattern2, axis=1) \n",
    "JV_data_dist['avg_emp_pp_log'] = np.log(fooReal.mean(axis=1, skipna=True))\n",
    "JV_data_dist['avg_emp_pp'] = fooReal.mean(axis=1, skipna=True)\n",
    "\n",
    "#Get mininmum participants per alliance\n",
    "JV_data_dist['emp_min'] = fooReal.min(axis=1)"
   ]
  },
  {
   "cell_type": "markdown",
   "metadata": {},
   "source": [
    "### Count public companies per alliance"
   ]
  },
  {
   "cell_type": "code",
   "execution_count": 16,
   "metadata": {},
   "outputs": [],
   "source": [
    "pattern = r'\\\\n'\n",
    "\n",
    "JV_data_dist['public_count'] = (JV_data_dist['ppubc'].str.split(pattern, expand=True) == 'P').sum(axis=1)"
   ]
  },
  {
   "cell_type": "code",
   "execution_count": 17,
   "metadata": {},
   "outputs": [],
   "source": [
    "#Export\n",
    "JV_data_dist.to_csv(\"./data/JV_data_dist.csv\")"
   ]
  },
  {
   "cell_type": "code",
   "execution_count": 18,
   "metadata": {},
   "outputs": [
    {
     "data": {
      "text/plain": [
       "N    775\n",
       "Y    214\n",
       "Name: snation_partal, dtype: int64"
      ]
     },
     "execution_count": 18,
     "metadata": {},
     "output_type": "execute_result"
    }
   ],
   "source": [
    "pd.options.display.max_columns = None\n",
    "JV_data_dist['SNATION_PARTAL'.lower()].value_counts()"
   ]
  },
  {
   "cell_type": "code",
   "execution_count": null,
   "metadata": {},
   "outputs": [],
   "source": []
  }
 ],
 "metadata": {
  "interpreter": {
   "hash": "aee8b7b246df8f9039afb4144a1f6fd8d2ca17a180786b69acc140d282b71a49"
  },
  "kernelspec": {
   "display_name": "Python 3.9.10 64-bit",
   "language": "python",
   "name": "python3"
  },
  "language_info": {
   "codemirror_mode": {
    "name": "ipython",
    "version": 3
   },
   "file_extension": ".py",
   "mimetype": "text/x-python",
   "name": "python",
   "nbconvert_exporter": "python",
   "pygments_lexer": "ipython3",
   "version": "3.9.10"
  },
  "orig_nbformat": 4
 },
 "nbformat": 4,
 "nbformat_minor": 2
}
