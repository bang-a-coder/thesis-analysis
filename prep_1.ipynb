{
 "cells": [
  {
   "cell_type": "code",
   "execution_count": null,
   "metadata": {},
   "outputs": [],
   "source": [
    "import pandas as pd\n",
    "import dask as dd\n",
    "import numpy as np\n",
    "import seaborn as sns\n",
    "import matplotlib.pyplot as plt\n",
    "import datetime as dt\n",
    "import statsmodels.formula.api as smf\n",
    "\n",
    "from sklearn.linear_model import LogisticRegression\n",
    "\n",
    "import statsmodels.api as sm\n",
    "from statsmodels.genmod.generalized_linear_model import GLM\n",
    "from statsmodels.genmod import families\n",
    "from statsmodels.stats.outliers_influence import variance_inflation_factor\n",
    "\n",
    "from scipy import stats"
   ]
  },
  {
   "cell_type": "code",
   "execution_count": 2,
   "metadata": {},
   "outputs": [],
   "source": [
    "sns.set()"
   ]
  },
  {
   "cell_type": "markdown",
   "metadata": {},
   "source": [
    "## Filter out non automotive-related alliances"
   ]
  },
  {
   "cell_type": "code",
   "execution_count": 14,
   "metadata": {},
   "outputs": [],
   "source": [
    "df = pd.read_csv('../data.csv')\n",
    "df = df[df['psic'].notna()] #drop 45 NaN participant SIC, fix the issue by not solving it\n",
    "autoDF = df[df['psicp'].str.contains('3711')] #Create df who have at least one participant in the automotive industry with SIC: 3711\n",
    "autoDF = autoDF.drop('Unnamed: 0', axis=1)\n",
    "autoDF = autoDF.reset_index(drop=True)\n",
    "\n",
    "#Export\n",
    "autoDF.to_csv('./data/autodf.csv', index=False) #create csv sample"
   ]
  },
  {
   "cell_type": "markdown",
   "metadata": {},
   "source": [
    "## Data selection"
   ]
  },
  {
   "cell_type": "markdown",
   "metadata": {},
   "source": [
    "### Filter variables"
   ]
  },
  {
   "cell_type": "code",
   "execution_count": 17,
   "metadata": {},
   "outputs": [],
   "source": [
    "variables = [\"id\",\"activity\", \"activityc\", \"da\", \"jvinc\", \"jvindustry\", \"jvstatus\", \"p\", \"pbl\", \"pbuss\", \"psic\", \"psicp\", \"nump\", \"jvf\", \"jvtype\", \"rndf\", \"nump\", \"PBUSSOURCE\".lower(), \"HITECHC\".lower()]\n",
    "filteredDF = autoDF[variables]"
   ]
  },
  {
   "cell_type": "markdown",
   "metadata": {},
   "source": [
    "### Select timeframe"
   ]
  },
  {
   "cell_type": "code",
   "execution_count": null,
   "metadata": {},
   "outputs": [],
   "source": [
    "filteredDF['da'] = pd.to_datetime(filteredDF['da']) \n",
    "timedDF = filteredDF[(filteredDF['da'] >= '2002-01-01') & (filteredDF['da'] <= '2012-12-31')]\n",
    "timedDF.set_index('da', inplace=True, drop=True)\n",
    "\n",
    "#Export\n",
    "timedDF.to_csv('./data/JV_data_2002-2012.csv')"
   ]
  },
  {
   "cell_type": "markdown",
   "metadata": {},
   "source": [
    "## Feature engineering"
   ]
  },
  {
   "cell_type": "code",
   "execution_count": null,
   "metadata": {},
   "outputs": [],
   "source": []
  }
 ],
 "metadata": {
  "interpreter": {
   "hash": "aee8b7b246df8f9039afb4144a1f6fd8d2ca17a180786b69acc140d282b71a49"
  },
  "kernelspec": {
   "display_name": "Python 3.9.10 64-bit",
   "language": "python",
   "name": "python3"
  },
  "language_info": {
   "codemirror_mode": {
    "name": "ipython",
    "version": 3
   },
   "file_extension": ".py",
   "mimetype": "text/x-python",
   "name": "python",
   "nbconvert_exporter": "python",
   "pygments_lexer": "ipython3",
   "version": "3.9.10"
  },
  "orig_nbformat": 4
 },
 "nbformat": 4,
 "nbformat_minor": 2
}
